{
  "nbformat": 4,
  "nbformat_minor": 0,
  "metadata": {
    "colab": {
      "name": "covid_emergencies.ipynb",
      "provenance": [],
      "collapsed_sections": []
    },
    "kernelspec": {
      "name": "python3",
      "display_name": "Python 3"
    }
  },
  "cells": [
    {
      "cell_type": "code",
      "metadata": {
        "id": "fm7ruqyOhrSd",
        "colab_type": "code",
        "outputId": "55d84512-96b0-4d4e-8585-9acf2a9f3f2e",
        "colab": {
          "base_uri": "https://localhost:8080/",
          "height": 124
        }
      },
      "source": [
        "from google.colab import drive\n",
        "drive.mount('/content/drive')"
      ],
      "execution_count": 1,
      "outputs": [
        {
          "output_type": "stream",
          "text": [
            "Go to this URL in a browser: https://accounts.google.com/o/oauth2/auth?client_id=947318989803-6bn6qk8qdgf4n4g3pfee6491hc0brc4i.apps.googleusercontent.com&redirect_uri=urn%3aietf%3awg%3aoauth%3a2.0%3aoob&response_type=code&scope=email%20https%3a%2f%2fwww.googleapis.com%2fauth%2fdocs.test%20https%3a%2f%2fwww.googleapis.com%2fauth%2fdrive%20https%3a%2f%2fwww.googleapis.com%2fauth%2fdrive.photos.readonly%20https%3a%2f%2fwww.googleapis.com%2fauth%2fpeopleapi.readonly\n",
            "\n",
            "Enter your authorization code:\n",
            "··········\n",
            "Mounted at /content/drive\n"
          ],
          "name": "stdout"
        }
      ]
    },
    {
      "cell_type": "code",
      "metadata": {
        "id": "FQXAS-uhhzgl",
        "colab_type": "code",
        "colab": {}
      },
      "source": [
        "import pandas as pd\n",
        "import numpy as np\n",
        "from sklearn.linear_model import LinearRegression\n",
        "from tensorflow.keras.models import Sequential\n",
        "from tensorflow.keras.layers import Dense\n",
        "from tensorflow.keras.utils import to_categorical"
      ],
      "execution_count": 0,
      "outputs": []
    },
    {
      "cell_type": "code",
      "metadata": {
        "id": "Njy1sWTLh2oa",
        "colab_type": "code",
        "outputId": "62048b69-9ad5-4565-8c3b-a817cb5e8680",
        "colab": {
          "base_uri": "https://localhost:8080/",
          "height": 424
        }
      },
      "source": [
        "data = pd.read_csv('/content/drive/My Drive/Software_Engineering_Project/covid19-in-india/covid_19_india.csv')\n",
        "data"
      ],
      "execution_count": 90,
      "outputs": [
        {
          "output_type": "execute_result",
          "data": {
            "text/html": [
              "<div>\n",
              "<style scoped>\n",
              "    .dataframe tbody tr th:only-of-type {\n",
              "        vertical-align: middle;\n",
              "    }\n",
              "\n",
              "    .dataframe tbody tr th {\n",
              "        vertical-align: top;\n",
              "    }\n",
              "\n",
              "    .dataframe thead th {\n",
              "        text-align: right;\n",
              "    }\n",
              "</style>\n",
              "<table border=\"1\" class=\"dataframe\">\n",
              "  <thead>\n",
              "    <tr style=\"text-align: right;\">\n",
              "      <th></th>\n",
              "      <th>Sno</th>\n",
              "      <th>Date</th>\n",
              "      <th>Time</th>\n",
              "      <th>State/UnionTerritory</th>\n",
              "      <th>ConfirmedIndianNational</th>\n",
              "      <th>ConfirmedForeignNational</th>\n",
              "      <th>Cured</th>\n",
              "      <th>Deaths</th>\n",
              "      <th>Confirmed</th>\n",
              "    </tr>\n",
              "  </thead>\n",
              "  <tbody>\n",
              "    <tr>\n",
              "      <th>0</th>\n",
              "      <td>1</td>\n",
              "      <td>30/01/20</td>\n",
              "      <td>6:00 PM</td>\n",
              "      <td>Kerala</td>\n",
              "      <td>1</td>\n",
              "      <td>0</td>\n",
              "      <td>0</td>\n",
              "      <td>0</td>\n",
              "      <td>1</td>\n",
              "    </tr>\n",
              "    <tr>\n",
              "      <th>1</th>\n",
              "      <td>2</td>\n",
              "      <td>31/01/20</td>\n",
              "      <td>6:00 PM</td>\n",
              "      <td>Kerala</td>\n",
              "      <td>1</td>\n",
              "      <td>0</td>\n",
              "      <td>0</td>\n",
              "      <td>0</td>\n",
              "      <td>1</td>\n",
              "    </tr>\n",
              "    <tr>\n",
              "      <th>2</th>\n",
              "      <td>3</td>\n",
              "      <td>01/02/20</td>\n",
              "      <td>6:00 PM</td>\n",
              "      <td>Kerala</td>\n",
              "      <td>2</td>\n",
              "      <td>0</td>\n",
              "      <td>0</td>\n",
              "      <td>0</td>\n",
              "      <td>2</td>\n",
              "    </tr>\n",
              "    <tr>\n",
              "      <th>3</th>\n",
              "      <td>4</td>\n",
              "      <td>02/02/20</td>\n",
              "      <td>6:00 PM</td>\n",
              "      <td>Kerala</td>\n",
              "      <td>3</td>\n",
              "      <td>0</td>\n",
              "      <td>0</td>\n",
              "      <td>0</td>\n",
              "      <td>3</td>\n",
              "    </tr>\n",
              "    <tr>\n",
              "      <th>4</th>\n",
              "      <td>5</td>\n",
              "      <td>03/02/20</td>\n",
              "      <td>6:00 PM</td>\n",
              "      <td>Kerala</td>\n",
              "      <td>3</td>\n",
              "      <td>0</td>\n",
              "      <td>0</td>\n",
              "      <td>0</td>\n",
              "      <td>3</td>\n",
              "    </tr>\n",
              "    <tr>\n",
              "      <th>...</th>\n",
              "      <td>...</td>\n",
              "      <td>...</td>\n",
              "      <td>...</td>\n",
              "      <td>...</td>\n",
              "      <td>...</td>\n",
              "      <td>...</td>\n",
              "      <td>...</td>\n",
              "      <td>...</td>\n",
              "      <td>...</td>\n",
              "    </tr>\n",
              "    <tr>\n",
              "      <th>1185</th>\n",
              "      <td>1186</td>\n",
              "      <td>21/04/20</td>\n",
              "      <td>5:00 PM</td>\n",
              "      <td>Telengana</td>\n",
              "      <td>-</td>\n",
              "      <td>-</td>\n",
              "      <td>190</td>\n",
              "      <td>23</td>\n",
              "      <td>919</td>\n",
              "    </tr>\n",
              "    <tr>\n",
              "      <th>1186</th>\n",
              "      <td>1187</td>\n",
              "      <td>21/04/20</td>\n",
              "      <td>5:00 PM</td>\n",
              "      <td>Tripura</td>\n",
              "      <td>-</td>\n",
              "      <td>-</td>\n",
              "      <td>1</td>\n",
              "      <td>0</td>\n",
              "      <td>2</td>\n",
              "    </tr>\n",
              "    <tr>\n",
              "      <th>1187</th>\n",
              "      <td>1188</td>\n",
              "      <td>21/04/20</td>\n",
              "      <td>5:00 PM</td>\n",
              "      <td>Uttarakhand</td>\n",
              "      <td>-</td>\n",
              "      <td>-</td>\n",
              "      <td>18</td>\n",
              "      <td>0</td>\n",
              "      <td>46</td>\n",
              "    </tr>\n",
              "    <tr>\n",
              "      <th>1188</th>\n",
              "      <td>1189</td>\n",
              "      <td>21/04/20</td>\n",
              "      <td>5:00 PM</td>\n",
              "      <td>Uttar Pradesh</td>\n",
              "      <td>-</td>\n",
              "      <td>-</td>\n",
              "      <td>140</td>\n",
              "      <td>20</td>\n",
              "      <td>1294</td>\n",
              "    </tr>\n",
              "    <tr>\n",
              "      <th>1189</th>\n",
              "      <td>1190</td>\n",
              "      <td>21/04/20</td>\n",
              "      <td>5:00 PM</td>\n",
              "      <td>West Bengal</td>\n",
              "      <td>-</td>\n",
              "      <td>-</td>\n",
              "      <td>73</td>\n",
              "      <td>12</td>\n",
              "      <td>392</td>\n",
              "    </tr>\n",
              "  </tbody>\n",
              "</table>\n",
              "<p>1190 rows × 9 columns</p>\n",
              "</div>"
            ],
            "text/plain": [
              "       Sno      Date     Time  ... Cured Deaths Confirmed\n",
              "0        1  30/01/20  6:00 PM  ...     0      0         1\n",
              "1        2  31/01/20  6:00 PM  ...     0      0         1\n",
              "2        3  01/02/20  6:00 PM  ...     0      0         2\n",
              "3        4  02/02/20  6:00 PM  ...     0      0         3\n",
              "4        5  03/02/20  6:00 PM  ...     0      0         3\n",
              "...    ...       ...      ...  ...   ...    ...       ...\n",
              "1185  1186  21/04/20  5:00 PM  ...   190     23       919\n",
              "1186  1187  21/04/20  5:00 PM  ...     1      0         2\n",
              "1187  1188  21/04/20  5:00 PM  ...    18      0        46\n",
              "1188  1189  21/04/20  5:00 PM  ...   140     20      1294\n",
              "1189  1190  21/04/20  5:00 PM  ...    73     12       392\n",
              "\n",
              "[1190 rows x 9 columns]"
            ]
          },
          "metadata": {
            "tags": []
          },
          "execution_count": 90
        }
      ]
    },
    {
      "cell_type": "code",
      "metadata": {
        "id": "WQeOzm0UICeH",
        "colab_type": "code",
        "outputId": "2ea53785-6152-464b-c75b-147bc6e6e2a9",
        "colab": {
          "base_uri": "https://localhost:8080/",
          "height": 191
        }
      },
      "source": [
        "data.loc[981]"
      ],
      "execution_count": 4,
      "outputs": [
        {
          "output_type": "execute_result",
          "data": {
            "text/plain": [
              "Sno                               982\n",
              "Date                         15/04/20\n",
              "Time                          5:00 PM\n",
              "State/UnionTerritory        Nagaland#\n",
              "ConfirmedIndianNational             -\n",
              "ConfirmedForeignNational            -\n",
              "Cured                               0\n",
              "Deaths                              0\n",
              "Confirmed                           0\n",
              "Name: 981, dtype: object"
            ]
          },
          "metadata": {
            "tags": []
          },
          "execution_count": 4
        }
      ]
    },
    {
      "cell_type": "markdown",
      "metadata": {
        "id": "acPCqoDaII-8",
        "colab_type": "text"
      },
      "source": [
        "# Removing special characters from names"
      ]
    },
    {
      "cell_type": "code",
      "metadata": {
        "id": "nF5Jz7CNC8hD",
        "colab_type": "code",
        "colab": {}
      },
      "source": [
        "import re\n",
        "state_uts = []\n",
        "for index,row in data.iterrows():\n",
        "  state_ut = row['State/UnionTerritory']\n",
        "  state_ut = re.sub('[^A-Za-z0-9]+', '', state_ut)\n",
        "  state_uts.append(state_ut)\n"
      ],
      "execution_count": 0,
      "outputs": []
    },
    {
      "cell_type": "markdown",
      "metadata": {
        "id": "yQyhFa16IRNf",
        "colab_type": "text"
      },
      "source": [
        "# Printing refined data"
      ]
    },
    {
      "cell_type": "code",
      "metadata": {
        "id": "QToVd_TJD6pk",
        "colab_type": "code",
        "outputId": "ae4580d2-12f2-4d9a-e78f-92f0e15ba1c3",
        "colab": {
          "base_uri": "https://localhost:8080/",
          "height": 424
        }
      },
      "source": [
        "data['State/UnionTerritory'] = state_uts\n",
        "data"
      ],
      "execution_count": 92,
      "outputs": [
        {
          "output_type": "execute_result",
          "data": {
            "text/html": [
              "<div>\n",
              "<style scoped>\n",
              "    .dataframe tbody tr th:only-of-type {\n",
              "        vertical-align: middle;\n",
              "    }\n",
              "\n",
              "    .dataframe tbody tr th {\n",
              "        vertical-align: top;\n",
              "    }\n",
              "\n",
              "    .dataframe thead th {\n",
              "        text-align: right;\n",
              "    }\n",
              "</style>\n",
              "<table border=\"1\" class=\"dataframe\">\n",
              "  <thead>\n",
              "    <tr style=\"text-align: right;\">\n",
              "      <th></th>\n",
              "      <th>Sno</th>\n",
              "      <th>Date</th>\n",
              "      <th>Time</th>\n",
              "      <th>State/UnionTerritory</th>\n",
              "      <th>ConfirmedIndianNational</th>\n",
              "      <th>ConfirmedForeignNational</th>\n",
              "      <th>Cured</th>\n",
              "      <th>Deaths</th>\n",
              "      <th>Confirmed</th>\n",
              "    </tr>\n",
              "  </thead>\n",
              "  <tbody>\n",
              "    <tr>\n",
              "      <th>0</th>\n",
              "      <td>1</td>\n",
              "      <td>30/01/20</td>\n",
              "      <td>6:00 PM</td>\n",
              "      <td>Kerala</td>\n",
              "      <td>1</td>\n",
              "      <td>0</td>\n",
              "      <td>0</td>\n",
              "      <td>0</td>\n",
              "      <td>1</td>\n",
              "    </tr>\n",
              "    <tr>\n",
              "      <th>1</th>\n",
              "      <td>2</td>\n",
              "      <td>31/01/20</td>\n",
              "      <td>6:00 PM</td>\n",
              "      <td>Kerala</td>\n",
              "      <td>1</td>\n",
              "      <td>0</td>\n",
              "      <td>0</td>\n",
              "      <td>0</td>\n",
              "      <td>1</td>\n",
              "    </tr>\n",
              "    <tr>\n",
              "      <th>2</th>\n",
              "      <td>3</td>\n",
              "      <td>01/02/20</td>\n",
              "      <td>6:00 PM</td>\n",
              "      <td>Kerala</td>\n",
              "      <td>2</td>\n",
              "      <td>0</td>\n",
              "      <td>0</td>\n",
              "      <td>0</td>\n",
              "      <td>2</td>\n",
              "    </tr>\n",
              "    <tr>\n",
              "      <th>3</th>\n",
              "      <td>4</td>\n",
              "      <td>02/02/20</td>\n",
              "      <td>6:00 PM</td>\n",
              "      <td>Kerala</td>\n",
              "      <td>3</td>\n",
              "      <td>0</td>\n",
              "      <td>0</td>\n",
              "      <td>0</td>\n",
              "      <td>3</td>\n",
              "    </tr>\n",
              "    <tr>\n",
              "      <th>4</th>\n",
              "      <td>5</td>\n",
              "      <td>03/02/20</td>\n",
              "      <td>6:00 PM</td>\n",
              "      <td>Kerala</td>\n",
              "      <td>3</td>\n",
              "      <td>0</td>\n",
              "      <td>0</td>\n",
              "      <td>0</td>\n",
              "      <td>3</td>\n",
              "    </tr>\n",
              "    <tr>\n",
              "      <th>...</th>\n",
              "      <td>...</td>\n",
              "      <td>...</td>\n",
              "      <td>...</td>\n",
              "      <td>...</td>\n",
              "      <td>...</td>\n",
              "      <td>...</td>\n",
              "      <td>...</td>\n",
              "      <td>...</td>\n",
              "      <td>...</td>\n",
              "    </tr>\n",
              "    <tr>\n",
              "      <th>1185</th>\n",
              "      <td>1186</td>\n",
              "      <td>21/04/20</td>\n",
              "      <td>5:00 PM</td>\n",
              "      <td>Telengana</td>\n",
              "      <td>-</td>\n",
              "      <td>-</td>\n",
              "      <td>190</td>\n",
              "      <td>23</td>\n",
              "      <td>919</td>\n",
              "    </tr>\n",
              "    <tr>\n",
              "      <th>1186</th>\n",
              "      <td>1187</td>\n",
              "      <td>21/04/20</td>\n",
              "      <td>5:00 PM</td>\n",
              "      <td>Tripura</td>\n",
              "      <td>-</td>\n",
              "      <td>-</td>\n",
              "      <td>1</td>\n",
              "      <td>0</td>\n",
              "      <td>2</td>\n",
              "    </tr>\n",
              "    <tr>\n",
              "      <th>1187</th>\n",
              "      <td>1188</td>\n",
              "      <td>21/04/20</td>\n",
              "      <td>5:00 PM</td>\n",
              "      <td>Uttarakhand</td>\n",
              "      <td>-</td>\n",
              "      <td>-</td>\n",
              "      <td>18</td>\n",
              "      <td>0</td>\n",
              "      <td>46</td>\n",
              "    </tr>\n",
              "    <tr>\n",
              "      <th>1188</th>\n",
              "      <td>1189</td>\n",
              "      <td>21/04/20</td>\n",
              "      <td>5:00 PM</td>\n",
              "      <td>UttarPradesh</td>\n",
              "      <td>-</td>\n",
              "      <td>-</td>\n",
              "      <td>140</td>\n",
              "      <td>20</td>\n",
              "      <td>1294</td>\n",
              "    </tr>\n",
              "    <tr>\n",
              "      <th>1189</th>\n",
              "      <td>1190</td>\n",
              "      <td>21/04/20</td>\n",
              "      <td>5:00 PM</td>\n",
              "      <td>WestBengal</td>\n",
              "      <td>-</td>\n",
              "      <td>-</td>\n",
              "      <td>73</td>\n",
              "      <td>12</td>\n",
              "      <td>392</td>\n",
              "    </tr>\n",
              "  </tbody>\n",
              "</table>\n",
              "<p>1190 rows × 9 columns</p>\n",
              "</div>"
            ],
            "text/plain": [
              "       Sno      Date     Time  ... Cured Deaths Confirmed\n",
              "0        1  30/01/20  6:00 PM  ...     0      0         1\n",
              "1        2  31/01/20  6:00 PM  ...     0      0         1\n",
              "2        3  01/02/20  6:00 PM  ...     0      0         2\n",
              "3        4  02/02/20  6:00 PM  ...     0      0         3\n",
              "4        5  03/02/20  6:00 PM  ...     0      0         3\n",
              "...    ...       ...      ...  ...   ...    ...       ...\n",
              "1185  1186  21/04/20  5:00 PM  ...   190     23       919\n",
              "1186  1187  21/04/20  5:00 PM  ...     1      0         2\n",
              "1187  1188  21/04/20  5:00 PM  ...    18      0        46\n",
              "1188  1189  21/04/20  5:00 PM  ...   140     20      1294\n",
              "1189  1190  21/04/20  5:00 PM  ...    73     12       392\n",
              "\n",
              "[1190 rows x 9 columns]"
            ]
          },
          "metadata": {
            "tags": []
          },
          "execution_count": 92
        }
      ]
    },
    {
      "cell_type": "code",
      "metadata": {
        "id": "uzxvKBmVIgie",
        "colab_type": "code",
        "outputId": "9d074128-0556-4198-c3c2-5051e75d930c",
        "colab": {
          "base_uri": "https://localhost:8080/",
          "height": 191
        }
      },
      "source": [
        "data.loc[981]"
      ],
      "execution_count": 7,
      "outputs": [
        {
          "output_type": "execute_result",
          "data": {
            "text/plain": [
              "Sno                              982\n",
              "Date                        15/04/20\n",
              "Time                         5:00 PM\n",
              "State/UnionTerritory        Nagaland\n",
              "ConfirmedIndianNational            -\n",
              "ConfirmedForeignNational           -\n",
              "Cured                              0\n",
              "Deaths                             0\n",
              "Confirmed                          0\n",
              "Name: 981, dtype: object"
            ]
          },
          "metadata": {
            "tags": []
          },
          "execution_count": 7
        }
      ]
    },
    {
      "cell_type": "code",
      "metadata": {
        "id": "IlPKRvpOiU7w",
        "colab_type": "code",
        "outputId": "c5fb1b80-cfc3-4538-d9ac-8b05d1f378e1",
        "colab": {
          "base_uri": "https://localhost:8080/",
          "height": 34
        }
      },
      "source": [
        "kerala = data[data['State/UnionTerritory']=='Kerala']\n",
        "len(kerala)"
      ],
      "execution_count": 93,
      "outputs": [
        {
          "output_type": "execute_result",
          "data": {
            "text/plain": [
              "83"
            ]
          },
          "metadata": {
            "tags": []
          },
          "execution_count": 93
        }
      ]
    },
    {
      "cell_type": "code",
      "metadata": {
        "id": "3dhqPTG1rGcI",
        "colab_type": "code",
        "outputId": "b7b471c7-2ba4-44ab-c3c5-7ff478cfbc05",
        "colab": {
          "base_uri": "https://localhost:8080/",
          "height": 34
        }
      },
      "source": [
        "bengal = data[data['State/UnionTerritory']=='WestBengal']\n",
        "len(bengal)"
      ],
      "execution_count": 0,
      "outputs": [
        {
          "output_type": "execute_result",
          "data": {
            "text/plain": [
              "35"
            ]
          },
          "metadata": {
            "tags": []
          },
          "execution_count": 195
        }
      ]
    },
    {
      "cell_type": "markdown",
      "metadata": {
        "id": "IhMhGV3VIY2b",
        "colab_type": "text"
      },
      "source": [
        "# Storing the unique states and total time frame"
      ]
    },
    {
      "cell_type": "code",
      "metadata": {
        "id": "pysAgd6TtKZy",
        "colab_type": "code",
        "outputId": "afefaded-24b6-4035-e8c0-6d8f44c6120c",
        "colab": {
          "base_uri": "https://localhost:8080/",
          "height": 52
        }
      },
      "source": [
        "unique_dates = data['Date'].unique().tolist()\n",
        "unique_states = set(data['State/UnionTerritory'].tolist())\n",
        "print(len(unique_dates))\n",
        "print(len(unique_states))\n",
        "# unique_states"
      ],
      "execution_count": 94,
      "outputs": [
        {
          "output_type": "stream",
          "text": [
            "83\n",
            "34\n"
          ],
          "name": "stdout"
        }
      ]
    },
    {
      "cell_type": "code",
      "metadata": {
        "id": "cePBmX6msRUN",
        "colab_type": "code",
        "outputId": "f7442af1-5862-4a33-b61e-5bf275bd3481",
        "colab": {
          "base_uri": "https://localhost:8080/",
          "height": 424
        }
      },
      "source": [
        "df1 = pd.DataFrame(columns = ['Date', 'Confirmed'])\n",
        "df1['Date'] = unique_dates\n",
        "df1['Confirmed'] = 0\n",
        "df1"
      ],
      "execution_count": 95,
      "outputs": [
        {
          "output_type": "execute_result",
          "data": {
            "text/html": [
              "<div>\n",
              "<style scoped>\n",
              "    .dataframe tbody tr th:only-of-type {\n",
              "        vertical-align: middle;\n",
              "    }\n",
              "\n",
              "    .dataframe tbody tr th {\n",
              "        vertical-align: top;\n",
              "    }\n",
              "\n",
              "    .dataframe thead th {\n",
              "        text-align: right;\n",
              "    }\n",
              "</style>\n",
              "<table border=\"1\" class=\"dataframe\">\n",
              "  <thead>\n",
              "    <tr style=\"text-align: right;\">\n",
              "      <th></th>\n",
              "      <th>Date</th>\n",
              "      <th>Confirmed</th>\n",
              "    </tr>\n",
              "  </thead>\n",
              "  <tbody>\n",
              "    <tr>\n",
              "      <th>0</th>\n",
              "      <td>30/01/20</td>\n",
              "      <td>0</td>\n",
              "    </tr>\n",
              "    <tr>\n",
              "      <th>1</th>\n",
              "      <td>31/01/20</td>\n",
              "      <td>0</td>\n",
              "    </tr>\n",
              "    <tr>\n",
              "      <th>2</th>\n",
              "      <td>01/02/20</td>\n",
              "      <td>0</td>\n",
              "    </tr>\n",
              "    <tr>\n",
              "      <th>3</th>\n",
              "      <td>02/02/20</td>\n",
              "      <td>0</td>\n",
              "    </tr>\n",
              "    <tr>\n",
              "      <th>4</th>\n",
              "      <td>03/02/20</td>\n",
              "      <td>0</td>\n",
              "    </tr>\n",
              "    <tr>\n",
              "      <th>...</th>\n",
              "      <td>...</td>\n",
              "      <td>...</td>\n",
              "    </tr>\n",
              "    <tr>\n",
              "      <th>78</th>\n",
              "      <td>17/04/20</td>\n",
              "      <td>0</td>\n",
              "    </tr>\n",
              "    <tr>\n",
              "      <th>79</th>\n",
              "      <td>18/04/20</td>\n",
              "      <td>0</td>\n",
              "    </tr>\n",
              "    <tr>\n",
              "      <th>80</th>\n",
              "      <td>19/04/20</td>\n",
              "      <td>0</td>\n",
              "    </tr>\n",
              "    <tr>\n",
              "      <th>81</th>\n",
              "      <td>20/04/20</td>\n",
              "      <td>0</td>\n",
              "    </tr>\n",
              "    <tr>\n",
              "      <th>82</th>\n",
              "      <td>21/04/20</td>\n",
              "      <td>0</td>\n",
              "    </tr>\n",
              "  </tbody>\n",
              "</table>\n",
              "<p>83 rows × 2 columns</p>\n",
              "</div>"
            ],
            "text/plain": [
              "        Date  Confirmed\n",
              "0   30/01/20          0\n",
              "1   31/01/20          0\n",
              "2   01/02/20          0\n",
              "3   02/02/20          0\n",
              "4   03/02/20          0\n",
              "..       ...        ...\n",
              "78  17/04/20          0\n",
              "79  18/04/20          0\n",
              "80  19/04/20          0\n",
              "81  20/04/20          0\n",
              "82  21/04/20          0\n",
              "\n",
              "[83 rows x 2 columns]"
            ]
          },
          "metadata": {
            "tags": []
          },
          "execution_count": 95
        }
      ]
    },
    {
      "cell_type": "markdown",
      "metadata": {
        "id": "8z-cvSd1IiTm",
        "colab_type": "text"
      },
      "source": [
        "# Creating a dictionary using the number of cases in the different states"
      ]
    },
    {
      "cell_type": "code",
      "metadata": {
        "id": "TI9bJKupBt5C",
        "colab_type": "code",
        "colab": {}
      },
      "source": [
        "final = {}\n",
        "for state in unique_states:\n",
        "  dates = []\n",
        "  confirmeds = []\n",
        "  df2 = pd.DataFrame()\n",
        "  for index, row in df1.iterrows():\n",
        "    datevalue = row['Date']\n",
        "    dates.append(datevalue)\n",
        "    a = data[(data['State/UnionTerritory']==state) & (data['Date']==datevalue)]\n",
        "    if(a.empty):\n",
        "      confirmeds.append(0)\n",
        "    else:\n",
        "      conf = (a['Confirmed'].values[0])\n",
        "      confirmeds.append(conf)\n",
        "  df2 = pd.DataFrame()\n",
        "  df2['Date'] = dates\n",
        "  df2['Confirmed'] = confirmeds\n",
        "  final[state] = df2\n"
      ],
      "execution_count": 0,
      "outputs": []
    },
    {
      "cell_type": "code",
      "metadata": {
        "id": "7MBpGh_dLFDh",
        "colab_type": "code",
        "outputId": "7a3bca5a-4bf5-4bf1-c6ef-981d738906e5",
        "colab": {
          "base_uri": "https://localhost:8080/",
          "height": 1000
        }
      },
      "source": [
        "final"
      ],
      "execution_count": 97,
      "outputs": [
        {
          "output_type": "execute_result",
          "data": {
            "text/plain": [
              "{'AndamanandNicobarIslands':         Date  Confirmed\n",
              " 0   30/01/20          0\n",
              " 1   31/01/20          0\n",
              " 2   01/02/20          0\n",
              " 3   02/02/20          0\n",
              " 4   03/02/20          0\n",
              " ..       ...        ...\n",
              " 78  17/04/20         11\n",
              " 79  18/04/20         12\n",
              " 80  19/04/20         14\n",
              " 81  20/04/20         15\n",
              " 82  21/04/20         16\n",
              " \n",
              " [83 rows x 2 columns], 'AndhraPradesh':         Date  Confirmed\n",
              " 0   30/01/20          0\n",
              " 1   31/01/20          0\n",
              " 2   01/02/20          0\n",
              " 3   02/02/20          0\n",
              " 4   03/02/20          0\n",
              " ..       ...        ...\n",
              " 78  17/04/20        572\n",
              " 79  18/04/20        603\n",
              " 80  19/04/20        603\n",
              " 81  20/04/20        722\n",
              " 82  21/04/20        757\n",
              " \n",
              " [83 rows x 2 columns], 'ArunachalPradesh':         Date  Confirmed\n",
              " 0   30/01/20          0\n",
              " 1   31/01/20          0\n",
              " 2   01/02/20          0\n",
              " 3   02/02/20          0\n",
              " 4   03/02/20          0\n",
              " ..       ...        ...\n",
              " 78  17/04/20          1\n",
              " 79  18/04/20          1\n",
              " 80  19/04/20          1\n",
              " 81  20/04/20          1\n",
              " 82  21/04/20          1\n",
              " \n",
              " [83 rows x 2 columns], 'Assam':         Date  Confirmed\n",
              " 0   30/01/20          0\n",
              " 1   31/01/20          0\n",
              " 2   01/02/20          0\n",
              " 3   02/02/20          0\n",
              " 4   03/02/20          0\n",
              " ..       ...        ...\n",
              " 78  17/04/20         35\n",
              " 79  18/04/20         35\n",
              " 80  19/04/20         35\n",
              " 81  20/04/20         35\n",
              " 82  21/04/20         35\n",
              " \n",
              " [83 rows x 2 columns], 'Bihar':         Date  Confirmed\n",
              " 0   30/01/20          0\n",
              " 1   31/01/20          0\n",
              " 2   01/02/20          0\n",
              " 3   02/02/20          0\n",
              " 4   03/02/20          0\n",
              " ..       ...        ...\n",
              " 78  17/04/20         83\n",
              " 79  18/04/20         85\n",
              " 80  19/04/20         86\n",
              " 81  20/04/20         96\n",
              " 82  21/04/20        114\n",
              " \n",
              " [83 rows x 2 columns], 'Chandigarh':         Date  Confirmed\n",
              " 0   30/01/20          0\n",
              " 1   31/01/20          0\n",
              " 2   01/02/20          0\n",
              " 3   02/02/20          0\n",
              " 4   03/02/20          0\n",
              " ..       ...        ...\n",
              " 78  17/04/20         21\n",
              " 79  18/04/20         21\n",
              " 80  19/04/20         23\n",
              " 81  20/04/20         26\n",
              " 82  21/04/20         26\n",
              " \n",
              " [83 rows x 2 columns], 'Chhattisgarh':         Date  Confirmed\n",
              " 0   30/01/20          0\n",
              " 1   31/01/20          0\n",
              " 2   01/02/20          0\n",
              " 3   02/02/20          0\n",
              " 4   03/02/20          0\n",
              " ..       ...        ...\n",
              " 78  17/04/20         36\n",
              " 79  18/04/20         36\n",
              " 80  19/04/20         36\n",
              " 81  20/04/20         36\n",
              " 82  21/04/20         36\n",
              " \n",
              " [83 rows x 2 columns], 'Delhi':         Date  Confirmed\n",
              " 0   30/01/20          0\n",
              " 1   31/01/20          0\n",
              " 2   01/02/20          0\n",
              " 3   02/02/20          0\n",
              " 4   03/02/20          0\n",
              " ..       ...        ...\n",
              " 78  17/04/20       1640\n",
              " 79  18/04/20       1707\n",
              " 80  19/04/20       1893\n",
              " 81  20/04/20       2003\n",
              " 82  21/04/20       2081\n",
              " \n",
              " [83 rows x 2 columns], 'Goa':         Date  Confirmed\n",
              " 0   30/01/20          0\n",
              " 1   31/01/20          0\n",
              " 2   01/02/20          0\n",
              " 3   02/02/20          0\n",
              " 4   03/02/20          0\n",
              " ..       ...        ...\n",
              " 78  17/04/20          7\n",
              " 79  18/04/20          7\n",
              " 80  19/04/20          7\n",
              " 81  20/04/20          7\n",
              " 82  21/04/20          7\n",
              " \n",
              " [83 rows x 2 columns], 'Gujarat':         Date  Confirmed\n",
              " 0   30/01/20          0\n",
              " 1   31/01/20          0\n",
              " 2   01/02/20          0\n",
              " 3   02/02/20          0\n",
              " 4   03/02/20          0\n",
              " ..       ...        ...\n",
              " 78  17/04/20       1021\n",
              " 79  18/04/20       1272\n",
              " 80  19/04/20       1604\n",
              " 81  20/04/20       1851\n",
              " 82  21/04/20       2066\n",
              " \n",
              " [83 rows x 2 columns], 'Haryana':         Date  Confirmed\n",
              " 0   30/01/20          0\n",
              " 1   31/01/20          0\n",
              " 2   01/02/20          0\n",
              " 3   02/02/20          0\n",
              " 4   03/02/20          0\n",
              " ..       ...        ...\n",
              " 78  17/04/20        205\n",
              " 79  18/04/20        225\n",
              " 80  19/04/20        233\n",
              " 81  20/04/20        233\n",
              " 82  21/04/20        254\n",
              " \n",
              " [83 rows x 2 columns], 'HimachalPradesh':         Date  Confirmed\n",
              " 0   30/01/20          0\n",
              " 1   31/01/20          0\n",
              " 2   01/02/20          0\n",
              " 3   02/02/20          0\n",
              " 4   03/02/20          0\n",
              " ..       ...        ...\n",
              " 78  17/04/20         35\n",
              " 79  18/04/20         38\n",
              " 80  19/04/20         39\n",
              " 81  20/04/20         39\n",
              " 82  21/04/20         39\n",
              " \n",
              " [83 rows x 2 columns], 'JammuandKashmir':         Date  Confirmed\n",
              " 0   30/01/20          0\n",
              " 1   31/01/20          0\n",
              " 2   01/02/20          0\n",
              " 3   02/02/20          0\n",
              " 4   03/02/20          0\n",
              " ..       ...        ...\n",
              " 78  17/04/20        314\n",
              " 79  18/04/20        328\n",
              " 80  19/04/20        341\n",
              " 81  20/04/20        350\n",
              " 82  21/04/20        368\n",
              " \n",
              " [83 rows x 2 columns], 'Jharkhand':         Date  Confirmed\n",
              " 0   30/01/20          0\n",
              " 1   31/01/20          0\n",
              " 2   01/02/20          0\n",
              " 3   02/02/20          0\n",
              " 4   03/02/20          0\n",
              " ..       ...        ...\n",
              " 78  17/04/20         29\n",
              " 79  18/04/20         33\n",
              " 80  19/04/20         35\n",
              " 81  20/04/20         42\n",
              " 82  21/04/20         46\n",
              " \n",
              " [83 rows x 2 columns], 'Karnataka':         Date  Confirmed\n",
              " 0   30/01/20          0\n",
              " 1   31/01/20          0\n",
              " 2   01/02/20          0\n",
              " 3   02/02/20          0\n",
              " 4   03/02/20          0\n",
              " ..       ...        ...\n",
              " 78  17/04/20        353\n",
              " 79  18/04/20        371\n",
              " 80  19/04/20        384\n",
              " 81  20/04/20        395\n",
              " 82  21/04/20        415\n",
              " \n",
              " [83 rows x 2 columns], 'Kerala':         Date  Confirmed\n",
              " 0   30/01/20          1\n",
              " 1   31/01/20          1\n",
              " 2   01/02/20          2\n",
              " 3   02/02/20          3\n",
              " 4   03/02/20          3\n",
              " ..       ...        ...\n",
              " 78  17/04/20        395\n",
              " 79  18/04/20        396\n",
              " 80  19/04/20        400\n",
              " 81  20/04/20        402\n",
              " 82  21/04/20        408\n",
              " \n",
              " [83 rows x 2 columns], 'Ladakh':         Date  Confirmed\n",
              " 0   30/01/20          0\n",
              " 1   31/01/20          0\n",
              " 2   01/02/20          0\n",
              " 3   02/02/20          0\n",
              " 4   03/02/20          0\n",
              " ..       ...        ...\n",
              " 78  17/04/20         18\n",
              " 79  18/04/20         18\n",
              " 80  19/04/20         18\n",
              " 81  20/04/20         18\n",
              " 82  21/04/20         18\n",
              " \n",
              " [83 rows x 2 columns], 'MadhyaPradesh':         Date  Confirmed\n",
              " 0   30/01/20          0\n",
              " 1   31/01/20          0\n",
              " 2   01/02/20          0\n",
              " 3   02/02/20          0\n",
              " 4   03/02/20          0\n",
              " ..       ...        ...\n",
              " 78  17/04/20       1308\n",
              " 79  18/04/20       1355\n",
              " 80  19/04/20       1407\n",
              " 81  20/04/20       1485\n",
              " 82  21/04/20       1540\n",
              " \n",
              " [83 rows x 2 columns], 'Maharashtra':         Date  Confirmed\n",
              " 0   30/01/20          0\n",
              " 1   31/01/20          0\n",
              " 2   01/02/20          0\n",
              " 3   02/02/20          0\n",
              " 4   03/02/20          0\n",
              " ..       ...        ...\n",
              " 78  17/04/20       3205\n",
              " 79  18/04/20       3323\n",
              " 80  19/04/20       3651\n",
              " 81  20/04/20       4203\n",
              " 82  21/04/20       4669\n",
              " \n",
              " [83 rows x 2 columns], 'Manipur':         Date  Confirmed\n",
              " 0   30/01/20          0\n",
              " 1   31/01/20          0\n",
              " 2   01/02/20          0\n",
              " 3   02/02/20          0\n",
              " 4   03/02/20          0\n",
              " ..       ...        ...\n",
              " 78  17/04/20          2\n",
              " 79  18/04/20          2\n",
              " 80  19/04/20          2\n",
              " 81  20/04/20          2\n",
              " 82  21/04/20          2\n",
              " \n",
              " [83 rows x 2 columns], 'Meghalaya':         Date  Confirmed\n",
              " 0   30/01/20          0\n",
              " 1   31/01/20          0\n",
              " 2   01/02/20          0\n",
              " 3   02/02/20          0\n",
              " 4   03/02/20          0\n",
              " ..       ...        ...\n",
              " 78  17/04/20          9\n",
              " 79  18/04/20         11\n",
              " 80  19/04/20         11\n",
              " 81  20/04/20         11\n",
              " 82  21/04/20         11\n",
              " \n",
              " [83 rows x 2 columns], 'Mizoram':         Date  Confirmed\n",
              " 0   30/01/20          0\n",
              " 1   31/01/20          0\n",
              " 2   01/02/20          0\n",
              " 3   02/02/20          0\n",
              " 4   03/02/20          0\n",
              " ..       ...        ...\n",
              " 78  17/04/20          1\n",
              " 79  18/04/20          1\n",
              " 80  19/04/20          1\n",
              " 81  20/04/20          1\n",
              " 82  21/04/20          1\n",
              " \n",
              " [83 rows x 2 columns], 'Nagaland':         Date  Confirmed\n",
              " 0   30/01/20          0\n",
              " 1   31/01/20          0\n",
              " 2   01/02/20          0\n",
              " 3   02/02/20          0\n",
              " 4   03/02/20          0\n",
              " ..       ...        ...\n",
              " 78  17/04/20          0\n",
              " 79  18/04/20          0\n",
              " 80  19/04/20          0\n",
              " 81  20/04/20          0\n",
              " 82  21/04/20          0\n",
              " \n",
              " [83 rows x 2 columns], 'Odisha':         Date  Confirmed\n",
              " 0   30/01/20          0\n",
              " 1   31/01/20          0\n",
              " 2   01/02/20          0\n",
              " 3   02/02/20          0\n",
              " 4   03/02/20          0\n",
              " ..       ...        ...\n",
              " 78  17/04/20         60\n",
              " 79  18/04/20         60\n",
              " 80  19/04/20         61\n",
              " 81  20/04/20         68\n",
              " 82  21/04/20         74\n",
              " \n",
              " [83 rows x 2 columns], 'Puducherry':         Date  Confirmed\n",
              " 0   30/01/20          0\n",
              " 1   31/01/20          0\n",
              " 2   01/02/20          0\n",
              " 3   02/02/20          0\n",
              " 4   03/02/20          0\n",
              " ..       ...        ...\n",
              " 78  17/04/20          7\n",
              " 79  18/04/20          7\n",
              " 80  19/04/20          7\n",
              " 81  20/04/20          7\n",
              " 82  21/04/20          7\n",
              " \n",
              " [83 rows x 2 columns], 'Punjab':         Date  Confirmed\n",
              " 0   30/01/20          0\n",
              " 1   31/01/20          0\n",
              " 2   01/02/20          0\n",
              " 3   02/02/20          0\n",
              " 4   03/02/20          0\n",
              " ..       ...        ...\n",
              " 78  17/04/20        186\n",
              " 79  18/04/20        202\n",
              " 80  19/04/20        219\n",
              " 81  20/04/20        219\n",
              " 82  21/04/20        245\n",
              " \n",
              " [83 rows x 2 columns], 'Rajasthan':         Date  Confirmed\n",
              " 0   30/01/20          0\n",
              " 1   31/01/20          0\n",
              " 2   01/02/20          0\n",
              " 3   02/02/20          0\n",
              " 4   03/02/20          0\n",
              " ..       ...        ...\n",
              " 78  17/04/20       1131\n",
              " 79  18/04/20       1229\n",
              " 80  19/04/20       1351\n",
              " 81  20/04/20       1478\n",
              " 82  21/04/20       1576\n",
              " \n",
              " [83 rows x 2 columns], 'TamilNadu':         Date  Confirmed\n",
              " 0   30/01/20          0\n",
              " 1   31/01/20          0\n",
              " 2   01/02/20          0\n",
              " 3   02/02/20          0\n",
              " 4   03/02/20          0\n",
              " ..       ...        ...\n",
              " 78  17/04/20       1267\n",
              " 79  18/04/20       1323\n",
              " 80  19/04/20       1372\n",
              " 81  20/04/20       1477\n",
              " 82  21/04/20       1520\n",
              " \n",
              " [83 rows x 2 columns], 'Telengana':         Date  Confirmed\n",
              " 0   30/01/20          0\n",
              " 1   31/01/20          0\n",
              " 2   01/02/20          0\n",
              " 3   02/02/20          0\n",
              " 4   03/02/20          0\n",
              " ..       ...        ...\n",
              " 78  17/04/20        743\n",
              " 79  18/04/20        791\n",
              " 80  19/04/20        844\n",
              " 81  20/04/20        873\n",
              " 82  21/04/20        919\n",
              " \n",
              " [83 rows x 2 columns], 'Tripura':         Date  Confirmed\n",
              " 0   30/01/20          0\n",
              " 1   31/01/20          0\n",
              " 2   01/02/20          0\n",
              " 3   02/02/20          0\n",
              " 4   03/02/20          0\n",
              " ..       ...        ...\n",
              " 78  17/04/20          2\n",
              " 79  18/04/20          2\n",
              " 80  19/04/20          2\n",
              " 81  20/04/20          2\n",
              " 82  21/04/20          2\n",
              " \n",
              " [83 rows x 2 columns], 'Unassigned':         Date  Confirmed\n",
              " 0   30/01/20          0\n",
              " 1   31/01/20          0\n",
              " 2   01/02/20          0\n",
              " 3   02/02/20          0\n",
              " 4   03/02/20          0\n",
              " ..       ...        ...\n",
              " 78  17/04/20          0\n",
              " 79  18/04/20          0\n",
              " 80  19/04/20          0\n",
              " 81  20/04/20          0\n",
              " 82  21/04/20          0\n",
              " \n",
              " [83 rows x 2 columns], 'UttarPradesh':         Date  Confirmed\n",
              " 0   30/01/20          0\n",
              " 1   31/01/20          0\n",
              " 2   01/02/20          0\n",
              " 3   02/02/20          0\n",
              " 4   03/02/20          0\n",
              " ..       ...        ...\n",
              " 78  17/04/20        846\n",
              " 79  18/04/20        969\n",
              " 80  19/04/20       1084\n",
              " 81  20/04/20       1176\n",
              " 82  21/04/20       1294\n",
              " \n",
              " [83 rows x 2 columns], 'Uttarakhand':         Date  Confirmed\n",
              " 0   30/01/20          0\n",
              " 1   31/01/20          0\n",
              " 2   01/02/20          0\n",
              " 3   02/02/20          0\n",
              " 4   03/02/20          0\n",
              " ..       ...        ...\n",
              " 78  17/04/20         37\n",
              " 79  18/04/20         42\n",
              " 80  19/04/20         42\n",
              " 81  20/04/20         44\n",
              " 82  21/04/20         46\n",
              " \n",
              " [83 rows x 2 columns], 'WestBengal':         Date  Confirmed\n",
              " 0   30/01/20          0\n",
              " 1   31/01/20          0\n",
              " 2   01/02/20          0\n",
              " 3   02/02/20          0\n",
              " 4   03/02/20          0\n",
              " ..       ...        ...\n",
              " 78  17/04/20        255\n",
              " 79  18/04/20        287\n",
              " 80  19/04/20        310\n",
              " 81  20/04/20        339\n",
              " 82  21/04/20        392\n",
              " \n",
              " [83 rows x 2 columns]}"
            ]
          },
          "metadata": {
            "tags": []
          },
          "execution_count": 97
        }
      ]
    },
    {
      "cell_type": "markdown",
      "metadata": {
        "id": "cjezn4Y4Iys3",
        "colab_type": "text"
      },
      "source": [
        "# Dictionary with added data for each state"
      ]
    },
    {
      "cell_type": "code",
      "metadata": {
        "id": "1wJyd4gDuoB_",
        "colab_type": "code",
        "colab": {}
      },
      "source": [
        "state_dict = {}\n",
        "for key, values in final.items():\n",
        "  new_list = []\n",
        "  confirmed_list = values['Confirmed'].tolist()\n",
        "  differences = [t - s for s, t in zip(confirmed_list, confirmed_list[1:])]\n",
        "  differences = [(x/5) for x in differences]\n",
        "  count = 0\n",
        "  for i in range(len(confirmed_list)-1):\n",
        "    temp = confirmed_list[i]\n",
        "    new_list.append(temp)\n",
        "    for j in range(5):\n",
        "      temp = temp + differences[i]\n",
        "      new_list.append(round(temp))\n",
        "  state_dict [key] = new_list\n",
        "\n",
        "# print(differences)\n",
        "# len(differences)"
      ],
      "execution_count": 0,
      "outputs": []
    },
    {
      "cell_type": "code",
      "metadata": {
        "id": "erjy96xh4jOx",
        "colab_type": "code",
        "colab": {
          "base_uri": "https://localhost:8080/",
          "height": 54
        },
        "outputId": "b987a96b-a058-4334-8695-180e46211afb"
      },
      "source": [
        "print(state_dict)"
      ],
      "execution_count": 99,
      "outputs": [
        {
          "output_type": "stream",
          "text": [
            "{'Chandigarh': [0, 0, 0, 0, 0, 0, 0, 0, 0, 0, 0, 0, 0, 0, 0, 0, 0, 0, 0, 0, 0, 0, 0, 0, 0, 0, 0, 0, 0, 0, 0, 0, 0, 0, 0, 0, 0, 0, 0, 0, 0, 0, 0, 0, 0, 0, 0, 0, 0, 0, 0, 0, 0, 0, 0, 0, 0, 0, 0, 0, 0, 0, 0, 0, 0, 0, 0, 0, 0, 0, 0, 0, 0, 0, 0, 0, 0, 0, 0, 0, 0, 0, 0, 0, 0, 0, 0, 0, 0, 0, 0, 0, 0, 0, 0, 0, 0, 0, 0, 0, 0, 0, 0, 0, 0, 0, 0, 0, 0, 0, 0, 0, 0, 0, 0, 0, 0, 0, 0, 0, 0, 0, 0, 0, 0, 0, 0, 0, 0, 0, 0, 0, 0, 0, 0, 0, 0, 0, 0, 0, 0, 0, 0, 0, 0, 0, 0, 0, 0, 0, 0, 0, 0, 0, 0, 0, 0, 0, 0, 0, 0, 0, 0, 0, 0, 0, 0, 0, 0, 0, 0, 0, 0, 0, 0, 0, 0, 0, 0, 0, 0, 0, 0, 0, 0, 0, 0, 0, 0, 0, 0, 0, 0, 0, 0, 0, 0, 0, 0, 0, 0, 0, 0, 0, 0, 0, 0, 0, 0, 0, 0, 0, 0, 0, 0, 0, 0, 0, 0, 0, 0, 0, 0, 0, 0, 0, 0, 0, 0, 0, 0, 0, 0, 0, 0, 0, 0, 0, 0, 0, 0, 0, 0, 0, 0, 0, 0, 0, 0, 0, 0, 0, 0, 0, 0, 0, 0, 0, 0, 0, 0, 0, 0, 0, 0, 0, 0, 0, 0, 0, 0, 0, 0, 0, 0, 0, 0, 0, 0, 0, 0, 0, 0, 0, 0, 0, 0, 0, 0, 0, 0, 1, 1, 1, 1, 1, 1, 1, 1, 1, 1, 1, 1, 1, 1, 1, 1, 2, 3, 3, 4, 5, 5, 5, 5, 6, 6, 6, 6, 6, 6, 7, 7, 7, 7, 7, 7, 7, 7, 7, 7, 7, 7, 7, 7, 7, 7, 7, 7, 7, 7, 7, 7, 7, 7, 8, 8, 8, 8, 8, 8, 8, 8, 8, 8, 8, 8, 8, 8, 8, 8, 9, 10, 11, 12, 13, 13, 14, 14, 15, 15, 16, 16, 16, 16, 16, 16, 16, 16, 16, 17, 17, 18, 18, 18, 18, 18, 18, 18, 18, 18, 18, 18, 18, 18, 18, 18, 18, 18, 18, 18, 18, 18, 18, 18, 18, 18, 18, 18, 18, 18, 18, 18, 18, 18, 18, 18, 18, 18, 18, 18, 18, 18, 18, 18, 18, 18, 18, 18, 18, 18, 18, 18, 18, 18, 19, 19, 19, 19, 19, 20, 20, 21, 21, 21, 21, 21, 21, 21, 21, 21, 21, 21, 21, 21, 21, 21, 21, 21, 21, 21, 21, 21, 21, 21, 21, 21, 21, 21, 21, 21, 21, 21, 21, 21, 21, 22, 22, 23, 23, 23, 24, 24, 25, 25, 26, 26, 26, 26, 26, 26, 26], 'ArunachalPradesh': [0, 0, 0, 0, 0, 0, 0, 0, 0, 0, 0, 0, 0, 0, 0, 0, 0, 0, 0, 0, 0, 0, 0, 0, 0, 0, 0, 0, 0, 0, 0, 0, 0, 0, 0, 0, 0, 0, 0, 0, 0, 0, 0, 0, 0, 0, 0, 0, 0, 0, 0, 0, 0, 0, 0, 0, 0, 0, 0, 0, 0, 0, 0, 0, 0, 0, 0, 0, 0, 0, 0, 0, 0, 0, 0, 0, 0, 0, 0, 0, 0, 0, 0, 0, 0, 0, 0, 0, 0, 0, 0, 0, 0, 0, 0, 0, 0, 0, 0, 0, 0, 0, 0, 0, 0, 0, 0, 0, 0, 0, 0, 0, 0, 0, 0, 0, 0, 0, 0, 0, 0, 0, 0, 0, 0, 0, 0, 0, 0, 0, 0, 0, 0, 0, 0, 0, 0, 0, 0, 0, 0, 0, 0, 0, 0, 0, 0, 0, 0, 0, 0, 0, 0, 0, 0, 0, 0, 0, 0, 0, 0, 0, 0, 0, 0, 0, 0, 0, 0, 0, 0, 0, 0, 0, 0, 0, 0, 0, 0, 0, 0, 0, 0, 0, 0, 0, 0, 0, 0, 0, 0, 0, 0, 0, 0, 0, 0, 0, 0, 0, 0, 0, 0, 0, 0, 0, 0, 0, 0, 0, 0, 0, 0, 0, 0, 0, 0, 0, 0, 0, 0, 0, 0, 0, 0, 0, 0, 0, 0, 0, 0, 0, 0, 0, 0, 0, 0, 0, 0, 0, 0, 0, 0, 0, 0, 0, 0, 0, 0, 0, 0, 0, 0, 0, 0, 0, 0, 0, 0, 0, 0, 0, 0, 0, 0, 0, 0, 0, 0, 0, 0, 0, 0, 0, 0, 0, 0, 0, 0, 0, 0, 0, 0, 0, 0, 0, 0, 0, 0, 0, 0, 0, 0, 0, 0, 0, 0, 0, 0, 0, 0, 0, 0, 0, 0, 0, 0, 0, 0, 0, 0, 0, 0, 0, 0, 0, 0, 0, 0, 0, 0, 0, 0, 0, 0, 0, 0, 0, 0, 0, 0, 0, 0, 0, 0, 0, 0, 0, 0, 0, 0, 0, 0, 0, 0, 0, 0, 0, 0, 0, 0, 0, 0, 0, 0, 0, 0, 0, 0, 0, 0, 0, 0, 0, 0, 0, 0, 0, 0, 0, 0, 0, 0, 0, 0, 0, 0, 0, 0, 0, 0, 1, 1, 1, 1, 1, 1, 1, 1, 1, 1, 1, 1, 1, 1, 1, 1, 1, 1, 1, 1, 1, 1, 1, 1, 1, 1, 1, 1, 1, 1, 1, 1, 1, 1, 1, 1, 1, 1, 1, 1, 1, 1, 1, 1, 1, 1, 1, 1, 1, 1, 1, 1, 1, 1, 1, 1, 1, 1, 1, 1, 1, 1, 1, 1, 1, 1, 1, 1, 1, 1, 1, 1, 1, 1, 1, 1, 1, 1, 1, 1, 1, 1, 1, 1, 1, 1, 1, 1, 1, 1, 1, 1, 1, 1, 1, 1, 1, 1, 1, 1, 1, 1, 1, 1, 1, 1, 1, 1, 1, 1, 1], 'WestBengal': [0, 0, 0, 0, 0, 0, 0, 0, 0, 0, 0, 0, 0, 0, 0, 0, 0, 0, 0, 0, 0, 0, 0, 0, 0, 0, 0, 0, 0, 0, 0, 0, 0, 0, 0, 0, 0, 0, 0, 0, 0, 0, 0, 0, 0, 0, 0, 0, 0, 0, 0, 0, 0, 0, 0, 0, 0, 0, 0, 0, 0, 0, 0, 0, 0, 0, 0, 0, 0, 0, 0, 0, 0, 0, 0, 0, 0, 0, 0, 0, 0, 0, 0, 0, 0, 0, 0, 0, 0, 0, 0, 0, 0, 0, 0, 0, 0, 0, 0, 0, 0, 0, 0, 0, 0, 0, 0, 0, 0, 0, 0, 0, 0, 0, 0, 0, 0, 0, 0, 0, 0, 0, 0, 0, 0, 0, 0, 0, 0, 0, 0, 0, 0, 0, 0, 0, 0, 0, 0, 0, 0, 0, 0, 0, 0, 0, 0, 0, 0, 0, 0, 0, 0, 0, 0, 0, 0, 0, 0, 0, 0, 0, 0, 0, 0, 0, 0, 0, 0, 0, 0, 0, 0, 0, 0, 0, 0, 0, 0, 0, 0, 0, 0, 0, 0, 0, 0, 0, 0, 0, 0, 0, 0, 0, 0, 0, 0, 0, 0, 0, 0, 0, 0, 0, 0, 0, 0, 0, 0, 0, 0, 0, 0, 0, 0, 0, 0, 0, 0, 0, 0, 0, 0, 0, 0, 0, 0, 0, 0, 0, 0, 0, 0, 0, 0, 0, 0, 0, 0, 0, 0, 0, 0, 0, 0, 0, 0, 0, 0, 0, 0, 0, 0, 0, 0, 0, 0, 0, 0, 0, 0, 0, 0, 0, 0, 0, 0, 0, 0, 0, 0, 0, 0, 0, 0, 0, 0, 0, 0, 0, 0, 0, 0, 0, 0, 1, 1, 1, 1, 1, 1, 1, 1, 1, 1, 1, 1, 2, 2, 2, 2, 2, 2, 3, 3, 3, 3, 3, 3, 4, 4, 4, 4, 5, 5, 6, 6, 7, 7, 7, 8, 8, 9, 9, 9, 9, 9, 9, 9, 9, 9, 9, 9, 10, 10, 10, 10, 10, 10, 10, 10, 10, 10, 11, 12, 13, 14, 15, 15, 16, 16, 17, 17, 18, 18, 19, 20, 20, 21, 22, 22, 23, 24, 24, 25, 26, 26, 28, 30, 33, 35, 37, 37, 40, 43, 47, 50, 53, 53, 55, 57, 59, 61, 63, 63, 64, 65, 67, 68, 69, 69, 71, 73, 76, 78, 80, 80, 80, 80, 80, 80, 80, 80, 82, 84, 87, 89, 91, 91, 93, 94, 96, 97, 99, 99, 100, 101, 101, 102, 103, 103, 106, 108, 111, 113, 116, 116, 118, 120, 122, 124, 126, 126, 128, 129, 131, 132, 134, 134, 138, 141, 145, 148, 152, 152, 160, 167, 175, 182, 190, 190, 195, 199, 204, 208, 213, 213, 217, 220, 224, 227, 231, 231, 236, 241, 245, 250, 255, 255, 261, 268, 274, 281, 287, 287, 292, 296, 301, 305, 310, 310, 316, 322, 327, 333, 339, 339, 350, 360, 371, 381, 392], 'Ladakh': [0, 0, 0, 0, 0, 0, 0, 0, 0, 0, 0, 0, 0, 0, 0, 0, 0, 0, 0, 0, 0, 0, 0, 0, 0, 0, 0, 0, 0, 0, 0, 0, 0, 0, 0, 0, 0, 0, 0, 0, 0, 0, 0, 0, 0, 0, 0, 0, 0, 0, 0, 0, 0, 0, 0, 0, 0, 0, 0, 0, 0, 0, 0, 0, 0, 0, 0, 0, 0, 0, 0, 0, 0, 0, 0, 0, 0, 0, 0, 0, 0, 0, 0, 0, 0, 0, 0, 0, 0, 0, 0, 0, 0, 0, 0, 0, 0, 0, 0, 0, 0, 0, 0, 0, 0, 0, 0, 0, 0, 0, 0, 0, 0, 0, 0, 0, 0, 0, 0, 0, 0, 0, 0, 0, 0, 0, 0, 0, 0, 0, 0, 0, 0, 0, 0, 0, 0, 0, 0, 0, 0, 0, 0, 0, 0, 0, 0, 0, 0, 0, 0, 0, 0, 0, 0, 0, 0, 0, 0, 0, 0, 0, 0, 0, 0, 0, 0, 0, 0, 0, 0, 0, 0, 0, 0, 0, 0, 0, 0, 0, 0, 0, 0, 0, 0, 0, 0, 0, 0, 0, 0, 0, 0, 0, 0, 0, 0, 0, 0, 0, 0, 0, 0, 0, 0, 0, 0, 0, 0, 0, 0, 0, 0, 0, 0, 0, 0, 0, 1, 1, 2, 2, 2, 2, 2, 2, 2, 2, 2, 2, 2, 2, 2, 2, 2, 2, 2, 2, 2, 2, 2, 2, 2, 2, 2, 2, 2, 2, 2, 3, 3, 3, 3, 3, 3, 3, 3, 3, 3, 3, 3, 3, 3, 3, 3, 3, 3, 3, 3, 3, 3, 3, 3, 4, 4, 4, 4, 4, 5, 5, 6, 6, 6, 6, 7, 7, 8, 8, 8, 8, 8, 8, 8, 8, 8, 8, 9, 9, 10, 10, 10, 11, 11, 12, 12, 13, 13, 13, 13, 13, 13, 13, 13, 13, 13, 13, 13, 13, 13, 13, 13, 13, 13, 13, 13, 13, 13, 13, 13, 13, 13, 13, 13, 13, 13, 13, 13, 13, 13, 13, 13, 13, 13, 13, 13, 13, 13, 13, 13, 13, 13, 13, 13, 13, 13, 13, 13, 13, 13, 13, 13, 13, 13, 13, 13, 13, 13, 13, 13, 13, 13, 13, 13, 13, 13, 13, 13, 13, 13, 13, 13, 14, 14, 14, 14, 14, 14, 14, 14, 14, 14, 14, 14, 14, 14, 14, 14, 14, 14, 14, 14, 14, 14, 14, 14, 14, 14, 14, 14, 14, 14, 14, 14, 14, 14, 14, 14, 14, 14, 14, 14, 14, 14, 15, 15, 15, 15, 15, 15, 15, 15, 15, 15, 15, 15, 15, 15, 15, 15, 15, 15, 15, 15, 15, 15, 15, 15, 15, 15, 15, 15, 15, 16, 16, 17, 17, 17, 17, 17, 17, 17, 17, 17, 17, 17, 18, 18, 18, 18, 18, 18, 18, 18, 18, 18, 18, 18, 18, 18, 18, 18, 18, 18, 18, 18, 18, 18, 18, 18, 18, 18, 18], 'Assam': [0, 0, 0, 0, 0, 0, 0, 0, 0, 0, 0, 0, 0, 0, 0, 0, 0, 0, 0, 0, 0, 0, 0, 0, 0, 0, 0, 0, 0, 0, 0, 0, 0, 0, 0, 0, 0, 0, 0, 0, 0, 0, 0, 0, 0, 0, 0, 0, 0, 0, 0, 0, 0, 0, 0, 0, 0, 0, 0, 0, 0, 0, 0, 0, 0, 0, 0, 0, 0, 0, 0, 0, 0, 0, 0, 0, 0, 0, 0, 0, 0, 0, 0, 0, 0, 0, 0, 0, 0, 0, 0, 0, 0, 0, 0, 0, 0, 0, 0, 0, 0, 0, 0, 0, 0, 0, 0, 0, 0, 0, 0, 0, 0, 0, 0, 0, 0, 0, 0, 0, 0, 0, 0, 0, 0, 0, 0, 0, 0, 0, 0, 0, 0, 0, 0, 0, 0, 0, 0, 0, 0, 0, 0, 0, 0, 0, 0, 0, 0, 0, 0, 0, 0, 0, 0, 0, 0, 0, 0, 0, 0, 0, 0, 0, 0, 0, 0, 0, 0, 0, 0, 0, 0, 0, 0, 0, 0, 0, 0, 0, 0, 0, 0, 0, 0, 0, 0, 0, 0, 0, 0, 0, 0, 0, 0, 0, 0, 0, 0, 0, 0, 0, 0, 0, 0, 0, 0, 0, 0, 0, 0, 0, 0, 0, 0, 0, 0, 0, 0, 0, 0, 0, 0, 0, 0, 0, 0, 0, 0, 0, 0, 0, 0, 0, 0, 0, 0, 0, 0, 0, 0, 0, 0, 0, 0, 0, 0, 0, 0, 0, 0, 0, 0, 0, 0, 0, 0, 0, 0, 0, 0, 0, 0, 0, 0, 0, 0, 0, 0, 0, 0, 0, 0, 0, 0, 0, 0, 0, 0, 0, 0, 0, 0, 0, 0, 0, 0, 0, 0, 0, 0, 0, 0, 0, 0, 0, 0, 0, 0, 0, 0, 0, 0, 0, 0, 0, 0, 0, 0, 0, 0, 0, 0, 0, 0, 0, 0, 0, 0, 0, 0, 0, 0, 0, 0, 0, 0, 0, 0, 0, 0, 0, 0, 0, 0, 0, 0, 0, 0, 0, 0, 0, 0, 0, 0, 0, 0, 0, 0, 0, 0, 0, 0, 0, 0, 0, 0, 0, 0, 0, 0, 0, 0, 0, 0, 0, 0, 0, 0, 1, 1, 1, 1, 2, 3, 3, 4, 5, 5, 7, 9, 12, 14, 16, 16, 18, 19, 21, 22, 24, 24, 24, 25, 25, 26, 26, 26, 26, 26, 26, 26, 26, 26, 26, 26, 26, 26, 26, 26, 26, 26, 27, 27, 27, 27, 27, 27, 28, 28, 28, 28, 28, 28, 29, 29, 29, 29, 29, 29, 29, 29, 29, 29, 29, 29, 29, 29, 29, 29, 29, 30, 30, 31, 31, 31, 31, 31, 31, 31, 31, 31, 31, 32, 32, 33, 33, 33, 33, 33, 33, 33, 33, 33, 33, 34, 34, 35, 35, 35, 35, 35, 35, 35, 35, 35, 35, 35, 35, 35, 35, 35, 35, 35, 35, 35, 35, 35, 35, 35, 35, 35, 35], 'Uttarakhand': [0, 0, 0, 0, 0, 0, 0, 0, 0, 0, 0, 0, 0, 0, 0, 0, 0, 0, 0, 0, 0, 0, 0, 0, 0, 0, 0, 0, 0, 0, 0, 0, 0, 0, 0, 0, 0, 0, 0, 0, 0, 0, 0, 0, 0, 0, 0, 0, 0, 0, 0, 0, 0, 0, 0, 0, 0, 0, 0, 0, 0, 0, 0, 0, 0, 0, 0, 0, 0, 0, 0, 0, 0, 0, 0, 0, 0, 0, 0, 0, 0, 0, 0, 0, 0, 0, 0, 0, 0, 0, 0, 0, 0, 0, 0, 0, 0, 0, 0, 0, 0, 0, 0, 0, 0, 0, 0, 0, 0, 0, 0, 0, 0, 0, 0, 0, 0, 0, 0, 0, 0, 0, 0, 0, 0, 0, 0, 0, 0, 0, 0, 0, 0, 0, 0, 0, 0, 0, 0, 0, 0, 0, 0, 0, 0, 0, 0, 0, 0, 0, 0, 0, 0, 0, 0, 0, 0, 0, 0, 0, 0, 0, 0, 0, 0, 0, 0, 0, 0, 0, 0, 0, 0, 0, 0, 0, 0, 0, 0, 0, 0, 0, 0, 0, 0, 0, 0, 0, 0, 0, 0, 0, 0, 0, 0, 0, 0, 0, 0, 0, 0, 0, 0, 0, 0, 0, 0, 0, 0, 0, 0, 0, 0, 0, 0, 0, 0, 0, 0, 0, 0, 0, 0, 0, 0, 0, 0, 0, 0, 0, 0, 0, 0, 0, 0, 0, 0, 0, 0, 0, 0, 0, 0, 0, 0, 0, 0, 0, 0, 0, 0, 0, 0, 0, 0, 0, 0, 0, 0, 0, 0, 0, 0, 0, 0, 0, 0, 1, 1, 1, 1, 1, 1, 1, 1, 1, 1, 1, 1, 1, 1, 1, 1, 1, 1, 1, 1, 1, 1, 1, 1, 1, 1, 1, 1, 1, 2, 2, 3, 3, 3, 3, 3, 3, 3, 3, 3, 3, 3, 3, 3, 3, 3, 3, 3, 3, 3, 3, 3, 3, 3, 4, 4, 4, 4, 4, 4, 4, 4, 4, 4, 4, 4, 5, 5, 5, 5, 5, 5, 5, 5, 5, 5, 5, 5, 5, 5, 5, 5, 5, 6, 6, 7, 7, 7, 7, 7, 7, 7, 7, 7, 7, 7, 7, 7, 7, 7, 7, 7, 7, 7, 7, 7, 7, 7, 7, 7, 7, 7, 8, 8, 9, 9, 10, 10, 11, 12, 14, 15, 16, 16, 17, 18, 20, 21, 22, 22, 23, 24, 24, 25, 26, 26, 27, 28, 29, 30, 31, 31, 31, 31, 31, 31, 31, 31, 32, 33, 33, 34, 35, 35, 35, 35, 35, 35, 35, 35, 35, 35, 35, 35, 35, 35, 35, 35, 35, 35, 35, 35, 35, 35, 35, 35, 35, 35, 35, 35, 35, 35, 35, 35, 35, 36, 36, 37, 37, 37, 37, 37, 37, 37, 37, 37, 37, 37, 37, 37, 37, 37, 38, 39, 40, 41, 42, 42, 42, 42, 42, 42, 42, 42, 42, 43, 43, 44, 44, 44, 44, 45, 45, 46, 46], 'Mizoram': [0, 0, 0, 0, 0, 0, 0, 0, 0, 0, 0, 0, 0, 0, 0, 0, 0, 0, 0, 0, 0, 0, 0, 0, 0, 0, 0, 0, 0, 0, 0, 0, 0, 0, 0, 0, 0, 0, 0, 0, 0, 0, 0, 0, 0, 0, 0, 0, 0, 0, 0, 0, 0, 0, 0, 0, 0, 0, 0, 0, 0, 0, 0, 0, 0, 0, 0, 0, 0, 0, 0, 0, 0, 0, 0, 0, 0, 0, 0, 0, 0, 0, 0, 0, 0, 0, 0, 0, 0, 0, 0, 0, 0, 0, 0, 0, 0, 0, 0, 0, 0, 0, 0, 0, 0, 0, 0, 0, 0, 0, 0, 0, 0, 0, 0, 0, 0, 0, 0, 0, 0, 0, 0, 0, 0, 0, 0, 0, 0, 0, 0, 0, 0, 0, 0, 0, 0, 0, 0, 0, 0, 0, 0, 0, 0, 0, 0, 0, 0, 0, 0, 0, 0, 0, 0, 0, 0, 0, 0, 0, 0, 0, 0, 0, 0, 0, 0, 0, 0, 0, 0, 0, 0, 0, 0, 0, 0, 0, 0, 0, 0, 0, 0, 0, 0, 0, 0, 0, 0, 0, 0, 0, 0, 0, 0, 0, 0, 0, 0, 0, 0, 0, 0, 0, 0, 0, 0, 0, 0, 0, 0, 0, 0, 0, 0, 0, 0, 0, 0, 0, 0, 0, 0, 0, 0, 0, 0, 0, 0, 0, 0, 0, 0, 0, 0, 0, 0, 0, 0, 0, 0, 0, 0, 0, 0, 0, 0, 0, 0, 0, 0, 0, 0, 0, 0, 0, 0, 0, 0, 0, 0, 0, 0, 0, 0, 0, 0, 0, 0, 0, 0, 0, 0, 0, 0, 0, 0, 0, 0, 0, 0, 0, 0, 0, 0, 0, 0, 0, 0, 0, 0, 0, 0, 0, 0, 0, 0, 0, 0, 0, 0, 0, 0, 0, 0, 0, 0, 0, 0, 0, 0, 0, 0, 0, 0, 0, 0, 0, 0, 0, 0, 0, 0, 0, 0, 0, 0, 1, 1, 1, 1, 1, 1, 1, 1, 1, 1, 1, 1, 1, 1, 1, 1, 1, 1, 1, 1, 1, 1, 1, 1, 1, 1, 1, 1, 1, 1, 1, 1, 1, 1, 1, 1, 1, 1, 1, 1, 1, 1, 1, 1, 1, 1, 1, 1, 1, 1, 1, 1, 1, 1, 1, 1, 1, 1, 1, 1, 1, 1, 1, 1, 1, 1, 1, 1, 1, 1, 1, 1, 1, 1, 1, 1, 1, 1, 1, 1, 1, 1, 1, 1, 1, 1, 1, 1, 1, 1, 1, 1, 1, 1, 1, 1, 1, 1, 1, 1, 1, 1, 1, 1, 1, 1, 1, 1, 1, 1, 1, 1, 1, 1, 1, 1, 1, 1, 1, 1, 1, 1, 1, 1, 1, 1, 1, 1, 1, 1, 1, 1, 1, 1, 1, 1, 1, 1, 1, 1, 1, 1, 1, 1, 1, 1, 1, 1, 1, 1, 1, 1, 1, 1, 1, 1, 1, 1, 1, 1, 1, 1, 1, 1, 1], 'Gujarat': [0, 0, 0, 0, 0, 0, 0, 0, 0, 0, 0, 0, 0, 0, 0, 0, 0, 0, 0, 0, 0, 0, 0, 0, 0, 0, 0, 0, 0, 0, 0, 0, 0, 0, 0, 0, 0, 0, 0, 0, 0, 0, 0, 0, 0, 0, 0, 0, 0, 0, 0, 0, 0, 0, 0, 0, 0, 0, 0, 0, 0, 0, 0, 0, 0, 0, 0, 0, 0, 0, 0, 0, 0, 0, 0, 0, 0, 0, 0, 0, 0, 0, 0, 0, 0, 0, 0, 0, 0, 0, 0, 0, 0, 0, 0, 0, 0, 0, 0, 0, 0, 0, 0, 0, 0, 0, 0, 0, 0, 0, 0, 0, 0, 0, 0, 0, 0, 0, 0, 0, 0, 0, 0, 0, 0, 0, 0, 0, 0, 0, 0, 0, 0, 0, 0, 0, 0, 0, 0, 0, 0, 0, 0, 0, 0, 0, 0, 0, 0, 0, 0, 0, 0, 0, 0, 0, 0, 0, 0, 0, 0, 0, 0, 0, 0, 0, 0, 0, 0, 0, 0, 0, 0, 0, 0, 0, 0, 0, 0, 0, 0, 0, 0, 0, 0, 0, 0, 0, 0, 0, 0, 0, 0, 0, 0, 0, 0, 0, 0, 0, 0, 0, 0, 0, 0, 0, 0, 0, 0, 0, 0, 0, 0, 0, 0, 0, 0, 0, 0, 0, 0, 0, 0, 0, 0, 0, 0, 0, 0, 0, 0, 0, 0, 0, 0, 0, 0, 0, 0, 0, 0, 0, 0, 0, 0, 0, 0, 0, 0, 0, 0, 0, 0, 0, 0, 0, 0, 0, 0, 0, 0, 0, 0, 0, 0, 0, 0, 0, 0, 0, 0, 0, 0, 0, 0, 0, 0, 0, 0, 0, 0, 0, 0, 0, 0, 0, 0, 0, 0, 0, 0, 0, 0, 0, 0, 1, 2, 3, 4, 5, 5, 5, 6, 6, 7, 7, 7, 9, 11, 14, 16, 18, 18, 20, 22, 25, 27, 29, 29, 30, 31, 31, 32, 33, 33, 34, 35, 36, 37, 38, 38, 39, 40, 41, 42, 43, 43, 43, 43, 43, 43, 43, 43, 43, 44, 44, 45, 45, 45, 48, 50, 53, 55, 58, 58, 60, 62, 65, 67, 69, 69, 70, 71, 71, 72, 73, 73, 75, 77, 78, 80, 82, 82, 83, 84, 85, 86, 87, 87, 89, 90, 92, 93, 95, 95, 97, 99, 101, 103, 105, 105, 108, 112, 115, 119, 122, 122, 126, 131, 135, 140, 144, 144, 148, 152, 157, 161, 165, 165, 165, 165, 165, 165, 165, 165, 168, 171, 173, 176, 179, 179, 191, 204, 216, 229, 241, 241, 254, 268, 281, 295, 308, 308, 333, 358, 382, 407, 432, 432, 453, 475, 496, 518, 539, 539, 555, 570, 586, 601, 617, 617, 633, 648, 664, 679, 695, 695, 730, 765, 801, 836, 871, 871, 901, 931, 961, 991, 1021, 1021, 1071, 1121, 1172, 1222, 1272, 1272, 1338, 1405, 1471, 1538, 1604, 1604, 1653, 1703, 1752, 1802, 1851, 1851, 1894, 1937, 1980, 2023, 2066], 'Haryana': [0, 0, 0, 0, 0, 0, 0, 0, 0, 0, 0, 0, 0, 0, 0, 0, 0, 0, 0, 0, 0, 0, 0, 0, 0, 0, 0, 0, 0, 0, 0, 0, 0, 0, 0, 0, 0, 0, 0, 0, 0, 0, 0, 0, 0, 0, 0, 0, 0, 0, 0, 0, 0, 0, 0, 0, 0, 0, 0, 0, 0, 0, 0, 0, 0, 0, 0, 0, 0, 0, 0, 0, 0, 0, 0, 0, 0, 0, 0, 0, 0, 0, 0, 0, 0, 0, 0, 0, 0, 0, 0, 0, 0, 0, 0, 0, 0, 0, 0, 0, 0, 0, 0, 0, 0, 0, 0, 0, 0, 0, 0, 0, 0, 0, 0, 0, 0, 0, 0, 0, 0, 0, 0, 0, 0, 0, 0, 0, 0, 0, 0, 0, 0, 0, 0, 0, 0, 0, 0, 0, 0, 0, 0, 0, 0, 0, 0, 0, 0, 0, 0, 0, 0, 0, 0, 0, 0, 0, 0, 0, 0, 0, 0, 0, 0, 0, 0, 0, 0, 0, 0, 0, 0, 0, 0, 0, 0, 0, 0, 0, 0, 0, 0, 0, 0, 0, 0, 0, 0, 0, 0, 0, 0, 0, 0, 0, 0, 0, 0, 0, 1, 1, 2, 2, 2, 2, 2, 2, 2, 2, 2, 2, 2, 2, 2, 2, 2, 2, 2, 2, 2, 2, 2, 2, 2, 2, 2, 2, 2, 2, 2, 2, 2, 2, 2, 2, 2, 2, 2, 2, 2, 4, 7, 9, 12, 14, 14, 14, 14, 14, 14, 14, 14, 14, 14, 14, 14, 14, 14, 14, 14, 14, 14, 14, 14, 14, 14, 14, 14, 14, 14, 14, 14, 14, 14, 14, 14, 14, 14, 15, 15, 15, 15, 15, 16, 16, 17, 17, 17, 17, 17, 17, 17, 17, 17, 17, 17, 17, 17, 17, 17, 17, 17, 17, 17, 17, 17, 18, 19, 19, 20, 21, 21, 22, 23, 24, 25, 26, 26, 26, 27, 27, 28, 28, 28, 28, 28, 28, 28, 28, 28, 28, 29, 29, 30, 30, 30, 30, 30, 30, 30, 30, 30, 31, 31, 32, 32, 33, 33, 33, 33, 33, 33, 33, 33, 34, 34, 35, 35, 36, 36, 37, 38, 38, 39, 40, 40, 41, 41, 42, 42, 43, 43, 43, 43, 43, 43, 43, 43, 44, 45, 47, 48, 49, 49, 49, 49, 49, 49, 49, 49, 51, 53, 55, 57, 59, 59, 64, 69, 74, 79, 84, 84, 85, 86, 88, 89, 90, 90, 101, 113, 124, 136, 147, 147, 151, 156, 160, 165, 169, 169, 169, 169, 169, 169, 169, 169, 171, 172, 174, 175, 177, 177, 179, 180, 182, 183, 185, 185, 185, 185, 185, 185, 185, 185, 188, 191, 193, 196, 199, 199, 199, 199, 199, 199, 199, 199, 200, 201, 203, 204, 205, 205, 205, 205, 205, 205, 205, 205, 209, 213, 217, 221, 225, 225, 227, 228, 230, 231, 233, 233, 233, 233, 233, 233, 233, 233, 237, 241, 246, 250, 254], 'Maharashtra': [0, 0, 0, 0, 0, 0, 0, 0, 0, 0, 0, 0, 0, 0, 0, 0, 0, 0, 0, 0, 0, 0, 0, 0, 0, 0, 0, 0, 0, 0, 0, 0, 0, 0, 0, 0, 0, 0, 0, 0, 0, 0, 0, 0, 0, 0, 0, 0, 0, 0, 0, 0, 0, 0, 0, 0, 0, 0, 0, 0, 0, 0, 0, 0, 0, 0, 0, 0, 0, 0, 0, 0, 0, 0, 0, 0, 0, 0, 0, 0, 0, 0, 0, 0, 0, 0, 0, 0, 0, 0, 0, 0, 0, 0, 0, 0, 0, 0, 0, 0, 0, 0, 0, 0, 0, 0, 0, 0, 0, 0, 0, 0, 0, 0, 0, 0, 0, 0, 0, 0, 0, 0, 0, 0, 0, 0, 0, 0, 0, 0, 0, 0, 0, 0, 0, 0, 0, 0, 0, 0, 0, 0, 0, 0, 0, 0, 0, 0, 0, 0, 0, 0, 0, 0, 0, 0, 0, 0, 0, 0, 0, 0, 0, 0, 0, 0, 0, 0, 0, 0, 0, 0, 0, 0, 0, 0, 0, 0, 0, 0, 0, 0, 0, 0, 0, 0, 0, 0, 0, 0, 0, 0, 0, 0, 0, 0, 0, 0, 0, 0, 0, 0, 0, 0, 0, 0, 0, 0, 0, 0, 0, 0, 0, 0, 0, 0, 0, 0, 0, 0, 0, 0, 0, 0, 0, 0, 0, 0, 0, 0, 1, 1, 2, 2, 2, 3, 3, 4, 4, 5, 5, 4, 4, 3, 3, 2, 2, 4, 6, 7, 9, 11, 11, 12, 12, 13, 13, 14, 14, 14, 14, 14, 14, 14, 14, 18, 21, 25, 28, 32, 32, 32, 32, 32, 32, 32, 32, 33, 35, 36, 38, 39, 39, 40, 40, 41, 41, 42, 42, 43, 44, 45, 46, 47, 47, 48, 49, 50, 51, 52, 52, 54, 56, 59, 61, 63, 63, 64, 65, 65, 66, 67, 67, 68, 70, 71, 73, 74, 74, 77, 80, 83, 86, 89, 89, 97, 105, 112, 120, 128, 128, 127, 126, 126, 125, 124, 124, 125, 126, 128, 129, 130, 130, 140, 150, 160, 170, 180, 180, 181, 182, 184, 185, 186, 186, 188, 191, 193, 196, 198, 198, 202, 205, 209, 212, 216, 216, 233, 250, 268, 285, 302, 302, 309, 315, 322, 328, 335, 335, 335, 335, 335, 335, 335, 335, 366, 397, 428, 459, 490, 490, 490, 490, 490, 490, 490, 490, 542, 593, 645, 696, 748, 748, 772, 796, 820, 844, 868, 868, 898, 928, 958, 988, 1018, 1018, 1041, 1065, 1088, 1112, 1135, 1135, 1181, 1227, 1272, 1318, 1364, 1364, 1406, 1448, 1490, 1532, 1574, 1574, 1611, 1649, 1686, 1724, 1761, 1761, 1806, 1851, 1895, 1940, 1985, 1985, 2055, 2126, 2196, 2267, 2337, 2337, 2407, 2477, 2547, 2617, 2687, 2687, 2733, 2780, 2826, 2873, 2919, 2919, 2976, 3033, 3091, 3148, 3205, 3205, 3229, 3252, 3276, 3299, 3323, 3323, 3389, 3454, 3520, 3585, 3651, 3651, 3761, 3872, 3982, 4093, 4203, 4203, 4296, 4389, 4483, 4576, 4669], 'Delhi': [0, 0, 0, 0, 0, 0, 0, 0, 0, 0, 0, 0, 0, 0, 0, 0, 0, 0, 0, 0, 0, 0, 0, 0, 0, 0, 0, 0, 0, 0, 0, 0, 0, 0, 0, 0, 0, 0, 0, 0, 0, 0, 0, 0, 0, 0, 0, 0, 0, 0, 0, 0, 0, 0, 0, 0, 0, 0, 0, 0, 0, 0, 0, 0, 0, 0, 0, 0, 0, 0, 0, 0, 0, 0, 0, 0, 0, 0, 0, 0, 0, 0, 0, 0, 0, 0, 0, 0, 0, 0, 0, 0, 0, 0, 0, 0, 0, 0, 0, 0, 0, 0, 0, 0, 0, 0, 0, 0, 0, 0, 0, 0, 0, 0, 0, 0, 0, 0, 0, 0, 0, 0, 0, 0, 0, 0, 0, 0, 0, 0, 0, 0, 0, 0, 0, 0, 0, 0, 0, 0, 0, 0, 0, 0, 0, 0, 0, 0, 0, 0, 0, 0, 0, 0, 0, 0, 0, 0, 0, 0, 0, 0, 0, 0, 0, 0, 0, 0, 0, 0, 0, 0, 0, 0, 0, 0, 0, 0, 0, 0, 0, 0, 0, 0, 0, 0, 0, 0, 0, 1, 1, 1, 1, 1, 1, 1, 1, 1, 1, 1, 1, 1, 1, 1, 1, 1, 1, 2, 2, 2, 2, 2, 2, 3, 3, 3, 3, 3, 3, 3, 3, 3, 3, 3, 3, 3, 3, 3, 3, 3, 3, 4, 4, 4, 4, 4, 4, 4, 4, 4, 4, 4, 4, 5, 5, 5, 5, 5, 5, 6, 6, 6, 6, 6, 6, 6, 6, 6, 6, 6, 6, 7, 7, 7, 7, 7, 7, 7, 7, 7, 7, 7, 7, 7, 7, 7, 7, 7, 7, 8, 8, 8, 8, 8, 9, 9, 10, 10, 10, 10, 11, 11, 12, 12, 12, 13, 14, 15, 16, 17, 17, 19, 21, 22, 24, 26, 26, 27, 27, 28, 28, 29, 29, 29, 29, 29, 29, 29, 29, 29, 29, 30, 30, 30, 30, 30, 30, 31, 31, 31, 31, 32, 33, 34, 35, 36, 36, 36, 36, 36, 36, 36, 36, 37, 37, 38, 38, 39, 39, 41, 43, 45, 47, 49, 49, 57, 64, 72, 79, 87, 87, 89, 91, 93, 95, 97, 97, 108, 119, 130, 141, 152, 152, 165, 179, 192, 206, 219, 219, 219, 219, 219, 219, 219, 219, 264, 309, 355, 400, 445, 445, 457, 468, 480, 491, 503, 503, 507, 511, 515, 519, 523, 523, 534, 544, 555, 565, 576, 576, 576, 576, 576, 576, 576, 576, 595, 613, 632, 650, 669, 669, 715, 761, 806, 852, 898, 898, 899, 900, 901, 902, 903, 903, 936, 969, 1003, 1036, 1069, 1069, 1086, 1103, 1120, 1137, 1154, 1154, 1225, 1296, 1368, 1439, 1510, 1510, 1520, 1530, 1541, 1551, 1561, 1561, 1564, 1568, 1571, 1575, 1578, 1578, 1590, 1603, 1615, 1628, 1640, 1640, 1653, 1667, 1680, 1694, 1707, 1707, 1744, 1781, 1819, 1856, 1893, 1893, 1915, 1937, 1959, 1981, 2003, 2003, 2019, 2034, 2050, 2065, 2081], 'Goa': [0, 0, 0, 0, 0, 0, 0, 0, 0, 0, 0, 0, 0, 0, 0, 0, 0, 0, 0, 0, 0, 0, 0, 0, 0, 0, 0, 0, 0, 0, 0, 0, 0, 0, 0, 0, 0, 0, 0, 0, 0, 0, 0, 0, 0, 0, 0, 0, 0, 0, 0, 0, 0, 0, 0, 0, 0, 0, 0, 0, 0, 0, 0, 0, 0, 0, 0, 0, 0, 0, 0, 0, 0, 0, 0, 0, 0, 0, 0, 0, 0, 0, 0, 0, 0, 0, 0, 0, 0, 0, 0, 0, 0, 0, 0, 0, 0, 0, 0, 0, 0, 0, 0, 0, 0, 0, 0, 0, 0, 0, 0, 0, 0, 0, 0, 0, 0, 0, 0, 0, 0, 0, 0, 0, 0, 0, 0, 0, 0, 0, 0, 0, 0, 0, 0, 0, 0, 0, 0, 0, 0, 0, 0, 0, 0, 0, 0, 0, 0, 0, 0, 0, 0, 0, 0, 0, 0, 0, 0, 0, 0, 0, 0, 0, 0, 0, 0, 0, 0, 0, 0, 0, 0, 0, 0, 0, 0, 0, 0, 0, 0, 0, 0, 0, 0, 0, 0, 0, 0, 0, 0, 0, 0, 0, 0, 0, 0, 0, 0, 0, 0, 0, 0, 0, 0, 0, 0, 0, 0, 0, 0, 0, 0, 0, 0, 0, 0, 0, 0, 0, 0, 0, 0, 0, 0, 0, 0, 0, 0, 0, 0, 0, 0, 0, 0, 0, 0, 0, 0, 0, 0, 0, 0, 0, 0, 0, 0, 0, 0, 0, 0, 0, 0, 0, 0, 0, 0, 0, 0, 0, 0, 0, 0, 0, 0, 0, 0, 0, 0, 0, 0, 0, 0, 0, 0, 0, 0, 0, 0, 0, 0, 0, 0, 0, 0, 0, 0, 0, 0, 0, 0, 0, 0, 0, 0, 0, 0, 0, 0, 0, 0, 0, 0, 0, 0, 0, 0, 0, 0, 0, 0, 0, 0, 0, 0, 0, 0, 0, 0, 0, 0, 0, 0, 0, 0, 0, 0, 0, 0, 0, 0, 1, 1, 2, 2, 3, 3, 3, 3, 3, 3, 3, 3, 3, 3, 3, 3, 3, 3, 3, 4, 4, 5, 5, 5, 5, 5, 5, 5, 5, 5, 5, 5, 5, 5, 5, 5, 5, 5, 5, 5, 5, 5, 5, 5, 5, 5, 5, 5, 5, 5, 6, 6, 6, 6, 6, 6, 7, 7, 7, 7, 7, 7, 7, 7, 7, 7, 7, 7, 7, 7, 7, 7, 7, 7, 7, 7, 7, 7, 7, 7, 7, 7, 7, 7, 7, 7, 7, 7, 7, 7, 7, 7, 7, 7, 7, 7, 7, 7, 7, 7, 7, 7, 7, 7, 7, 7, 7, 7, 7, 7, 7, 7, 7, 7, 7, 7, 7, 7, 7, 7, 7, 7, 7, 7, 7, 7, 7, 7, 7, 7, 7, 7, 7, 7, 7, 7, 7, 7, 7, 7, 7, 7, 7, 7, 7, 7, 7, 7, 7, 7, 7, 7, 7, 7, 7, 7, 7, 7, 7, 7, 7], 'Meghalaya': [0, 0, 0, 0, 0, 0, 0, 0, 0, 0, 0, 0, 0, 0, 0, 0, 0, 0, 0, 0, 0, 0, 0, 0, 0, 0, 0, 0, 0, 0, 0, 0, 0, 0, 0, 0, 0, 0, 0, 0, 0, 0, 0, 0, 0, 0, 0, 0, 0, 0, 0, 0, 0, 0, 0, 0, 0, 0, 0, 0, 0, 0, 0, 0, 0, 0, 0, 0, 0, 0, 0, 0, 0, 0, 0, 0, 0, 0, 0, 0, 0, 0, 0, 0, 0, 0, 0, 0, 0, 0, 0, 0, 0, 0, 0, 0, 0, 0, 0, 0, 0, 0, 0, 0, 0, 0, 0, 0, 0, 0, 0, 0, 0, 0, 0, 0, 0, 0, 0, 0, 0, 0, 0, 0, 0, 0, 0, 0, 0, 0, 0, 0, 0, 0, 0, 0, 0, 0, 0, 0, 0, 0, 0, 0, 0, 0, 0, 0, 0, 0, 0, 0, 0, 0, 0, 0, 0, 0, 0, 0, 0, 0, 0, 0, 0, 0, 0, 0, 0, 0, 0, 0, 0, 0, 0, 0, 0, 0, 0, 0, 0, 0, 0, 0, 0, 0, 0, 0, 0, 0, 0, 0, 0, 0, 0, 0, 0, 0, 0, 0, 0, 0, 0, 0, 0, 0, 0, 0, 0, 0, 0, 0, 0, 0, 0, 0, 0, 0, 0, 0, 0, 0, 0, 0, 0, 0, 0, 0, 0, 0, 0, 0, 0, 0, 0, 0, 0, 0, 0, 0, 0, 0, 0, 0, 0, 0, 0, 0, 0, 0, 0, 0, 0, 0, 0, 0, 0, 0, 0, 0, 0, 0, 0, 0, 0, 0, 0, 0, 0, 0, 0, 0, 0, 0, 0, 0, 0, 0, 0, 0, 0, 0, 0, 0, 0, 0, 0, 0, 0, 0, 0, 0, 0, 0, 0, 0, 0, 0, 0, 0, 0, 0, 0, 0, 0, 0, 0, 0, 0, 0, 0, 0, 0, 0, 0, 0, 0, 0, 0, 0, 0, 0, 0, 0, 0, 0, 0, 0, 0, 0, 0, 0, 0, 0, 0, 0, 0, 0, 0, 0, 0, 0, 0, 0, 0, 0, 0, 0, 0, 0, 0, 0, 0, 0, 0, 0, 0, 0, 0, 0, 0, 0, 0, 0, 0, 0, 0, 0, 0, 0, 0, 0, 0, 0, 0, 0, 0, 0, 0, 0, 0, 0, 0, 0, 0, 0, 0, 0, 0, 0, 0, 0, 0, 0, 0, 0, 0, 0, 0, 0, 0, 0, 0, 0, 0, 0, 0, 0, 0, 0, 0, 0, 0, 0, 0, 0, 0, 0, 0, 0, 0, 0, 0, 0, 0, 0, 0, 0, 0, 0, 0, 0, 0, 0, 0, 0, 0, 0, 0, 0, 0, 0, 0, 0, 0, 0, 0, 1, 1, 1, 1, 2, 3, 5, 6, 7, 7, 7, 7, 7, 7, 7, 7, 7, 8, 8, 9, 9, 9, 9, 10, 10, 11, 11, 11, 11, 11, 11, 11, 11, 11, 11, 11, 11, 11, 11, 11, 11, 11, 11, 11, 11], 'Rajasthan': [0, 0, 0, 0, 0, 0, 0, 0, 0, 0, 0, 0, 0, 0, 0, 0, 0, 0, 0, 0, 0, 0, 0, 0, 0, 0, 0, 0, 0, 0, 0, 0, 0, 0, 0, 0, 0, 0, 0, 0, 0, 0, 0, 0, 0, 0, 0, 0, 0, 0, 0, 0, 0, 0, 0, 0, 0, 0, 0, 0, 0, 0, 0, 0, 0, 0, 0, 0, 0, 0, 0, 0, 0, 0, 0, 0, 0, 0, 0, 0, 0, 0, 0, 0, 0, 0, 0, 0, 0, 0, 0, 0, 0, 0, 0, 0, 0, 0, 0, 0, 0, 0, 0, 0, 0, 0, 0, 0, 0, 0, 0, 0, 0, 0, 0, 0, 0, 0, 0, 0, 0, 0, 0, 0, 0, 0, 0, 0, 0, 0, 0, 0, 0, 0, 0, 0, 0, 0, 0, 0, 0, 0, 0, 0, 0, 0, 0, 0, 0, 0, 0, 0, 0, 0, 0, 0, 0, 0, 0, 0, 0, 0, 0, 0, 0, 0, 0, 0, 0, 0, 0, 0, 0, 0, 0, 0, 0, 0, 0, 0, 0, 0, 0, 0, 0, 0, 0, 0, 0, 0, 0, 0, 0, 0, 0, 1, 1, 1, 1, 4, 7, 9, 12, 15, 15, 15, 15, 15, 15, 15, 15, 15, 15, 15, 15, 15, 15, 15, 15, 15, 15, 15, 15, 15, 15, 15, 15, 15, 15, 15, 15, 15, 15, 15, 15, 15, 15, 15, 15, 15, 15, 13, 10, 8, 5, 3, 3, 3, 3, 3, 3, 3, 3, 3, 3, 3, 3, 3, 3, 3, 3, 3, 3, 3, 3, 3, 3, 4, 4, 4, 4, 4, 4, 4, 4, 4, 4, 4, 4, 4, 4, 4, 4, 4, 4, 4, 4, 4, 4, 5, 5, 6, 6, 7, 7, 9, 11, 13, 15, 17, 17, 17, 17, 17, 17, 17, 17, 18, 20, 21, 23, 24, 24, 25, 26, 26, 27, 28, 28, 29, 30, 30, 31, 32, 32, 33, 34, 34, 35, 36, 36, 37, 38, 39, 40, 41, 41, 41, 41, 41, 41, 41, 41, 44, 46, 49, 51, 54, 54, 54, 54, 55, 55, 55, 55, 56, 57, 57, 58, 59, 59, 62, 65, 68, 71, 74, 74, 78, 82, 85, 89, 93, 93, 96, 99, 102, 105, 108, 108, 120, 132, 143, 155, 167, 167, 174, 180, 187, 193, 200, 200, 200, 200, 200, 200, 200, 200, 215, 230, 244, 259, 274, 274, 277, 280, 282, 285, 288, 288, 296, 304, 312, 320, 328, 328, 339, 350, 361, 372, 383, 383, 399, 415, 431, 447, 463, 463, 481, 499, 517, 535, 553, 553, 582, 612, 641, 671, 700, 700, 722, 745, 767, 790, 812, 812, 825, 839, 852, 866, 879, 879, 904, 929, 955, 980, 1005, 1005, 1009, 1012, 1016, 1019, 1023, 1023, 1045, 1066, 1088, 1109, 1131, 1131, 1151, 1170, 1190, 1209, 1229, 1229, 1253, 1278, 1302, 1327, 1351, 1351, 1376, 1402, 1427, 1453, 1478, 1478, 1498, 1517, 1537, 1556, 1576], 'UttarPradesh': [0, 0, 0, 0, 0, 0, 0, 0, 0, 0, 0, 0, 0, 0, 0, 0, 0, 0, 0, 0, 0, 0, 0, 0, 0, 0, 0, 0, 0, 0, 0, 0, 0, 0, 0, 0, 0, 0, 0, 0, 0, 0, 0, 0, 0, 0, 0, 0, 0, 0, 0, 0, 0, 0, 0, 0, 0, 0, 0, 0, 0, 0, 0, 0, 0, 0, 0, 0, 0, 0, 0, 0, 0, 0, 0, 0, 0, 0, 0, 0, 0, 0, 0, 0, 0, 0, 0, 0, 0, 0, 0, 0, 0, 0, 0, 0, 0, 0, 0, 0, 0, 0, 0, 0, 0, 0, 0, 0, 0, 0, 0, 0, 0, 0, 0, 0, 0, 0, 0, 0, 0, 0, 0, 0, 0, 0, 0, 0, 0, 0, 0, 0, 0, 0, 0, 0, 0, 0, 0, 0, 0, 0, 0, 0, 0, 0, 0, 0, 0, 0, 0, 0, 0, 0, 0, 0, 0, 0, 0, 0, 0, 0, 0, 0, 0, 0, 0, 0, 0, 0, 0, 0, 0, 0, 0, 0, 0, 0, 0, 0, 0, 0, 0, 0, 0, 0, 0, 0, 0, 0, 0, 0, 0, 0, 0, 0, 0, 0, 0, 1, 2, 4, 5, 6, 6, 6, 6, 7, 7, 7, 7, 7, 7, 7, 7, 7, 7, 7, 7, 7, 7, 7, 7, 7, 7, 7, 7, 7, 7, 7, 7, 7, 7, 7, 7, 7, 7, 7, 7, 7, 7, 7, 8, 8, 9, 9, 9, 9, 10, 10, 11, 11, 11, 11, 11, 11, 11, 11, 11, 11, 11, 12, 12, 12, 12, 12, 12, 13, 13, 13, 13, 13, 13, 13, 13, 13, 13, 13, 14, 14, 15, 15, 15, 15, 15, 16, 16, 16, 16, 17, 17, 18, 18, 19, 19, 20, 21, 21, 22, 23, 23, 23, 23, 24, 24, 24, 24, 25, 25, 26, 26, 27, 27, 28, 29, 29, 30, 31, 31, 31, 32, 32, 33, 33, 33, 34, 35, 35, 36, 37, 37, 38, 39, 39, 40, 41, 41, 41, 41, 41, 41, 41, 41, 44, 47, 49, 52, 55, 55, 57, 59, 61, 63, 65, 65, 68, 72, 75, 79, 82, 82, 86, 90, 93, 97, 101, 101, 101, 102, 102, 103, 103, 103, 105, 107, 109, 111, 113, 113, 125, 137, 148, 160, 172, 172, 172, 173, 173, 174, 174, 174, 185, 195, 206, 216, 227, 227, 243, 258, 274, 289, 305, 305, 305, 305, 305, 305, 305, 305, 313, 320, 328, 335, 343, 343, 356, 370, 383, 397, 410, 410, 414, 418, 423, 427, 431, 431, 431, 432, 432, 433, 433, 433, 437, 441, 444, 448, 452, 452, 458, 464, 471, 477, 483, 483, 518, 553, 587, 622, 657, 657, 673, 688, 704, 719, 735, 735, 743, 750, 758, 765, 773, 773, 788, 802, 817, 831, 846, 846, 871, 895, 920, 944, 969, 969, 992, 1015, 1038, 1061, 1084, 1084, 1102, 1121, 1139, 1158, 1176, 1176, 1200, 1223, 1247, 1270, 1294], 'Odisha': [0, 0, 0, 0, 0, 0, 0, 0, 0, 0, 0, 0, 0, 0, 0, 0, 0, 0, 0, 0, 0, 0, 0, 0, 0, 0, 0, 0, 0, 0, 0, 0, 0, 0, 0, 0, 0, 0, 0, 0, 0, 0, 0, 0, 0, 0, 0, 0, 0, 0, 0, 0, 0, 0, 0, 0, 0, 0, 0, 0, 0, 0, 0, 0, 0, 0, 0, 0, 0, 0, 0, 0, 0, 0, 0, 0, 0, 0, 0, 0, 0, 0, 0, 0, 0, 0, 0, 0, 0, 0, 0, 0, 0, 0, 0, 0, 0, 0, 0, 0, 0, 0, 0, 0, 0, 0, 0, 0, 0, 0, 0, 0, 0, 0, 0, 0, 0, 0, 0, 0, 0, 0, 0, 0, 0, 0, 0, 0, 0, 0, 0, 0, 0, 0, 0, 0, 0, 0, 0, 0, 0, 0, 0, 0, 0, 0, 0, 0, 0, 0, 0, 0, 0, 0, 0, 0, 0, 0, 0, 0, 0, 0, 0, 0, 0, 0, 0, 0, 0, 0, 0, 0, 0, 0, 0, 0, 0, 0, 0, 0, 0, 0, 0, 0, 0, 0, 0, 0, 0, 0, 0, 0, 0, 0, 0, 0, 0, 0, 0, 0, 0, 0, 0, 0, 0, 0, 0, 0, 0, 0, 0, 0, 0, 0, 0, 0, 0, 0, 0, 0, 0, 0, 0, 0, 0, 0, 0, 0, 0, 0, 0, 0, 0, 0, 0, 0, 0, 0, 0, 0, 0, 0, 0, 0, 0, 0, 0, 0, 0, 0, 0, 0, 0, 0, 0, 0, 0, 0, 0, 0, 0, 0, 0, 0, 0, 0, 0, 0, 0, 0, 0, 0, 0, 1, 1, 1, 1, 1, 1, 1, 1, 1, 1, 1, 1, 1, 1, 1, 1, 1, 1, 1, 1, 1, 1, 1, 1, 2, 2, 2, 2, 2, 2, 2, 2, 2, 2, 2, 2, 2, 2, 2, 2, 2, 2, 2, 2, 2, 2, 2, 2, 2, 2, 2, 2, 2, 2, 2, 2, 2, 2, 2, 2, 2, 2, 2, 2, 2, 2, 2, 2, 2, 2, 2, 2, 3, 3, 3, 3, 3, 3, 3, 3, 3, 3, 3, 3, 3, 3, 3, 3, 3, 3, 3, 3, 3, 3, 3, 3, 4, 4, 4, 4, 4, 4, 4, 4, 4, 4, 4, 4, 5, 5, 5, 5, 5, 5, 5, 5, 5, 5, 8, 11, 14, 17, 20, 20, 20, 20, 21, 21, 21, 21, 25, 29, 34, 38, 42, 42, 42, 42, 42, 42, 42, 42, 42, 42, 42, 42, 42, 42, 42, 43, 43, 44, 44, 44, 45, 46, 46, 47, 48, 48, 49, 50, 52, 53, 54, 54, 54, 54, 54, 54, 54, 54, 54, 54, 55, 55, 55, 55, 56, 57, 58, 59, 60, 60, 60, 60, 60, 60, 60, 60, 60, 60, 60, 60, 60, 60, 60, 60, 60, 60, 60, 60, 60, 60, 61, 61, 61, 61, 62, 64, 65, 67, 68, 68, 69, 70, 72, 73, 74], 'TamilNadu': [0, 0, 0, 0, 0, 0, 0, 0, 0, 0, 0, 0, 0, 0, 0, 0, 0, 0, 0, 0, 0, 0, 0, 0, 0, 0, 0, 0, 0, 0, 0, 0, 0, 0, 0, 0, 0, 0, 0, 0, 0, 0, 0, 0, 0, 0, 0, 0, 0, 0, 0, 0, 0, 0, 0, 0, 0, 0, 0, 0, 0, 0, 0, 0, 0, 0, 0, 0, 0, 0, 0, 0, 0, 0, 0, 0, 0, 0, 0, 0, 0, 0, 0, 0, 0, 0, 0, 0, 0, 0, 0, 0, 0, 0, 0, 0, 0, 0, 0, 0, 0, 0, 0, 0, 0, 0, 0, 0, 0, 0, 0, 0, 0, 0, 0, 0, 0, 0, 0, 0, 0, 0, 0, 0, 0, 0, 0, 0, 0, 0, 0, 0, 0, 0, 0, 0, 0, 0, 0, 0, 0, 0, 0, 0, 0, 0, 0, 0, 0, 0, 0, 0, 0, 0, 0, 0, 0, 0, 0, 0, 0, 0, 0, 0, 0, 0, 0, 0, 0, 0, 0, 0, 0, 0, 0, 0, 0, 0, 0, 0, 0, 0, 0, 0, 0, 0, 0, 0, 0, 0, 0, 0, 0, 0, 0, 0, 0, 0, 0, 0, 0, 0, 0, 0, 0, 0, 0, 0, 0, 0, 0, 0, 0, 0, 0, 0, 0, 0, 0, 1, 1, 1, 1, 1, 1, 1, 1, 1, 1, 1, 1, 1, 1, 1, 1, 1, 1, 1, 1, 1, 1, 1, 1, 1, 1, 1, 1, 1, 1, 1, 1, 1, 1, 1, 1, 1, 1, 1, 1, 1, 1, 1, 1, 1, 1, 1, 1, 1, 1, 1, 1, 1, 1, 1, 1, 1, 1, 1, 1, 1, 1, 1, 1, 1, 1, 1, 1, 1, 1, 1, 1, 2, 2, 2, 2, 2, 2, 3, 3, 3, 3, 3, 3, 3, 3, 3, 3, 4, 5, 5, 6, 7, 7, 7, 8, 8, 9, 9, 9, 10, 11, 13, 14, 15, 15, 16, 16, 17, 17, 18, 18, 20, 21, 23, 24, 26, 26, 27, 27, 28, 28, 29, 29, 31, 33, 36, 38, 40, 40, 42, 44, 45, 47, 49, 49, 53, 56, 60, 63, 67, 67, 68, 70, 71, 73, 74, 74, 106, 138, 170, 202, 234, 234, 234, 234, 234, 234, 234, 234, 249, 264, 279, 294, 309, 309, 329, 350, 370, 391, 411, 411, 426, 441, 455, 470, 485, 485, 502, 519, 537, 554, 571, 571, 581, 591, 601, 611, 621, 621, 635, 649, 662, 676, 690, 690, 700, 709, 719, 728, 738, 738, 757, 776, 796, 815, 834, 834, 849, 865, 880, 896, 911, 911, 923, 934, 946, 957, 969, 969, 990, 1011, 1033, 1054, 1075, 1075, 1095, 1114, 1134, 1153, 1173, 1173, 1179, 1185, 1192, 1198, 1204, 1204, 1212, 1219, 1227, 1234, 1242, 1242, 1247, 1252, 1257, 1262, 1267, 1267, 1278, 1289, 1301, 1312, 1323, 1323, 1333, 1343, 1352, 1362, 1372, 1372, 1393, 1414, 1435, 1456, 1477, 1477, 1486, 1494, 1503, 1511, 1520], 'Punjab': [0, 0, 0, 0, 0, 0, 0, 0, 0, 0, 0, 0, 0, 0, 0, 0, 0, 0, 0, 0, 0, 0, 0, 0, 0, 0, 0, 0, 0, 0, 0, 0, 0, 0, 0, 0, 0, 0, 0, 0, 0, 0, 0, 0, 0, 0, 0, 0, 0, 0, 0, 0, 0, 0, 0, 0, 0, 0, 0, 0, 0, 0, 0, 0, 0, 0, 0, 0, 0, 0, 0, 0, 0, 0, 0, 0, 0, 0, 0, 0, 0, 0, 0, 0, 0, 0, 0, 0, 0, 0, 0, 0, 0, 0, 0, 0, 0, 0, 0, 0, 0, 0, 0, 0, 0, 0, 0, 0, 0, 0, 0, 0, 0, 0, 0, 0, 0, 0, 0, 0, 0, 0, 0, 0, 0, 0, 0, 0, 0, 0, 0, 0, 0, 0, 0, 0, 0, 0, 0, 0, 0, 0, 0, 0, 0, 0, 0, 0, 0, 0, 0, 0, 0, 0, 0, 0, 0, 0, 0, 0, 0, 0, 0, 0, 0, 0, 0, 0, 0, 0, 0, 0, 0, 0, 0, 0, 0, 0, 0, 0, 0, 0, 0, 0, 0, 0, 0, 0, 0, 0, 0, 0, 0, 0, 0, 0, 0, 0, 0, 0, 0, 0, 0, 0, 0, 0, 0, 0, 0, 0, 0, 0, 0, 0, 0, 0, 0, 0, 0, 0, 0, 0, 0, 0, 0, 0, 0, 0, 0, 0, 0, 1, 1, 1, 1, 1, 1, 1, 1, 1, 1, 1, 1, 1, 1, 1, 1, 1, 1, 1, 1, 1, 1, 1, 1, 1, 1, 1, 1, 1, 1, 1, 1, 1, 1, 1, 1, 1, 1, 1, 1, 1, 1, 1, 1, 1, 1, 1, 1, 1, 1, 1, 1, 1, 1, 1, 1, 1, 1, 1, 1, 2, 2, 2, 2, 2, 2, 2, 2, 2, 2, 4, 6, 9, 11, 13, 13, 15, 16, 18, 19, 21, 21, 21, 21, 21, 21, 21, 21, 23, 24, 26, 27, 29, 29, 29, 29, 29, 29, 29, 29, 30, 31, 31, 32, 33, 33, 33, 33, 33, 33, 33, 33, 34, 35, 36, 37, 38, 38, 38, 38, 38, 38, 38, 38, 38, 38, 38, 38, 38, 38, 39, 39, 40, 40, 41, 41, 41, 41, 42, 42, 42, 42, 43, 44, 44, 45, 46, 46, 46, 47, 47, 48, 48, 48, 50, 52, 53, 55, 57, 57, 57, 57, 57, 57, 57, 57, 61, 65, 68, 72, 76, 76, 79, 82, 85, 88, 91, 91, 91, 91, 91, 91, 91, 91, 93, 95, 97, 99, 101, 101, 107, 113, 120, 126, 132, 132, 132, 132, 132, 132, 132, 132, 136, 140, 143, 147, 151, 151, 154, 157, 161, 164, 167, 167, 169, 171, 172, 174, 176, 176, 178, 180, 182, 184, 186, 186, 186, 186, 186, 186, 186, 186, 186, 186, 186, 186, 186, 186, 189, 192, 196, 199, 202, 202, 205, 209, 212, 216, 219, 219, 219, 219, 219, 219, 219, 219, 224, 229, 235, 240, 245], 'Kerala': [1, 1, 1, 1, 1, 1, 1, 1, 1, 2, 2, 2, 2, 2, 2, 3, 3, 3, 3, 3, 3, 3, 3, 3, 3, 3, 3, 3, 3, 3, 3, 3, 3, 3, 3, 3, 3, 3, 3, 3, 3, 3, 3, 3, 3, 3, 3, 3, 3, 3, 3, 3, 3, 3, 3, 3, 3, 3, 3, 3, 3, 3, 3, 3, 3, 3, 3, 3, 3, 3, 3, 3, 3, 3, 3, 3, 3, 3, 3, 3, 3, 3, 3, 3, 3, 3, 3, 3, 3, 3, 3, 3, 3, 3, 3, 3, 3, 3, 3, 3, 3, 3, 3, 3, 3, 3, 3, 3, 3, 3, 3, 3, 3, 3, 3, 3, 3, 3, 3, 3, 3, 3, 3, 3, 3, 3, 3, 3, 3, 3, 3, 3, 3, 3, 3, 3, 3, 3, 3, 3, 3, 3, 3, 3, 3, 3, 3, 3, 3, 3, 3, 3, 3, 3, 3, 3, 3, 3, 3, 3, 3, 3, 3, 3, 3, 3, 3, 3, 3, 3, 3, 3, 3, 3, 3, 3, 3, 3, 3, 3, 3, 3, 3, 3, 3, 3, 3, 3, 3, 3, 3, 3, 3, 3, 3, 3, 3, 3, 3, 3, 3, 3, 3, 3, 3, 3, 3, 3, 3, 3, 3, 3, 3, 3, 3, 3, 3, 3, 3, 3, 3, 3, 3, 4, 5, 6, 7, 8, 8, 8, 8, 9, 9, 9, 9, 10, 11, 13, 14, 15, 15, 15, 16, 16, 17, 17, 17, 17, 17, 17, 17, 17, 17, 17, 18, 18, 19, 19, 19, 19, 19, 19, 19, 19, 19, 20, 20, 21, 21, 22, 22, 22, 22, 23, 23, 23, 23, 24, 24, 25, 25, 26, 26, 26, 26, 27, 27, 27, 27, 27, 27, 27, 27, 27, 27, 27, 27, 28, 28, 28, 28, 30, 33, 35, 38, 40, 40, 42, 45, 47, 50, 52, 52, 55, 58, 61, 64, 67, 67, 73, 78, 84, 89, 95, 95, 98, 101, 103, 106, 109, 109, 111, 113, 114, 116, 118, 118, 122, 126, 129, 133, 137, 137, 145, 153, 160, 168, 176, 176, 177, 178, 180, 181, 182, 182, 186, 190, 194, 198, 202, 202, 208, 215, 221, 228, 234, 234, 235, 237, 238, 240, 241, 241, 246, 251, 255, 260, 265, 265, 269, 273, 278, 282, 286, 286, 288, 290, 291, 293, 295, 295, 297, 299, 302, 304, 306, 306, 308, 309, 311, 312, 314, 314, 317, 319, 322, 324, 327, 327, 329, 331, 332, 334, 336, 336, 338, 340, 341, 343, 345, 345, 347, 350, 352, 355, 357, 357, 358, 360, 361, 363, 364, 364, 366, 368, 370, 372, 374, 374, 374, 375, 375, 376, 376, 376, 377, 377, 378, 378, 379, 379, 381, 382, 384, 385, 387, 387, 387, 387, 388, 388, 388, 388, 389, 391, 392, 394, 395, 395, 395, 395, 396, 396, 396, 396, 397, 398, 398, 399, 400, 400, 400, 401, 401, 402, 402, 402, 403, 404, 406, 407, 408], 'Puducherry': [0, 0, 0, 0, 0, 0, 0, 0, 0, 0, 0, 0, 0, 0, 0, 0, 0, 0, 0, 0, 0, 0, 0, 0, 0, 0, 0, 0, 0, 0, 0, 0, 0, 0, 0, 0, 0, 0, 0, 0, 0, 0, 0, 0, 0, 0, 0, 0, 0, 0, 0, 0, 0, 0, 0, 0, 0, 0, 0, 0, 0, 0, 0, 0, 0, 0, 0, 0, 0, 0, 0, 0, 0, 0, 0, 0, 0, 0, 0, 0, 0, 0, 0, 0, 0, 0, 0, 0, 0, 0, 0, 0, 0, 0, 0, 0, 0, 0, 0, 0, 0, 0, 0, 0, 0, 0, 0, 0, 0, 0, 0, 0, 0, 0, 0, 0, 0, 0, 0, 0, 0, 0, 0, 0, 0, 0, 0, 0, 0, 0, 0, 0, 0, 0, 0, 0, 0, 0, 0, 0, 0, 0, 0, 0, 0, 0, 0, 0, 0, 0, 0, 0, 0, 0, 0, 0, 0, 0, 0, 0, 0, 0, 0, 0, 0, 0, 0, 0, 0, 0, 0, 0, 0, 0, 0, 0, 0, 0, 0, 0, 0, 0, 0, 0, 0, 0, 0, 0, 0, 0, 0, 0, 0, 0, 0, 0, 0, 0, 0, 0, 0, 0, 0, 0, 0, 0, 0, 0, 0, 0, 0, 0, 0, 0, 0, 0, 0, 0, 0, 0, 0, 0, 0, 0, 0, 0, 0, 0, 0, 0, 0, 0, 0, 0, 0, 0, 0, 0, 0, 0, 0, 0, 0, 0, 0, 0, 0, 0, 0, 0, 0, 0, 0, 0, 0, 0, 0, 0, 0, 0, 0, 0, 0, 0, 0, 0, 0, 0, 0, 0, 0, 0, 0, 0, 0, 0, 0, 0, 0, 0, 0, 0, 0, 0, 0, 1, 1, 1, 1, 1, 1, 1, 1, 1, 1, 1, 1, 1, 1, 1, 1, 1, 1, 1, 1, 1, 1, 1, 1, 1, 1, 1, 1, 1, 1, 1, 1, 1, 1, 1, 1, 1, 1, 1, 1, 1, 1, 1, 1, 1, 1, 1, 1, 1, 1, 1, 1, 1, 1, 1, 1, 1, 1, 1, 1, 1, 1, 1, 1, 1, 1, 1, 1, 1, 1, 1, 1, 1, 1, 1, 1, 1, 1, 1, 1, 1, 1, 1, 2, 2, 3, 3, 3, 3, 3, 3, 3, 3, 3, 3, 4, 4, 5, 5, 5, 5, 5, 5, 5, 5, 5, 5, 5, 5, 5, 5, 5, 5, 5, 5, 5, 5, 5, 5, 5, 5, 5, 5, 5, 5, 5, 5, 5, 5, 5, 5, 5, 5, 5, 5, 5, 5, 5, 5, 5, 5, 5, 5, 6, 6, 7, 7, 7, 7, 7, 7, 7, 7, 7, 7, 7, 7, 7, 7, 7, 7, 7, 7, 7, 7, 7, 7, 7, 7, 7, 7, 7, 7, 7, 7, 7, 7, 7, 7, 7, 7, 7, 7, 7, 7, 7, 7, 7, 7, 7, 7, 7, 7, 7, 7, 7, 7, 7, 7, 7, 7, 7, 7, 7, 7, 7, 7], 'Telengana': [0, 0, 0, 0, 0, 0, 0, 0, 0, 0, 0, 0, 0, 0, 0, 0, 0, 0, 0, 0, 0, 0, 0, 0, 0, 0, 0, 0, 0, 0, 0, 0, 0, 0, 0, 0, 0, 0, 0, 0, 0, 0, 0, 0, 0, 0, 0, 0, 0, 0, 0, 0, 0, 0, 0, 0, 0, 0, 0, 0, 0, 0, 0, 0, 0, 0, 0, 0, 0, 0, 0, 0, 0, 0, 0, 0, 0, 0, 0, 0, 0, 0, 0, 0, 0, 0, 0, 0, 0, 0, 0, 0, 0, 0, 0, 0, 0, 0, 0, 0, 0, 0, 0, 0, 0, 0, 0, 0, 0, 0, 0, 0, 0, 0, 0, 0, 0, 0, 0, 0, 0, 0, 0, 0, 0, 0, 0, 0, 0, 0, 0, 0, 0, 0, 0, 0, 0, 0, 0, 0, 0, 0, 0, 0, 0, 0, 0, 0, 0, 0, 0, 0, 0, 0, 0, 0, 0, 0, 0, 0, 0, 0, 0, 0, 0, 0, 0, 0, 0, 0, 0, 0, 0, 0, 0, 0, 0, 0, 0, 0, 0, 0, 0, 0, 0, 0, 0, 0, 0, 1, 1, 1, 1, 1, 1, 1, 1, 1, 1, 1, 1, 1, 1, 1, 1, 1, 1, 1, 1, 1, 1, 1, 1, 1, 1, 1, 1, 1, 1, 1, 1, 1, 1, 1, 1, 1, 1, 1, 1, 1, 1, 1, 1, 1, 1, 1, 1, 1, 1, 1, 1, 1, 1, 1, 1, 1, 1, 1, 1, 1, 1, 1, 1, 1, 1, 1, 1, 1, 1, 1, 1, 1, 1, 1, 1, 1, 2, 2, 3, 3, 3, 3, 3, 3, 3, 3, 3, 3, 4, 4, 5, 5, 5, 5, 5, 6, 6, 6, 6, 6, 6, 6, 6, 6, 6, 8, 10, 13, 15, 17, 17, 18, 19, 19, 20, 21, 21, 21, 21, 22, 22, 22, 22, 24, 26, 28, 30, 32, 32, 33, 33, 34, 34, 35, 35, 35, 35, 35, 35, 35, 35, 37, 39, 40, 42, 44, 44, 44, 44, 45, 45, 45, 45, 47, 49, 52, 54, 56, 56, 58, 60, 62, 64, 66, 66, 67, 68, 69, 70, 71, 71, 73, 74, 76, 77, 79, 79, 82, 86, 89, 93, 96, 96, 98, 100, 103, 105, 107, 107, 117, 127, 138, 148, 158, 158, 158, 158, 159, 159, 159, 159, 181, 203, 225, 247, 269, 269, 279, 290, 300, 311, 321, 321, 330, 338, 347, 355, 364, 364, 377, 389, 402, 414, 427, 427, 430, 433, 436, 439, 442, 442, 448, 454, 461, 467, 473, 473, 479, 485, 492, 498, 504, 504, 504, 504, 504, 504, 504, 504, 516, 527, 539, 550, 562, 562, 574, 587, 599, 612, 624, 624, 629, 633, 638, 642, 647, 647, 657, 667, 678, 688, 698, 698, 707, 716, 725, 734, 743, 743, 753, 762, 772, 781, 791, 791, 802, 812, 823, 833, 844, 844, 850, 856, 861, 867, 873, 873, 882, 891, 901, 910, 919], 'JammuandKashmir': [0, 0, 0, 0, 0, 0, 0, 0, 0, 0, 0, 0, 0, 0, 0, 0, 0, 0, 0, 0, 0, 0, 0, 0, 0, 0, 0, 0, 0, 0, 0, 0, 0, 0, 0, 0, 0, 0, 0, 0, 0, 0, 0, 0, 0, 0, 0, 0, 0, 0, 0, 0, 0, 0, 0, 0, 0, 0, 0, 0, 0, 0, 0, 0, 0, 0, 0, 0, 0, 0, 0, 0, 0, 0, 0, 0, 0, 0, 0, 0, 0, 0, 0, 0, 0, 0, 0, 0, 0, 0, 0, 0, 0, 0, 0, 0, 0, 0, 0, 0, 0, 0, 0, 0, 0, 0, 0, 0, 0, 0, 0, 0, 0, 0, 0, 0, 0, 0, 0, 0, 0, 0, 0, 0, 0, 0, 0, 0, 0, 0, 0, 0, 0, 0, 0, 0, 0, 0, 0, 0, 0, 0, 0, 0, 0, 0, 0, 0, 0, 0, 0, 0, 0, 0, 0, 0, 0, 0, 0, 0, 0, 0, 0, 0, 0, 0, 0, 0, 0, 0, 0, 0, 0, 0, 0, 0, 0, 0, 0, 0, 0, 0, 0, 0, 0, 0, 0, 0, 0, 0, 0, 0, 0, 0, 0, 0, 0, 0, 0, 0, 0, 0, 0, 0, 0, 0, 0, 0, 0, 0, 0, 0, 0, 0, 0, 0, 0, 0, 0, 0, 0, 0, 0, 0, 0, 0, 0, 0, 0, 0, 0, 1, 1, 1, 1, 1, 1, 1, 1, 1, 1, 1, 1, 1, 1, 1, 1, 1, 1, 1, 1, 1, 1, 1, 1, 1, 1, 1, 1, 1, 1, 2, 2, 2, 2, 2, 2, 2, 2, 2, 2, 2, 2, 3, 3, 3, 3, 3, 3, 3, 3, 3, 3, 3, 3, 3, 3, 3, 3, 3, 3, 4, 4, 4, 4, 4, 4, 4, 4, 4, 4, 4, 4, 4, 4, 4, 4, 4, 4, 4, 4, 4, 4, 4, 4, 4, 4, 4, 4, 4, 4, 4, 4, 4, 4, 5, 5, 6, 6, 7, 7, 8, 9, 11, 12, 13, 13, 13, 13, 13, 13, 13, 13, 14, 16, 17, 19, 20, 20, 22, 24, 27, 29, 31, 31, 34, 38, 41, 45, 48, 48, 49, 50, 52, 53, 54, 54, 56, 57, 59, 60, 62, 62, 62, 62, 62, 62, 62, 62, 65, 67, 70, 72, 75, 75, 75, 75, 75, 75, 75, 75, 81, 87, 94, 100, 106, 106, 107, 107, 108, 108, 109, 109, 110, 112, 113, 115, 116, 116, 116, 116, 116, 116, 116, 116, 124, 133, 141, 150, 158, 158, 163, 168, 174, 179, 184, 184, 189, 193, 198, 202, 207, 207, 210, 214, 217, 221, 224, 224, 228, 232, 237, 241, 245, 245, 250, 255, 260, 265, 270, 270, 272, 273, 275, 276, 278, 278, 282, 287, 291, 296, 300, 300, 303, 306, 308, 311, 314, 314, 317, 320, 322, 325, 328, 328, 331, 333, 336, 338, 341, 341, 343, 345, 346, 348, 350, 350, 354, 357, 361, 364, 368], 'MadhyaPradesh': [0, 0, 0, 0, 0, 0, 0, 0, 0, 0, 0, 0, 0, 0, 0, 0, 0, 0, 0, 0, 0, 0, 0, 0, 0, 0, 0, 0, 0, 0, 0, 0, 0, 0, 0, 0, 0, 0, 0, 0, 0, 0, 0, 0, 0, 0, 0, 0, 0, 0, 0, 0, 0, 0, 0, 0, 0, 0, 0, 0, 0, 0, 0, 0, 0, 0, 0, 0, 0, 0, 0, 0, 0, 0, 0, 0, 0, 0, 0, 0, 0, 0, 0, 0, 0, 0, 0, 0, 0, 0, 0, 0, 0, 0, 0, 0, 0, 0, 0, 0, 0, 0, 0, 0, 0, 0, 0, 0, 0, 0, 0, 0, 0, 0, 0, 0, 0, 0, 0, 0, 0, 0, 0, 0, 0, 0, 0, 0, 0, 0, 0, 0, 0, 0, 0, 0, 0, 0, 0, 0, 0, 0, 0, 0, 0, 0, 0, 0, 0, 0, 0, 0, 0, 0, 0, 0, 0, 0, 0, 0, 0, 0, 0, 0, 0, 0, 0, 0, 0, 0, 0, 0, 0, 0, 0, 0, 0, 0, 0, 0, 0, 0, 0, 0, 0, 0, 0, 0, 0, 0, 0, 0, 0, 0, 0, 0, 0, 0, 0, 0, 0, 0, 0, 0, 0, 0, 0, 0, 0, 0, 0, 0, 0, 0, 0, 0, 0, 0, 0, 0, 0, 0, 0, 0, 0, 0, 0, 0, 0, 0, 0, 0, 0, 0, 0, 0, 0, 0, 0, 0, 0, 0, 0, 0, 0, 0, 0, 0, 0, 0, 0, 0, 0, 0, 0, 0, 0, 0, 0, 0, 0, 0, 0, 0, 0, 0, 0, 0, 0, 0, 0, 0, 0, 0, 0, 0, 0, 0, 0, 0, 0, 0, 0, 0, 0, 0, 0, 0, 0, 0, 0, 0, 0, 0, 0, 0, 0, 0, 0, 0, 0, 1, 2, 2, 3, 4, 4, 4, 4, 4, 4, 4, 4, 4, 5, 5, 6, 6, 6, 6, 6, 7, 7, 7, 7, 8, 10, 11, 13, 14, 14, 15, 16, 18, 19, 20, 20, 20, 20, 20, 20, 20, 20, 22, 24, 26, 28, 30, 30, 30, 30, 30, 30, 30, 30, 33, 37, 40, 44, 47, 47, 47, 47, 47, 47, 47, 47, 51, 55, 58, 62, 66, 66, 73, 79, 86, 92, 99, 99, 100, 101, 102, 103, 104, 104, 104, 104, 104, 104, 104, 104, 116, 128, 141, 153, 165, 165, 165, 165, 165, 165, 165, 165, 178, 191, 203, 216, 229, 229, 229, 229, 229, 229, 229, 229, 235, 241, 247, 253, 259, 259, 259, 259, 259, 259, 259, 259, 296, 333, 369, 406, 443, 443, 467, 491, 516, 540, 564, 564, 572, 580, 588, 596, 604, 604, 629, 654, 680, 705, 730, 730, 781, 833, 884, 936, 987, 987, 1014, 1040, 1067, 1093, 1120, 1120, 1158, 1195, 1233, 1270, 1308, 1308, 1317, 1327, 1336, 1346, 1355, 1355, 1365, 1376, 1386, 1397, 1407, 1407, 1423, 1438, 1454, 1469, 1485, 1485, 1496, 1507, 1518, 1529, 1540], 'Unassigned': [0, 0, 0, 0, 0, 0, 0, 0, 0, 0, 0, 0, 0, 0, 0, 0, 0, 0, 0, 0, 0, 0, 0, 0, 0, 0, 0, 0, 0, 0, 0, 0, 0, 0, 0, 0, 0, 0, 0, 0, 0, 0, 0, 0, 0, 0, 0, 0, 0, 0, 0, 0, 0, 0, 0, 0, 0, 0, 0, 0, 0, 0, 0, 0, 0, 0, 0, 0, 0, 0, 0, 0, 0, 0, 0, 0, 0, 0, 0, 0, 0, 0, 0, 0, 0, 0, 0, 0, 0, 0, 0, 0, 0, 0, 0, 0, 0, 0, 0, 0, 0, 0, 0, 0, 0, 0, 0, 0, 0, 0, 0, 0, 0, 0, 0, 0, 0, 0, 0, 0, 0, 0, 0, 0, 0, 0, 0, 0, 0, 0, 0, 0, 0, 0, 0, 0, 0, 0, 0, 0, 0, 0, 0, 0, 0, 0, 0, 0, 0, 0, 0, 0, 0, 0, 0, 0, 0, 0, 0, 0, 0, 0, 0, 0, 0, 0, 0, 0, 0, 0, 0, 0, 0, 0, 0, 0, 0, 0, 0, 0, 0, 0, 0, 0, 0, 0, 0, 0, 0, 0, 0, 0, 0, 0, 0, 0, 0, 0, 0, 0, 0, 0, 0, 0, 0, 0, 0, 0, 0, 0, 0, 0, 0, 0, 0, 0, 0, 0, 0, 0, 0, 0, 0, 0, 0, 0, 0, 0, 0, 0, 0, 0, 0, 0, 0, 0, 0, 0, 0, 0, 0, 0, 0, 0, 0, 0, 0, 0, 0, 0, 0, 0, 0, 0, 0, 0, 0, 0, 0, 0, 0, 0, 0, 0, 0, 0, 0, 0, 0, 0, 0, 0, 0, 0, 0, 0, 0, 0, 0, 0, 0, 0, 0, 0, 0, 0, 0, 0, 0, 0, 0, 0, 0, 0, 0, 0, 0, 0, 0, 0, 0, 0, 0, 0, 0, 0, 0, 0, 0, 0, 0, 0, 0, 0, 0, 0, 0, 0, 0, 0, 0, 0, 0, 0, 0, 0, 0, 0, 0, 0, 0, 0, 0, 0, 0, 0, 0, 0, 0, 0, 0, 0, 0, 0, 0, 0, 0, 0, 0, 0, 0, 0, 0, 0, 0, 9, 18, 28, 37, 46, 46, 44, 43, 41, 40, 38, 38, 30, 23, 15, 8, 0, 0, 0, 0, 0, 0, 0, 0, 15, 31, 46, 62, 77, 77, 62, 46, 31, 15, 0, 0, 0, 0, 0, 0, 0, 0, 0, 0, 0, 0, 0, 0, 0, 0, 0, 0, 0, 0, 0, 0, 0, 0, 0, 0, 0, 0, 0, 0, 0, 0, 0, 0, 0, 0, 0, 0, 0, 0, 0, 0, 0, 0, 0, 0, 0, 0, 0, 0, 0, 0, 0, 0, 0, 0, 0, 0, 0, 0, 0, 0, 0, 0, 0, 0, 0, 0, 0, 0, 0, 0, 0, 0, 0, 0, 0, 0, 0, 0, 0, 0, 0, 0, 0, 0, 0, 0, 0, 0, 0, 0, 0, 0, 0, 0, 0, 0, 0, 0, 0, 0, 0], 'AndamanandNicobarIslands': [0, 0, 0, 0, 0, 0, 0, 0, 0, 0, 0, 0, 0, 0, 0, 0, 0, 0, 0, 0, 0, 0, 0, 0, 0, 0, 0, 0, 0, 0, 0, 0, 0, 0, 0, 0, 0, 0, 0, 0, 0, 0, 0, 0, 0, 0, 0, 0, 0, 0, 0, 0, 0, 0, 0, 0, 0, 0, 0, 0, 0, 0, 0, 0, 0, 0, 0, 0, 0, 0, 0, 0, 0, 0, 0, 0, 0, 0, 0, 0, 0, 0, 0, 0, 0, 0, 0, 0, 0, 0, 0, 0, 0, 0, 0, 0, 0, 0, 0, 0, 0, 0, 0, 0, 0, 0, 0, 0, 0, 0, 0, 0, 0, 0, 0, 0, 0, 0, 0, 0, 0, 0, 0, 0, 0, 0, 0, 0, 0, 0, 0, 0, 0, 0, 0, 0, 0, 0, 0, 0, 0, 0, 0, 0, 0, 0, 0, 0, 0, 0, 0, 0, 0, 0, 0, 0, 0, 0, 0, 0, 0, 0, 0, 0, 0, 0, 0, 0, 0, 0, 0, 0, 0, 0, 0, 0, 0, 0, 0, 0, 0, 0, 0, 0, 0, 0, 0, 0, 0, 0, 0, 0, 0, 0, 0, 0, 0, 0, 0, 0, 0, 0, 0, 0, 0, 0, 0, 0, 0, 0, 0, 0, 0, 0, 0, 0, 0, 0, 0, 0, 0, 0, 0, 0, 0, 0, 0, 0, 0, 0, 0, 0, 0, 0, 0, 0, 0, 0, 0, 0, 0, 0, 0, 0, 0, 0, 0, 0, 0, 0, 0, 0, 0, 0, 0, 0, 0, 0, 0, 0, 0, 0, 0, 0, 0, 0, 0, 0, 0, 0, 0, 0, 0, 0, 0, 0, 0, 0, 0, 0, 0, 0, 0, 0, 0, 0, 0, 0, 0, 0, 0, 0, 0, 0, 0, 0, 0, 0, 0, 0, 0, 0, 0, 0, 0, 0, 0, 0, 0, 0, 0, 0, 0, 0, 0, 0, 0, 0, 0, 0, 0, 0, 0, 0, 0, 0, 0, 0, 0, 0, 0, 0, 0, 1, 1, 1, 1, 1, 1, 1, 1, 1, 1, 2, 3, 4, 5, 6, 6, 7, 7, 8, 8, 9, 9, 9, 9, 9, 9, 9, 9, 9, 9, 10, 10, 10, 10, 10, 10, 10, 10, 10, 10, 10, 10, 10, 10, 10, 10, 10, 10, 10, 10, 10, 10, 10, 10, 10, 10, 10, 10, 10, 10, 10, 10, 10, 10, 10, 10, 10, 10, 10, 10, 10, 10, 10, 10, 10, 10, 10, 10, 10, 10, 10, 10, 10, 10, 11, 11, 11, 11, 11, 11, 11, 11, 11, 11, 11, 11, 11, 11, 11, 11, 11, 11, 11, 11, 11, 11, 11, 11, 11, 11, 11, 11, 11, 11, 11, 11, 11, 11, 11, 11, 11, 11, 11, 11, 11, 11, 11, 11, 11, 11, 11, 11, 11, 11, 11, 11, 11, 11, 12, 12, 12, 12, 12, 13, 13, 14, 14, 14, 14, 14, 15, 15, 15, 15, 15, 15, 16, 16, 16], 'Nagaland': [0, 0, 0, 0, 0, 0, 0, 0, 0, 0, 0, 0, 0, 0, 0, 0, 0, 0, 0, 0, 0, 0, 0, 0, 0, 0, 0, 0, 0, 0, 0, 0, 0, 0, 0, 0, 0, 0, 0, 0, 0, 0, 0, 0, 0, 0, 0, 0, 0, 0, 0, 0, 0, 0, 0, 0, 0, 0, 0, 0, 0, 0, 0, 0, 0, 0, 0, 0, 0, 0, 0, 0, 0, 0, 0, 0, 0, 0, 0, 0, 0, 0, 0, 0, 0, 0, 0, 0, 0, 0, 0, 0, 0, 0, 0, 0, 0, 0, 0, 0, 0, 0, 0, 0, 0, 0, 0, 0, 0, 0, 0, 0, 0, 0, 0, 0, 0, 0, 0, 0, 0, 0, 0, 0, 0, 0, 0, 0, 0, 0, 0, 0, 0, 0, 0, 0, 0, 0, 0, 0, 0, 0, 0, 0, 0, 0, 0, 0, 0, 0, 0, 0, 0, 0, 0, 0, 0, 0, 0, 0, 0, 0, 0, 0, 0, 0, 0, 0, 0, 0, 0, 0, 0, 0, 0, 0, 0, 0, 0, 0, 0, 0, 0, 0, 0, 0, 0, 0, 0, 0, 0, 0, 0, 0, 0, 0, 0, 0, 0, 0, 0, 0, 0, 0, 0, 0, 0, 0, 0, 0, 0, 0, 0, 0, 0, 0, 0, 0, 0, 0, 0, 0, 0, 0, 0, 0, 0, 0, 0, 0, 0, 0, 0, 0, 0, 0, 0, 0, 0, 0, 0, 0, 0, 0, 0, 0, 0, 0, 0, 0, 0, 0, 0, 0, 0, 0, 0, 0, 0, 0, 0, 0, 0, 0, 0, 0, 0, 0, 0, 0, 0, 0, 0, 0, 0, 0, 0, 0, 0, 0, 0, 0, 0, 0, 0, 0, 0, 0, 0, 0, 0, 0, 0, 0, 0, 0, 0, 0, 0, 0, 0, 0, 0, 0, 0, 0, 0, 0, 0, 0, 0, 0, 0, 0, 0, 0, 0, 0, 0, 0, 0, 0, 0, 0, 0, 0, 0, 0, 0, 0, 0, 0, 0, 0, 0, 0, 0, 0, 0, 0, 0, 0, 0, 0, 0, 0, 0, 0, 0, 0, 0, 0, 0, 0, 0, 0, 0, 0, 0, 0, 0, 0, 0, 0, 0, 0, 0, 0, 0, 0, 0, 0, 0, 0, 0, 0, 0, 0, 0, 0, 0, 0, 0, 0, 0, 0, 0, 0, 0, 0, 0, 0, 0, 0, 0, 0, 0, 0, 0, 0, 0, 0, 0, 0, 0, 0, 0, 0, 0, 0, 0, 0, 0, 0, 0, 0, 0, 0, 0, 0, 0, 0, 0, 0, 0, 0, 0, 0, 0, 0, 0, 0, 0, 0, 0, 0, 0, 0, 0, 0, 0, 1, 1, 1, 1, 1, 1, 1, 1, 1, 1, 1, 1, 0, 0, 0, 0, 0, 0, 0, 0, 0, 0, 0, 0, 0, 0, 0, 0, 0, 0, 0, 0, 0, 0, 0, 0, 0, 0, 0, 0, 0, 0, 0, 0, 0, 0, 0, 0, 0, 0, 0], 'Manipur': [0, 0, 0, 0, 0, 0, 0, 0, 0, 0, 0, 0, 0, 0, 0, 0, 0, 0, 0, 0, 0, 0, 0, 0, 0, 0, 0, 0, 0, 0, 0, 0, 0, 0, 0, 0, 0, 0, 0, 0, 0, 0, 0, 0, 0, 0, 0, 0, 0, 0, 0, 0, 0, 0, 0, 0, 0, 0, 0, 0, 0, 0, 0, 0, 0, 0, 0, 0, 0, 0, 0, 0, 0, 0, 0, 0, 0, 0, 0, 0, 0, 0, 0, 0, 0, 0, 0, 0, 0, 0, 0, 0, 0, 0, 0, 0, 0, 0, 0, 0, 0, 0, 0, 0, 0, 0, 0, 0, 0, 0, 0, 0, 0, 0, 0, 0, 0, 0, 0, 0, 0, 0, 0, 0, 0, 0, 0, 0, 0, 0, 0, 0, 0, 0, 0, 0, 0, 0, 0, 0, 0, 0, 0, 0, 0, 0, 0, 0, 0, 0, 0, 0, 0, 0, 0, 0, 0, 0, 0, 0, 0, 0, 0, 0, 0, 0, 0, 0, 0, 0, 0, 0, 0, 0, 0, 0, 0, 0, 0, 0, 0, 0, 0, 0, 0, 0, 0, 0, 0, 0, 0, 0, 0, 0, 0, 0, 0, 0, 0, 0, 0, 0, 0, 0, 0, 0, 0, 0, 0, 0, 0, 0, 0, 0, 0, 0, 0, 0, 0, 0, 0, 0, 0, 0, 0, 0, 0, 0, 0, 0, 0, 0, 0, 0, 0, 0, 0, 0, 0, 0, 0, 0, 0, 0, 0, 0, 0, 0, 0, 0, 0, 0, 0, 0, 0, 0, 0, 0, 0, 0, 0, 0, 0, 0, 0, 0, 0, 0, 0, 0, 0, 0, 0, 0, 0, 0, 0, 0, 0, 0, 0, 0, 0, 0, 0, 0, 0, 0, 0, 0, 0, 0, 0, 0, 0, 0, 0, 0, 0, 0, 0, 0, 0, 0, 0, 0, 0, 0, 0, 0, 0, 0, 0, 0, 0, 0, 0, 0, 0, 0, 0, 1, 1, 1, 1, 1, 1, 1, 1, 1, 1, 1, 1, 1, 1, 1, 1, 1, 1, 1, 1, 1, 1, 1, 1, 1, 1, 1, 1, 1, 1, 1, 1, 1, 1, 1, 1, 1, 1, 1, 1, 1, 1, 1, 1, 1, 1, 1, 1, 1, 1, 1, 1, 1, 1, 1, 1, 1, 1, 1, 1, 2, 2, 2, 2, 2, 2, 2, 2, 2, 2, 2, 2, 2, 2, 2, 2, 2, 2, 2, 2, 2, 2, 2, 2, 2, 2, 2, 2, 2, 2, 2, 2, 2, 2, 2, 2, 2, 2, 2, 2, 2, 2, 2, 2, 2, 2, 2, 2, 2, 2, 2, 2, 2, 2, 2, 2, 2, 2, 2, 2, 2, 2, 2, 2, 2, 2, 2, 2, 2, 2, 2, 2, 2, 2, 2, 2, 2, 2, 2, 2, 2, 2, 2, 2, 2, 2, 2, 2, 2, 2, 2, 2, 2, 2, 2, 2, 2, 2, 2, 2, 2, 2, 2, 2, 2, 2, 2, 2, 2, 2, 2], 'Bihar': [0, 0, 0, 0, 0, 0, 0, 0, 0, 0, 0, 0, 0, 0, 0, 0, 0, 0, 0, 0, 0, 0, 0, 0, 0, 0, 0, 0, 0, 0, 0, 0, 0, 0, 0, 0, 0, 0, 0, 0, 0, 0, 0, 0, 0, 0, 0, 0, 0, 0, 0, 0, 0, 0, 0, 0, 0, 0, 0, 0, 0, 0, 0, 0, 0, 0, 0, 0, 0, 0, 0, 0, 0, 0, 0, 0, 0, 0, 0, 0, 0, 0, 0, 0, 0, 0, 0, 0, 0, 0, 0, 0, 0, 0, 0, 0, 0, 0, 0, 0, 0, 0, 0, 0, 0, 0, 0, 0, 0, 0, 0, 0, 0, 0, 0, 0, 0, 0, 0, 0, 0, 0, 0, 0, 0, 0, 0, 0, 0, 0, 0, 0, 0, 0, 0, 0, 0, 0, 0, 0, 0, 0, 0, 0, 0, 0, 0, 0, 0, 0, 0, 0, 0, 0, 0, 0, 0, 0, 0, 0, 0, 0, 0, 0, 0, 0, 0, 0, 0, 0, 0, 0, 0, 0, 0, 0, 0, 0, 0, 0, 0, 0, 0, 0, 0, 0, 0, 0, 0, 0, 0, 0, 0, 0, 0, 0, 0, 0, 0, 0, 0, 0, 0, 0, 0, 0, 0, 0, 0, 0, 0, 0, 0, 0, 0, 0, 0, 0, 0, 0, 0, 0, 0, 0, 0, 0, 0, 0, 0, 0, 0, 0, 0, 0, 0, 0, 0, 0, 0, 0, 0, 0, 0, 0, 0, 0, 0, 0, 0, 0, 0, 0, 0, 0, 0, 0, 0, 0, 0, 0, 0, 0, 0, 0, 0, 0, 0, 0, 0, 0, 0, 0, 0, 0, 0, 0, 0, 0, 0, 0, 0, 0, 0, 0, 0, 0, 0, 0, 0, 0, 0, 0, 0, 0, 0, 0, 0, 0, 0, 0, 0, 0, 0, 0, 0, 0, 0, 0, 1, 1, 2, 2, 2, 2, 2, 2, 2, 2, 2, 2, 2, 3, 3, 3, 3, 3, 3, 4, 4, 4, 4, 4, 5, 5, 6, 6, 6, 6, 6, 6, 6, 6, 6, 7, 7, 8, 8, 9, 9, 9, 10, 10, 11, 11, 11, 12, 13, 13, 14, 15, 15, 15, 15, 15, 15, 15, 15, 17, 18, 20, 21, 23, 23, 23, 23, 24, 24, 24, 24, 25, 26, 27, 28, 29, 29, 29, 29, 30, 30, 30, 30, 30, 30, 30, 30, 30, 30, 30, 31, 31, 32, 32, 32, 32, 32, 32, 32, 32, 32, 33, 34, 36, 37, 38, 38, 38, 38, 39, 39, 39, 39, 43, 47, 52, 56, 60, 60, 60, 60, 60, 60, 60, 60, 61, 62, 62, 63, 64, 64, 64, 64, 64, 64, 64, 64, 64, 65, 65, 66, 66, 66, 67, 68, 68, 69, 70, 70, 71, 72, 72, 73, 74, 74, 76, 78, 79, 81, 83, 83, 83, 84, 84, 85, 85, 85, 85, 85, 86, 86, 86, 86, 88, 90, 92, 94, 96, 96, 100, 103, 107, 110, 114], 'Jharkhand': [0, 0, 0, 0, 0, 0, 0, 0, 0, 0, 0, 0, 0, 0, 0, 0, 0, 0, 0, 0, 0, 0, 0, 0, 0, 0, 0, 0, 0, 0, 0, 0, 0, 0, 0, 0, 0, 0, 0, 0, 0, 0, 0, 0, 0, 0, 0, 0, 0, 0, 0, 0, 0, 0, 0, 0, 0, 0, 0, 0, 0, 0, 0, 0, 0, 0, 0, 0, 0, 0, 0, 0, 0, 0, 0, 0, 0, 0, 0, 0, 0, 0, 0, 0, 0, 0, 0, 0, 0, 0, 0, 0, 0, 0, 0, 0, 0, 0, 0, 0, 0, 0, 0, 0, 0, 0, 0, 0, 0, 0, 0, 0, 0, 0, 0, 0, 0, 0, 0, 0, 0, 0, 0, 0, 0, 0, 0, 0, 0, 0, 0, 0, 0, 0, 0, 0, 0, 0, 0, 0, 0, 0, 0, 0, 0, 0, 0, 0, 0, 0, 0, 0, 0, 0, 0, 0, 0, 0, 0, 0, 0, 0, 0, 0, 0, 0, 0, 0, 0, 0, 0, 0, 0, 0, 0, 0, 0, 0, 0, 0, 0, 0, 0, 0, 0, 0, 0, 0, 0, 0, 0, 0, 0, 0, 0, 0, 0, 0, 0, 0, 0, 0, 0, 0, 0, 0, 0, 0, 0, 0, 0, 0, 0, 0, 0, 0, 0, 0, 0, 0, 0, 0, 0, 0, 0, 0, 0, 0, 0, 0, 0, 0, 0, 0, 0, 0, 0, 0, 0, 0, 0, 0, 0, 0, 0, 0, 0, 0, 0, 0, 0, 0, 0, 0, 0, 0, 0, 0, 0, 0, 0, 0, 0, 0, 0, 0, 0, 0, 0, 0, 0, 0, 0, 0, 0, 0, 0, 0, 0, 0, 0, 0, 0, 0, 0, 0, 0, 0, 0, 0, 0, 0, 0, 0, 0, 0, 0, 0, 0, 0, 0, 0, 0, 0, 0, 0, 0, 0, 0, 0, 0, 0, 0, 0, 0, 0, 0, 0, 0, 0, 0, 0, 0, 0, 0, 0, 0, 0, 0, 0, 0, 0, 0, 0, 0, 0, 0, 0, 0, 0, 0, 0, 0, 0, 0, 0, 0, 0, 0, 0, 0, 0, 0, 0, 0, 0, 0, 0, 0, 0, 0, 0, 0, 0, 0, 0, 0, 0, 0, 1, 1, 1, 1, 1, 1, 1, 1, 1, 1, 1, 1, 2, 2, 2, 2, 2, 2, 2, 2, 2, 2, 2, 2, 3, 3, 3, 3, 3, 3, 4, 4, 4, 4, 4, 4, 4, 4, 4, 4, 4, 4, 4, 4, 4, 4, 6, 8, 9, 11, 13, 13, 13, 13, 13, 13, 13, 13, 14, 15, 15, 16, 17, 17, 17, 17, 17, 17, 17, 17, 17, 18, 18, 19, 19, 19, 20, 21, 22, 23, 24, 24, 25, 25, 26, 26, 27, 27, 27, 27, 28, 28, 28, 28, 28, 28, 29, 29, 29, 29, 30, 31, 31, 32, 33, 33, 33, 34, 34, 35, 35, 35, 36, 38, 39, 41, 42, 42, 43, 44, 44, 45, 46], 'HimachalPradesh': [0, 0, 0, 0, 0, 0, 0, 0, 0, 0, 0, 0, 0, 0, 0, 0, 0, 0, 0, 0, 0, 0, 0, 0, 0, 0, 0, 0, 0, 0, 0, 0, 0, 0, 0, 0, 0, 0, 0, 0, 0, 0, 0, 0, 0, 0, 0, 0, 0, 0, 0, 0, 0, 0, 0, 0, 0, 0, 0, 0, 0, 0, 0, 0, 0, 0, 0, 0, 0, 0, 0, 0, 0, 0, 0, 0, 0, 0, 0, 0, 0, 0, 0, 0, 0, 0, 0, 0, 0, 0, 0, 0, 0, 0, 0, 0, 0, 0, 0, 0, 0, 0, 0, 0, 0, 0, 0, 0, 0, 0, 0, 0, 0, 0, 0, 0, 0, 0, 0, 0, 0, 0, 0, 0, 0, 0, 0, 0, 0, 0, 0, 0, 0, 0, 0, 0, 0, 0, 0, 0, 0, 0, 0, 0, 0, 0, 0, 0, 0, 0, 0, 0, 0, 0, 0, 0, 0, 0, 0, 0, 0, 0, 0, 0, 0, 0, 0, 0, 0, 0, 0, 0, 0, 0, 0, 0, 0, 0, 0, 0, 0, 0, 0, 0, 0, 0, 0, 0, 0, 0, 0, 0, 0, 0, 0, 0, 0, 0, 0, 0, 0, 0, 0, 0, 0, 0, 0, 0, 0, 0, 0, 0, 0, 0, 0, 0, 0, 0, 0, 0, 0, 0, 0, 0, 0, 0, 0, 0, 0, 0, 0, 0, 0, 0, 0, 0, 0, 0, 0, 0, 0, 0, 0, 0, 0, 0, 0, 0, 0, 0, 0, 0, 0, 0, 0, 0, 0, 0, 0, 0, 0, 0, 0, 0, 0, 0, 0, 0, 0, 0, 0, 0, 0, 0, 0, 0, 0, 0, 0, 0, 0, 0, 0, 0, 0, 0, 0, 0, 0, 0, 0, 0, 0, 0, 0, 0, 0, 0, 0, 0, 0, 0, 1, 1, 2, 2, 2, 2, 2, 2, 2, 2, 2, 2, 2, 2, 2, 2, 2, 2, 2, 3, 3, 3, 3, 3, 3, 3, 3, 3, 3, 3, 3, 3, 3, 3, 3, 3, 3, 3, 3, 3, 3, 3, 3, 3, 3, 3, 3, 3, 3, 3, 3, 3, 3, 3, 3, 3, 3, 3, 3, 3, 3, 3, 3, 3, 3, 3, 3, 3, 3, 3, 3, 3, 3, 3, 3, 3, 3, 4, 4, 5, 5, 6, 6, 6, 6, 6, 6, 6, 6, 6, 6, 6, 6, 6, 6, 7, 9, 10, 12, 13, 13, 13, 13, 13, 13, 13, 13, 14, 15, 16, 17, 18, 18, 18, 18, 18, 18, 18, 18, 20, 22, 24, 26, 28, 28, 28, 28, 28, 28, 28, 28, 29, 30, 30, 31, 32, 32, 32, 32, 32, 32, 32, 32, 32, 32, 32, 32, 32, 32, 32, 32, 33, 33, 33, 33, 33, 34, 34, 35, 35, 35, 35, 35, 35, 35, 35, 35, 36, 36, 37, 37, 38, 38, 38, 38, 39, 39, 39, 39, 39, 39, 39, 39, 39, 39, 39, 39, 39, 39, 39], 'Karnataka': [0, 0, 0, 0, 0, 0, 0, 0, 0, 0, 0, 0, 0, 0, 0, 0, 0, 0, 0, 0, 0, 0, 0, 0, 0, 0, 0, 0, 0, 0, 0, 0, 0, 0, 0, 0, 0, 0, 0, 0, 0, 0, 0, 0, 0, 0, 0, 0, 0, 0, 0, 0, 0, 0, 0, 0, 0, 0, 0, 0, 0, 0, 0, 0, 0, 0, 0, 0, 0, 0, 0, 0, 0, 0, 0, 0, 0, 0, 0, 0, 0, 0, 0, 0, 0, 0, 0, 0, 0, 0, 0, 0, 0, 0, 0, 0, 0, 0, 0, 0, 0, 0, 0, 0, 0, 0, 0, 0, 0, 0, 0, 0, 0, 0, 0, 0, 0, 0, 0, 0, 0, 0, 0, 0, 0, 0, 0, 0, 0, 0, 0, 0, 0, 0, 0, 0, 0, 0, 0, 0, 0, 0, 0, 0, 0, 0, 0, 0, 0, 0, 0, 0, 0, 0, 0, 0, 0, 0, 0, 0, 0, 0, 0, 0, 0, 0, 0, 0, 0, 0, 0, 0, 0, 0, 0, 0, 0, 0, 0, 0, 0, 0, 0, 0, 0, 0, 0, 0, 0, 0, 0, 0, 0, 0, 0, 0, 0, 0, 0, 0, 0, 0, 0, 0, 0, 0, 0, 0, 0, 0, 0, 0, 0, 0, 0, 0, 0, 0, 0, 0, 0, 0, 0, 0, 0, 0, 0, 0, 0, 0, 0, 1, 1, 1, 1, 2, 2, 3, 3, 4, 4, 4, 4, 4, 4, 4, 4, 4, 4, 4, 4, 4, 4, 4, 5, 5, 6, 6, 6, 6, 6, 6, 6, 6, 6, 6, 6, 6, 6, 6, 6, 6, 6, 6, 6, 6, 6, 7, 8, 9, 10, 11, 11, 11, 11, 11, 11, 11, 11, 12, 12, 13, 13, 14, 14, 14, 14, 15, 15, 15, 15, 15, 15, 15, 15, 15, 15, 17, 19, 22, 24, 26, 26, 27, 29, 30, 32, 33, 33, 34, 35, 35, 36, 37, 37, 38, 39, 39, 40, 41, 41, 44, 47, 49, 52, 55, 55, 55, 55, 55, 55, 55, 55, 55, 55, 55, 55, 55, 55, 59, 63, 68, 72, 76, 76, 77, 79, 80, 82, 83, 83, 83, 83, 83, 83, 83, 83, 87, 90, 94, 97, 101, 101, 103, 105, 106, 108, 110, 110, 113, 116, 118, 121, 124, 124, 125, 126, 126, 127, 128, 128, 131, 134, 138, 141, 144, 144, 145, 147, 148, 150, 151, 151, 156, 161, 165, 170, 175, 175, 175, 175, 175, 175, 175, 175, 176, 177, 179, 180, 181, 181, 184, 187, 191, 194, 197, 197, 200, 204, 207, 211, 214, 214, 216, 219, 221, 224, 226, 226, 230, 234, 239, 243, 247, 247, 249, 251, 254, 256, 258, 258, 262, 266, 269, 273, 277, 277, 285, 292, 300, 307, 315, 315, 323, 330, 338, 345, 353, 353, 357, 360, 364, 367, 371, 371, 374, 376, 379, 381, 384, 384, 386, 388, 391, 393, 395, 395, 399, 403, 407, 411, 415], 'Tripura': [0, 0, 0, 0, 0, 0, 0, 0, 0, 0, 0, 0, 0, 0, 0, 0, 0, 0, 0, 0, 0, 0, 0, 0, 0, 0, 0, 0, 0, 0, 0, 0, 0, 0, 0, 0, 0, 0, 0, 0, 0, 0, 0, 0, 0, 0, 0, 0, 0, 0, 0, 0, 0, 0, 0, 0, 0, 0, 0, 0, 0, 0, 0, 0, 0, 0, 0, 0, 0, 0, 0, 0, 0, 0, 0, 0, 0, 0, 0, 0, 0, 0, 0, 0, 0, 0, 0, 0, 0, 0, 0, 0, 0, 0, 0, 0, 0, 0, 0, 0, 0, 0, 0, 0, 0, 0, 0, 0, 0, 0, 0, 0, 0, 0, 0, 0, 0, 0, 0, 0, 0, 0, 0, 0, 0, 0, 0, 0, 0, 0, 0, 0, 0, 0, 0, 0, 0, 0, 0, 0, 0, 0, 0, 0, 0, 0, 0, 0, 0, 0, 0, 0, 0, 0, 0, 0, 0, 0, 0, 0, 0, 0, 0, 0, 0, 0, 0, 0, 0, 0, 0, 0, 0, 0, 0, 0, 0, 0, 0, 0, 0, 0, 0, 0, 0, 0, 0, 0, 0, 0, 0, 0, 0, 0, 0, 0, 0, 0, 0, 0, 0, 0, 0, 0, 0, 0, 0, 0, 0, 0, 0, 0, 0, 0, 0, 0, 0, 0, 0, 0, 0, 0, 0, 0, 0, 0, 0, 0, 0, 0, 0, 0, 0, 0, 0, 0, 0, 0, 0, 0, 0, 0, 0, 0, 0, 0, 0, 0, 0, 0, 0, 0, 0, 0, 0, 0, 0, 0, 0, 0, 0, 0, 0, 0, 0, 0, 0, 0, 0, 0, 0, 0, 0, 0, 0, 0, 0, 0, 0, 0, 0, 0, 0, 0, 0, 0, 0, 0, 0, 0, 0, 0, 0, 0, 0, 0, 0, 0, 0, 0, 0, 0, 0, 0, 0, 0, 0, 0, 0, 0, 0, 0, 0, 0, 0, 0, 0, 0, 0, 0, 0, 0, 0, 0, 0, 0, 0, 0, 0, 0, 0, 0, 0, 0, 0, 0, 0, 0, 0, 0, 0, 0, 0, 0, 0, 0, 0, 0, 0, 0, 0, 0, 0, 0, 0, 0, 0, 0, 0, 0, 0, 0, 0, 0, 0, 0, 0, 0, 0, 0, 0, 0, 0, 0, 0, 0, 0, 0, 0, 0, 0, 0, 0, 0, 0, 0, 0, 0, 0, 0, 0, 0, 0, 0, 0, 0, 0, 0, 0, 0, 0, 0, 0, 0, 0, 1, 1, 1, 1, 1, 1, 1, 1, 1, 1, 1, 1, 1, 1, 1, 1, 1, 1, 1, 1, 1, 1, 1, 1, 2, 2, 2, 2, 2, 2, 2, 2, 2, 2, 2, 2, 2, 2, 2, 2, 2, 2, 2, 2, 2, 2, 2, 2, 2, 2, 2, 2, 2, 2, 2, 2, 2, 2, 2, 2, 2, 2, 2, 2, 2, 2, 2, 2, 2, 2, 2, 2, 2, 2, 2, 2, 2, 2, 2, 2, 2, 2, 2, 2, 2, 2, 2], 'Chhattisgarh': [0, 0, 0, 0, 0, 0, 0, 0, 0, 0, 0, 0, 0, 0, 0, 0, 0, 0, 0, 0, 0, 0, 0, 0, 0, 0, 0, 0, 0, 0, 0, 0, 0, 0, 0, 0, 0, 0, 0, 0, 0, 0, 0, 0, 0, 0, 0, 0, 0, 0, 0, 0, 0, 0, 0, 0, 0, 0, 0, 0, 0, 0, 0, 0, 0, 0, 0, 0, 0, 0, 0, 0, 0, 0, 0, 0, 0, 0, 0, 0, 0, 0, 0, 0, 0, 0, 0, 0, 0, 0, 0, 0, 0, 0, 0, 0, 0, 0, 0, 0, 0, 0, 0, 0, 0, 0, 0, 0, 0, 0, 0, 0, 0, 0, 0, 0, 0, 0, 0, 0, 0, 0, 0, 0, 0, 0, 0, 0, 0, 0, 0, 0, 0, 0, 0, 0, 0, 0, 0, 0, 0, 0, 0, 0, 0, 0, 0, 0, 0, 0, 0, 0, 0, 0, 0, 0, 0, 0, 0, 0, 0, 0, 0, 0, 0, 0, 0, 0, 0, 0, 0, 0, 0, 0, 0, 0, 0, 0, 0, 0, 0, 0, 0, 0, 0, 0, 0, 0, 0, 0, 0, 0, 0, 0, 0, 0, 0, 0, 0, 0, 0, 0, 0, 0, 0, 0, 0, 0, 0, 0, 0, 0, 0, 0, 0, 0, 0, 0, 0, 0, 0, 0, 0, 0, 0, 0, 0, 0, 0, 0, 0, 0, 0, 0, 0, 0, 0, 0, 0, 0, 0, 0, 0, 0, 0, 0, 0, 0, 0, 0, 0, 0, 0, 0, 0, 0, 0, 0, 0, 0, 0, 0, 0, 0, 0, 0, 0, 0, 0, 0, 0, 0, 0, 0, 0, 0, 0, 0, 0, 0, 0, 0, 0, 0, 0, 0, 0, 0, 0, 0, 0, 1, 1, 1, 1, 1, 1, 1, 1, 1, 1, 1, 1, 1, 1, 1, 1, 1, 1, 1, 1, 1, 1, 1, 1, 1, 1, 1, 1, 1, 1, 1, 1, 1, 1, 1, 1, 1, 1, 1, 1, 2, 3, 4, 5, 6, 6, 6, 6, 6, 6, 6, 6, 6, 6, 6, 6, 6, 6, 6, 6, 7, 7, 7, 7, 7, 7, 7, 7, 7, 7, 7, 7, 8, 8, 8, 8, 8, 8, 9, 9, 9, 9, 9, 9, 9, 9, 9, 9, 9, 9, 9, 9, 9, 9, 9, 9, 9, 9, 9, 9, 9, 9, 9, 9, 9, 9, 9, 9, 10, 10, 10, 10, 10, 10, 10, 10, 10, 10, 10, 10, 10, 10, 10, 10, 10, 10, 10, 10, 10, 10, 10, 10, 10, 10, 10, 10, 12, 13, 15, 16, 18, 18, 19, 21, 22, 24, 25, 25, 26, 27, 29, 30, 31, 31, 31, 31, 31, 31, 31, 31, 31, 32, 32, 33, 33, 33, 33, 33, 33, 33, 33, 33, 34, 34, 35, 35, 36, 36, 36, 36, 36, 36, 36, 36, 36, 36, 36, 36, 36, 36, 36, 36, 36, 36, 36, 36, 36, 36, 36, 36, 36], 'AndhraPradesh': [0, 0, 0, 0, 0, 0, 0, 0, 0, 0, 0, 0, 0, 0, 0, 0, 0, 0, 0, 0, 0, 0, 0, 0, 0, 0, 0, 0, 0, 0, 0, 0, 0, 0, 0, 0, 0, 0, 0, 0, 0, 0, 0, 0, 0, 0, 0, 0, 0, 0, 0, 0, 0, 0, 0, 0, 0, 0, 0, 0, 0, 0, 0, 0, 0, 0, 0, 0, 0, 0, 0, 0, 0, 0, 0, 0, 0, 0, 0, 0, 0, 0, 0, 0, 0, 0, 0, 0, 0, 0, 0, 0, 0, 0, 0, 0, 0, 0, 0, 0, 0, 0, 0, 0, 0, 0, 0, 0, 0, 0, 0, 0, 0, 0, 0, 0, 0, 0, 0, 0, 0, 0, 0, 0, 0, 0, 0, 0, 0, 0, 0, 0, 0, 0, 0, 0, 0, 0, 0, 0, 0, 0, 0, 0, 0, 0, 0, 0, 0, 0, 0, 0, 0, 0, 0, 0, 0, 0, 0, 0, 0, 0, 0, 0, 0, 0, 0, 0, 0, 0, 0, 0, 0, 0, 0, 0, 0, 0, 0, 0, 0, 0, 0, 0, 0, 0, 0, 0, 0, 0, 0, 0, 0, 0, 0, 0, 0, 0, 0, 0, 0, 0, 0, 0, 0, 0, 0, 0, 0, 0, 0, 0, 0, 0, 0, 0, 0, 0, 0, 0, 0, 0, 0, 0, 0, 0, 0, 0, 0, 0, 0, 0, 0, 0, 0, 0, 0, 0, 0, 0, 0, 0, 0, 0, 0, 0, 0, 0, 0, 1, 1, 1, 1, 1, 1, 1, 1, 1, 1, 1, 1, 1, 1, 1, 1, 1, 1, 1, 1, 1, 1, 1, 1, 1, 1, 1, 1, 1, 1, 1, 1, 1, 1, 1, 1, 1, 1, 1, 1, 1, 1, 2, 2, 2, 2, 2, 2, 3, 3, 3, 3, 3, 3, 3, 3, 3, 3, 3, 4, 4, 5, 5, 5, 5, 6, 6, 7, 7, 7, 7, 7, 8, 8, 8, 8, 8, 8, 9, 9, 9, 9, 9, 10, 10, 11, 11, 11, 11, 11, 12, 12, 12, 12, 12, 13, 13, 14, 14, 14, 15, 16, 17, 18, 19, 19, 20, 21, 21, 22, 23, 23, 26, 30, 33, 37, 40, 40, 49, 57, 66, 74, 83, 83, 84, 84, 85, 85, 86, 86, 95, 104, 114, 123, 132, 132, 138, 144, 149, 155, 161, 161, 167, 173, 178, 184, 190, 190, 197, 204, 212, 219, 226, 226, 234, 242, 250, 258, 266, 266, 274, 282, 289, 297, 305, 305, 314, 322, 331, 339, 348, 348, 351, 354, 357, 360, 363, 363, 367, 370, 374, 377, 381, 381, 381, 381, 381, 381, 381, 381, 391, 401, 412, 422, 432, 432, 440, 448, 457, 465, 473, 473, 479, 485, 491, 497, 503, 503, 509, 515, 522, 528, 534, 534, 542, 549, 557, 564, 572, 572, 578, 584, 591, 597, 603, 603, 603, 603, 603, 603, 603, 603, 627, 651, 674, 698, 722, 722, 729, 736, 743, 750, 757]}\n"
          ],
          "name": "stdout"
        }
      ]
    },
    {
      "cell_type": "markdown",
      "metadata": {
        "id": "hJPSirp-JAcr",
        "colab_type": "text"
      },
      "source": [
        "# Predicting the values for Kerala"
      ]
    },
    {
      "cell_type": "code",
      "metadata": {
        "id": "GtCDuTpWD97J",
        "colab_type": "code",
        "colab": {}
      },
      "source": [
        "for key, value in state_dict.items():\n",
        "  if(key == \"Kerala\"):\n",
        "    X_kerala = value\n",
        "\n",
        "X_kerala = np.array(X_kerala)"
      ],
      "execution_count": 0,
      "outputs": []
    },
    {
      "cell_type": "code",
      "metadata": {
        "id": "pdY6qtAsERLv",
        "colab_type": "code",
        "colab": {
          "base_uri": "https://localhost:8080/",
          "height": 34
        },
        "outputId": "c8972ea8-92c0-4d26-9370-789fde3a32cb"
      },
      "source": [
        "print(X_kerala.shape)"
      ],
      "execution_count": 101,
      "outputs": [
        {
          "output_type": "stream",
          "text": [
            "(492,)\n"
          ],
          "name": "stdout"
        }
      ]
    },
    {
      "cell_type": "code",
      "metadata": {
        "id": "w0pmQd07FFds",
        "colab_type": "code",
        "colab": {
          "base_uri": "https://localhost:8080/",
          "height": 34
        },
        "outputId": "9bd94c61-3635-4b4a-9e8a-c044dde87137"
      },
      "source": [
        "window_size = 5\n",
        "Xt = np.array([0] * (window_size + 1))\n",
        "\n",
        "row = 0\n",
        "while(row < (X_kerala.shape[0] - window_size)):\n",
        "  # row = random.randrange(len(X) - window_size - 1)\n",
        "  temp = X_kerala[row:row+window_size+1].tolist()\n",
        "  temp = [float(item) for item in temp]\n",
        "  Xt = np.vstack((Xt,temp)) \n",
        "  row = row + 1\n",
        "\n",
        "Xt = Xt[1:,:]\n",
        "# print(X2)\n",
        "print(Xt.shape)"
      ],
      "execution_count": 102,
      "outputs": [
        {
          "output_type": "stream",
          "text": [
            "(487, 6)\n"
          ],
          "name": "stdout"
        }
      ]
    },
    {
      "cell_type": "code",
      "metadata": {
        "id": "P8XLkJz4FcTR",
        "colab_type": "code",
        "colab": {}
      },
      "source": [
        "X_train = Xt[:,0:window_size]\n",
        "y_train = Xt[:,window_size]\n",
        "# print(X_train)\n",
        "# print(X_train.shape)\n",
        "# print(y_train)\n",
        "# print(y_train.shape)"
      ],
      "execution_count": 0,
      "outputs": []
    },
    {
      "cell_type": "markdown",
      "metadata": {
        "id": "o2KvvjgacYuN",
        "colab_type": "text"
      },
      "source": [
        "# Linear Regression"
      ]
    },
    {
      "cell_type": "code",
      "metadata": {
        "id": "UdI16Uy7E3RM",
        "colab_type": "code",
        "colab": {
          "base_uri": "https://localhost:8080/",
          "height": 34
        },
        "outputId": "d5d094cc-a012-447c-b02b-f54284e3d48b"
      },
      "source": [
        "model_reg = LinearRegression()\n",
        "model_reg.fit(X_train, y_train)"
      ],
      "execution_count": 86,
      "outputs": [
        {
          "output_type": "execute_result",
          "data": {
            "text/plain": [
              "LinearRegression(copy_X=True, fit_intercept=True, n_jobs=None, normalize=False)"
            ]
          },
          "metadata": {
            "tags": []
          },
          "execution_count": 86
        }
      ]
    },
    {
      "cell_type": "code",
      "metadata": {
        "id": "C6sUjJHzGTpW",
        "colab_type": "code",
        "colab": {}
      },
      "source": [
        "X_test = final['Kerala']\n",
        "X_test = X_test['Confirmed'].to_numpy()\n",
        "# print(X_test)\n",
        "# print(X_test.shape)\n",
        "# X_test = X_test.reshape((1,-1))\n",
        "# print(X_test.shape)\n",
        "# X1 = X\n",
        "# X1 = np.array(X['data'])\n",
        "row = window_size\n",
        "predictions = []\n",
        "while(row < X_test.shape[0]):\n",
        "  temp1 = np.array(X_test[row-window_size:row].tolist())\n",
        "  # print(temp1)\n",
        "  temp1 = temp1.astype('float32')\n",
        "  test = temp1.reshape((1,-1))\n",
        "  pred1 = model_reg.predict(test)\n",
        "  predictions.append(pred1[0])\n",
        "  # X1[i] = pred1[0]\n",
        "  row = row + 1"
      ],
      "execution_count": 0,
      "outputs": []
    },
    {
      "cell_type": "code",
      "metadata": {
        "id": "ikYqHFPWF3lu",
        "colab_type": "code",
        "colab": {
          "base_uri": "https://localhost:8080/",
          "height": 1000
        },
        "outputId": "04f2858f-87f3-4460-e77a-9690b6052f9c"
      },
      "source": [
        "predictions"
      ],
      "execution_count": 89,
      "outputs": [
        {
          "output_type": "execute_result",
          "data": {
            "text/plain": [
              "[3.4815907690224073,\n",
              " 3.251654455164602,\n",
              " 3.092020673331279,\n",
              " 3.114491605349225,\n",
              " 3.114491605349225,\n",
              " 3.114491605349225,\n",
              " 3.114491605349225,\n",
              " 3.114491605349225,\n",
              " 3.114491605349225,\n",
              " 3.114491605349225,\n",
              " 3.114491605349225,\n",
              " 3.114491605349225,\n",
              " 3.114491605349225,\n",
              " 3.114491605349225,\n",
              " 3.114491605349225,\n",
              " 3.114491605349225,\n",
              " 3.114491605349225,\n",
              " 3.114491605349225,\n",
              " 3.114491605349225,\n",
              " 3.114491605349225,\n",
              " 3.114491605349225,\n",
              " 3.114491605349225,\n",
              " 3.114491605349225,\n",
              " 3.114491605349225,\n",
              " 3.114491605349225,\n",
              " 3.114491605349225,\n",
              " 3.114491605349225,\n",
              " 3.114491605349225,\n",
              " 3.114491605349225,\n",
              " 3.114491605349225,\n",
              " 3.114491605349225,\n",
              " 3.114491605349225,\n",
              " 3.114491605349225,\n",
              " 3.114491605349225,\n",
              " 10.302616462928029,\n",
              " 10.592787130681018,\n",
              " 18.749888098990347,\n",
              " 19.289837708243663,\n",
              " 18.474116332937797,\n",
              " 20.18354572486658,\n",
              " 19.495180167766613,\n",
              " 23.757333746336712,\n",
              " 24.14227670789227,\n",
              " 28.12710782570328,\n",
              " 28.28211447340104,\n",
              " 27.79443689483145,\n",
              " 28.66038705680481,\n",
              " 45.56770393644395,\n",
              " 60.03995259761383,\n",
              " 78.09435292738989,\n",
              " 112.16872438426716,\n",
              " 123.2366505023184,\n",
              " 129.16119887168776,\n",
              " 148.97914517605636,\n",
              " 198.3354284133984,\n",
              " 195.777884896609,\n",
              " 218.03025558714137,\n",
              " 252.4823117286969,\n",
              " 254.02908505068706,\n",
              " 281.8877684566706,\n",
              " 300.8573587975128,\n",
              " 307.27305389280957,\n",
              " 315.80383062426785,\n",
              " 321.0650499056111,\n",
              " 336.22504719693904,\n",
              " 343.996724486543,\n",
              " 353.0384632247141,\n",
              " 365.6064669121485,\n",
              " 371.1386466752412,\n",
              " 381.89777712855266,\n",
              " 380.1602790859591,\n",
              " 382.5307744661923,\n",
              " 391.5838878416608,\n",
              " 390.90259101961334,\n",
              " 399.85244988190095,\n",
              " 398.24638231338594,\n",
              " 403.4302328809429,\n",
              " 404.0874257160168]"
            ]
          },
          "metadata": {
            "tags": []
          },
          "execution_count": 89
        }
      ]
    },
    {
      "cell_type": "markdown",
      "metadata": {
        "id": "X9kywTPecpX1",
        "colab_type": "text"
      },
      "source": [
        "# Using MLP model 1"
      ]
    },
    {
      "cell_type": "code",
      "metadata": {
        "id": "mKEOb4-ZaUqm",
        "colab_type": "code",
        "colab": {
          "base_uri": "https://localhost:8080/",
          "height": 1000
        },
        "outputId": "14814114-a4eb-441a-f06e-f1ea0a0b5ee9"
      },
      "source": [
        "model_nn = Sequential()\n",
        "model_nn.add(Dense(100, input_dim=window_size, activation='relu'))\n",
        "model_nn.add(Dense(1))\n",
        "model_nn.compile(optimizer='adam', loss='mse', metrics=['mse'])\n",
        "model_nn.fit(X_train, y_train, epochs=30)"
      ],
      "execution_count": 106,
      "outputs": [
        {
          "output_type": "stream",
          "text": [
            "Epoch 1/30\n",
            "16/16 [==============================] - 0s 1ms/step - loss: 2740.4121 - mse: 2875.3542\n",
            "Epoch 2/30\n",
            "16/16 [==============================] - 0s 1ms/step - loss: 442.7964 - mse: 456.7447\n",
            "Epoch 3/30\n",
            "16/16 [==============================] - 0s 1ms/step - loss: 72.4249 - mse: 72.1061\n",
            "Epoch 4/30\n",
            "16/16 [==============================] - 0s 1ms/step - loss: 22.6769 - mse: 23.4544\n",
            "Epoch 5/30\n",
            "16/16 [==============================] - 0s 1ms/step - loss: 16.3679 - mse: 17.1748\n",
            "Epoch 6/30\n",
            "16/16 [==============================] - 0s 1ms/step - loss: 18.0926 - mse: 16.0786\n",
            "Epoch 7/30\n",
            "16/16 [==============================] - 0s 1ms/step - loss: 15.1726 - mse: 15.8382\n",
            "Epoch 8/30\n",
            "16/16 [==============================] - 0s 1ms/step - loss: 14.9092 - mse: 15.4134\n",
            "Epoch 9/30\n",
            "16/16 [==============================] - 0s 1ms/step - loss: 14.6604 - mse: 15.3554\n",
            "Epoch 10/30\n",
            "16/16 [==============================] - 0s 1ms/step - loss: 14.9413 - mse: 15.3416\n",
            "Epoch 11/30\n",
            "16/16 [==============================] - 0s 1ms/step - loss: 14.7873 - mse: 15.2347\n",
            "Epoch 12/30\n",
            "16/16 [==============================] - 0s 1ms/step - loss: 14.2047 - mse: 14.9073\n",
            "Epoch 13/30\n",
            "16/16 [==============================] - 0s 1ms/step - loss: 14.4840 - mse: 14.8377\n",
            "Epoch 14/30\n",
            "16/16 [==============================] - 0s 1ms/step - loss: 14.4520 - mse: 14.3756\n",
            "Epoch 15/30\n",
            "16/16 [==============================] - 0s 2ms/step - loss: 17.6369 - mse: 14.7266\n",
            "Epoch 16/30\n",
            "16/16 [==============================] - 0s 1ms/step - loss: 14.6865 - mse: 14.4024\n",
            "Epoch 17/30\n",
            "16/16 [==============================] - 0s 2ms/step - loss: 13.8035 - mse: 14.4197\n",
            "Epoch 18/30\n",
            "16/16 [==============================] - 0s 1ms/step - loss: 13.1342 - mse: 13.6327\n",
            "Epoch 19/30\n",
            "16/16 [==============================] - 0s 1ms/step - loss: 16.3068 - mse: 13.9703\n",
            "Epoch 20/30\n",
            "16/16 [==============================] - 0s 1ms/step - loss: 13.9076 - mse: 14.1370\n",
            "Epoch 21/30\n",
            "16/16 [==============================] - 0s 1ms/step - loss: 13.3152 - mse: 13.5152\n",
            "Epoch 22/30\n",
            "16/16 [==============================] - 0s 1ms/step - loss: 13.2731 - mse: 13.5917\n",
            "Epoch 23/30\n",
            "16/16 [==============================] - 0s 1ms/step - loss: 12.7279 - mse: 13.2746\n",
            "Epoch 24/30\n",
            "16/16 [==============================] - 0s 1ms/step - loss: 12.3378 - mse: 12.9603\n",
            "Epoch 25/30\n",
            "16/16 [==============================] - 0s 1ms/step - loss: 13.0592 - mse: 12.5032\n",
            "Epoch 26/30\n",
            "16/16 [==============================] - 0s 1ms/step - loss: 12.8002 - mse: 12.7135\n",
            "Epoch 27/30\n",
            "16/16 [==============================] - 0s 1ms/step - loss: 11.2088 - mse: 11.6176\n",
            "Epoch 28/30\n",
            "16/16 [==============================] - 0s 1ms/step - loss: 11.3961 - mse: 11.9635\n",
            "Epoch 29/30\n",
            "16/16 [==============================] - 0s 1ms/step - loss: 12.1235 - mse: 11.5907\n",
            "Epoch 30/30\n",
            "16/16 [==============================] - 0s 1ms/step - loss: 12.7864 - mse: 11.6835\n"
          ],
          "name": "stdout"
        },
        {
          "output_type": "execute_result",
          "data": {
            "text/plain": [
              "<tensorflow.python.keras.callbacks.History at 0x7f6d782b65f8>"
            ]
          },
          "metadata": {
            "tags": []
          },
          "execution_count": 106
        }
      ]
    },
    {
      "cell_type": "code",
      "metadata": {
        "id": "JSlTZsafbNAG",
        "colab_type": "code",
        "colab": {}
      },
      "source": [
        "X_test = final['Kerala']\n",
        "X_test = X_test['Confirmed'].to_numpy()\n",
        "row = window_size\n",
        "predictions = []\n",
        "while(row < X_test.shape[0]):\n",
        "  temp1 = np.array(X_test[row-window_size:row].tolist())\n",
        "  # print(temp1)\n",
        "  temp1 = temp1.astype('float32')\n",
        "  test = temp1.reshape((1,-1))\n",
        "  pred1 = model_nn.predict(test)\n",
        "  predictions.append(pred1[0][0])\n",
        "  # X1[i] = pred1[0]\n",
        "  row = row + 1"
      ],
      "execution_count": 0,
      "outputs": []
    },
    {
      "cell_type": "code",
      "metadata": {
        "id": "DdQZYTnjbWKf",
        "colab_type": "code",
        "colab": {
          "base_uri": "https://localhost:8080/",
          "height": 1000
        },
        "outputId": "2103a1fb-20a6-4bb6-9c04-29b0b7d4da22"
      },
      "source": [
        "predictions"
      ],
      "execution_count": 112,
      "outputs": [
        {
          "output_type": "execute_result",
          "data": {
            "text/plain": [
              "[2.7123547,\n",
              " 3.2500737,\n",
              " 3.5649412,\n",
              " 3.6182184,\n",
              " 3.6182184,\n",
              " 3.6182184,\n",
              " 3.6182184,\n",
              " 3.6182184,\n",
              " 3.6182184,\n",
              " 3.6182184,\n",
              " 3.6182184,\n",
              " 3.6182184,\n",
              " 3.6182184,\n",
              " 3.6182184,\n",
              " 3.6182184,\n",
              " 3.6182184,\n",
              " 3.6182184,\n",
              " 3.6182184,\n",
              " 3.6182184,\n",
              " 3.6182184,\n",
              " 3.6182184,\n",
              " 3.6182184,\n",
              " 3.6182184,\n",
              " 3.6182184,\n",
              " 3.6182184,\n",
              " 3.6182184,\n",
              " 3.6182184,\n",
              " 3.6182184,\n",
              " 3.6182184,\n",
              " 3.6182184,\n",
              " 3.6182184,\n",
              " 3.6182184,\n",
              " 3.6182184,\n",
              " 3.6182184,\n",
              " 4.1328897,\n",
              " 5.8653135,\n",
              " 8.250456,\n",
              " 11.890578,\n",
              " 14.83215,\n",
              " 17.123085,\n",
              " 18.636133,\n",
              " 19.665888,\n",
              " 21.237577,\n",
              " 22.934603,\n",
              " 24.994047,\n",
              " 26.615068,\n",
              " 27.64523,\n",
              " 29.609468,\n",
              " 35.459515,\n",
              " 44.41957,\n",
              " 58.484035,\n",
              " 76.87279,\n",
              " 95.04567,\n",
              " 111.77096,\n",
              " 129.9433,\n",
              " 152.11302,\n",
              " 172.69978,\n",
              " 194.18274,\n",
              " 215.77324,\n",
              " 234.66754,\n",
              " 254.91426,\n",
              " 273.6895,\n",
              " 289.43137,\n",
              " 302.16553,\n",
              " 312.5402,\n",
              " 323.1748,\n",
              " 333.41824,\n",
              " 343.56363,\n",
              " 353.74268,\n",
              " 363.1568,\n",
              " 371.83994,\n",
              " 377.85034,\n",
              " 382.64035,\n",
              " 387.4229,\n",
              " 391.64526,\n",
              " 396.25284,\n",
              " 399.76013,\n",
              " 403.1031]"
            ]
          },
          "metadata": {
            "tags": []
          },
          "execution_count": 112
        }
      ]
    },
    {
      "cell_type": "markdown",
      "metadata": {
        "id": "IKH0qCMwctX3",
        "colab_type": "text"
      },
      "source": [
        "# Using MLP model 2"
      ]
    },
    {
      "cell_type": "code",
      "metadata": {
        "id": "h4McW-Tsbset",
        "colab_type": "code",
        "colab": {
          "base_uri": "https://localhost:8080/",
          "height": 1000
        },
        "outputId": "de9bce9a-ba76-4892-c031-e3497c055274"
      },
      "source": [
        "model_nn1 = Sequential()\n",
        "model_nn1.add(Dense(100, input_dim=window_size, activation='relu'))\n",
        "model_nn1.add(Dense(100, activation='relu'))\n",
        "model_nn1.add(Dense(1))\n",
        "model_nn1.compile(optimizer='adam', loss='mse', metrics=['mse'])\n",
        "model_nn1.fit(X_train, y_train, epochs=30)"
      ],
      "execution_count": 117,
      "outputs": [
        {
          "output_type": "stream",
          "text": [
            "Epoch 1/30\n",
            "16/16 [==============================] - 0s 2ms/step - loss: 3860.4644 - mse: 4047.4390\n",
            "Epoch 2/30\n",
            "16/16 [==============================] - 0s 1ms/step - loss: 414.6854 - mse: 423.0383\n",
            "Epoch 3/30\n",
            "16/16 [==============================] - 0s 2ms/step - loss: 77.2607 - mse: 80.2101\n",
            "Epoch 4/30\n",
            "16/16 [==============================] - 0s 1ms/step - loss: 18.3155 - mse: 16.9876\n",
            "Epoch 5/30\n",
            "16/16 [==============================] - 0s 2ms/step - loss: 10.3424 - mse: 9.6834\n",
            "Epoch 6/30\n",
            "16/16 [==============================] - 0s 2ms/step - loss: 8.3606 - mse: 8.6023\n",
            "Epoch 7/30\n",
            "16/16 [==============================] - 0s 2ms/step - loss: 8.3940 - mse: 8.8201\n",
            "Epoch 8/30\n",
            "16/16 [==============================] - 0s 2ms/step - loss: 7.7893 - mse: 8.1874\n",
            "Epoch 9/30\n",
            "16/16 [==============================] - 0s 1ms/step - loss: 7.8231 - mse: 8.0752\n",
            "Epoch 10/30\n",
            "16/16 [==============================] - 0s 2ms/step - loss: 7.8867 - mse: 7.6715\n",
            "Epoch 11/30\n",
            "16/16 [==============================] - 0s 2ms/step - loss: 7.8360 - mse: 7.3488\n",
            "Epoch 12/30\n",
            "16/16 [==============================] - 0s 2ms/step - loss: 7.9127 - mse: 8.0610\n",
            "Epoch 13/30\n",
            "16/16 [==============================] - 0s 2ms/step - loss: 7.2063 - mse: 7.4324\n",
            "Epoch 14/30\n",
            "16/16 [==============================] - 0s 2ms/step - loss: 6.5245 - mse: 6.5335\n",
            "Epoch 15/30\n",
            "16/16 [==============================] - 0s 2ms/step - loss: 5.9918 - mse: 6.1279\n",
            "Epoch 16/30\n",
            "16/16 [==============================] - 0s 2ms/step - loss: 5.8819 - mse: 6.1571\n",
            "Epoch 17/30\n",
            "16/16 [==============================] - 0s 2ms/step - loss: 5.6143 - mse: 5.5154\n",
            "Epoch 18/30\n",
            "16/16 [==============================] - 0s 2ms/step - loss: 5.0385 - mse: 5.2670\n",
            "Epoch 19/30\n",
            "16/16 [==============================] - 0s 2ms/step - loss: 5.2356 - mse: 5.3937\n",
            "Epoch 20/30\n",
            "16/16 [==============================] - 0s 2ms/step - loss: 5.0494 - mse: 5.1426\n",
            "Epoch 21/30\n",
            "16/16 [==============================] - 0s 2ms/step - loss: 5.3315 - mse: 5.5329\n",
            "Epoch 22/30\n",
            "16/16 [==============================] - 0s 2ms/step - loss: 4.2118 - mse: 4.3992\n",
            "Epoch 23/30\n",
            "16/16 [==============================] - 0s 1ms/step - loss: 5.0138 - mse: 4.8002\n",
            "Epoch 24/30\n",
            "16/16 [==============================] - 0s 2ms/step - loss: 4.7707 - mse: 4.8287\n",
            "Epoch 25/30\n",
            "16/16 [==============================] - 0s 2ms/step - loss: 3.8798 - mse: 4.0295\n",
            "Epoch 26/30\n",
            "16/16 [==============================] - 0s 2ms/step - loss: 4.8174 - mse: 4.2419\n",
            "Epoch 27/30\n",
            "16/16 [==============================] - 0s 2ms/step - loss: 3.6480 - mse: 3.6644\n",
            "Epoch 28/30\n",
            "16/16 [==============================] - 0s 2ms/step - loss: 3.6162 - mse: 3.6972\n",
            "Epoch 29/30\n",
            "16/16 [==============================] - 0s 1ms/step - loss: 3.3903 - mse: 3.3677\n",
            "Epoch 30/30\n",
            "16/16 [==============================] - 0s 2ms/step - loss: 2.8789 - mse: 3.0104\n"
          ],
          "name": "stdout"
        },
        {
          "output_type": "execute_result",
          "data": {
            "text/plain": [
              "<tensorflow.python.keras.callbacks.History at 0x7f6d748267f0>"
            ]
          },
          "metadata": {
            "tags": []
          },
          "execution_count": 117
        }
      ]
    },
    {
      "cell_type": "code",
      "metadata": {
        "id": "r0RZeeIpb5e0",
        "colab_type": "code",
        "colab": {}
      },
      "source": [
        "X_test = final['Kerala']\n",
        "X_test = X_test['Confirmed'].to_numpy()\n",
        "row = window_size\n",
        "predictions1 = []\n",
        "while(row < X_test.shape[0]):\n",
        "  temp1 = np.array(X_test[row-window_size:row].tolist())\n",
        "  # print(temp1)\n",
        "  temp1 = temp1.astype('float32')\n",
        "  test = temp1.reshape((1,-1))\n",
        "  pred1 = model_nn1.predict(test)\n",
        "  predictions1.append(pred1[0][0])\n",
        "  # X1[i] = pred1[0]\n",
        "  row = row + 1"
      ],
      "execution_count": 0,
      "outputs": []
    },
    {
      "cell_type": "code",
      "metadata": {
        "id": "ge852Yp6b9Fv",
        "colab_type": "code",
        "colab": {
          "base_uri": "https://localhost:8080/",
          "height": 34
        },
        "outputId": "f5818d3d-be83-44ec-a4fc-2683d7700b18"
      },
      "source": [
        "predictions1[len(predictions1)-1]"
      ],
      "execution_count": 122,
      "outputs": [
        {
          "output_type": "execute_result",
          "data": {
            "text/plain": [
              "402.9964"
            ]
          },
          "metadata": {
            "tags": []
          },
          "execution_count": 122
        }
      ]
    },
    {
      "cell_type": "code",
      "metadata": {
        "id": "YHAF4DDTdEQ8",
        "colab_type": "code",
        "colab": {
          "base_uri": "https://localhost:8080/",
          "height": 1000
        },
        "outputId": "59569d06-2c5f-4a01-812b-dfd1d9d14a03"
      },
      "source": [
        "predictions1"
      ],
      "execution_count": 123,
      "outputs": [
        {
          "output_type": "execute_result",
          "data": {
            "text/plain": [
              "[3.5570188,\n",
              " 3.6649191,\n",
              " 3.5737064,\n",
              " 3.6445608,\n",
              " 3.6445608,\n",
              " 3.6445608,\n",
              " 3.6445608,\n",
              " 3.6445608,\n",
              " 3.6445608,\n",
              " 3.6445608,\n",
              " 3.6445608,\n",
              " 3.6445608,\n",
              " 3.6445608,\n",
              " 3.6445608,\n",
              " 3.6445608,\n",
              " 3.6445608,\n",
              " 3.6445608,\n",
              " 3.6445608,\n",
              " 3.6445608,\n",
              " 3.6445608,\n",
              " 3.6445608,\n",
              " 3.6445608,\n",
              " 3.6445608,\n",
              " 3.6445608,\n",
              " 3.6445608,\n",
              " 3.6445608,\n",
              " 3.6445608,\n",
              " 3.6445608,\n",
              " 3.6445608,\n",
              " 3.6445608,\n",
              " 3.6445608,\n",
              " 3.6445608,\n",
              " 3.6445608,\n",
              " 3.6445608,\n",
              " 8.184021,\n",
              " 8.713514,\n",
              " 14.824744,\n",
              " 16.070797,\n",
              " 17.919601,\n",
              " 19.176346,\n",
              " 19.285194,\n",
              " 22.46408,\n",
              " 23.018059,\n",
              " 26.433266,\n",
              " 27.048296,\n",
              " 27.786854,\n",
              " 28.473461,\n",
              " 39.194633,\n",
              " 49.9014,\n",
              " 65.22783,\n",
              " 90.17961,\n",
              " 104.43105,\n",
              " 117.47262,\n",
              " 133.48529,\n",
              " 169.40186,\n",
              " 178.25081,\n",
              " 201.75569,\n",
              " 225.94836,\n",
              " 238.45567,\n",
              " 263.60126,\n",
              " 279.72498,\n",
              " 294.14798,\n",
              " 305.11502,\n",
              " 312.4818,\n",
              " 326.2726,\n",
              " 334.77844,\n",
              " 345.0201,\n",
              " 355.93842,\n",
              " 363.54718,\n",
              " 374.11783,\n",
              " 376.20468,\n",
              " 380.81265,\n",
              " 387.0888,\n",
              " 389.0511,\n",
              " 396.56122,\n",
              " 396.62213,\n",
              " 402.06793,\n",
              " 402.9964]"
            ]
          },
          "metadata": {
            "tags": []
          },
          "execution_count": 123
        }
      ]
    },
    {
      "cell_type": "markdown",
      "metadata": {
        "id": "KuAhzPtvZh9p",
        "colab_type": "text"
      },
      "source": [
        "# Predictions by not adding extra data using Linear Regression model"
      ]
    },
    {
      "cell_type": "code",
      "metadata": {
        "id": "pe0vuQguGKl0",
        "colab_type": "code",
        "colab": {}
      },
      "source": [
        "# X1 = X\n",
        "# X1 = np.array(X['data'])\n",
        "row = window_size\n",
        "predictions = []\n",
        "while(row < X_test.shape[0]):\n",
        "  temp1 = np.array(X_test[row-window_size:row].tolist())\n",
        "  # print(temp1)\n",
        "  temp1 = temp1.astype('float32')\n",
        "  test = temp1.reshape((1,-1))\n",
        "  pred1 = model_reg.predict(test)\n",
        "  predictions.append(pred1[0])\n",
        "  # X1[i] = pred1[0]\n",
        "  row = row + 1"
      ],
      "execution_count": 0,
      "outputs": []
    },
    {
      "cell_type": "code",
      "metadata": {
        "id": "7ZcqpI3gJClp",
        "colab_type": "code",
        "outputId": "8770ccfc-71a7-46dc-fbf8-61b1ad2acb2c",
        "colab": {
          "base_uri": "https://localhost:8080/",
          "height": 1000
        }
      },
      "source": [
        "predictions"
      ],
      "execution_count": 0,
      "outputs": [
        {
          "output_type": "execute_result",
          "data": {
            "text/plain": [
              "[383.2507136490421,\n",
              " 383.3371941437929,\n",
              " 383.30804814384146,\n",
              " 383.19552453885353,\n",
              " 383.19552453885353,\n",
              " 383.19552453885353,\n",
              " 383.19552453885353,\n",
              " 383.19552453885353,\n",
              " 383.19552453885353,\n",
              " 383.19552453885353,\n",
              " 383.19552453885353,\n",
              " 383.19552453885353,\n",
              " 383.19552453885353,\n",
              " 383.19552453885353,\n",
              " 383.19552453885353,\n",
              " 383.19552453885353,\n",
              " 383.19552453885353,\n",
              " 383.19552453885353,\n",
              " 383.19552453885353,\n",
              " 383.19552453885353,\n",
              " 383.19552453885353,\n",
              " 383.19552453885353,\n",
              " 383.19552453885353,\n",
              " 383.19552453885353,\n",
              " 383.19552453885353,\n",
              " 383.19552453885353,\n",
              " 383.19552453885353,\n",
              " 383.19552453885353,\n",
              " 383.19552453885353,\n",
              " 383.19552453885353,\n",
              " 383.19552453885353,\n",
              " 383.19552453885353,\n",
              " 383.19552453885353,\n",
              " 383.19552453885353,\n",
              " 392.5366367533668,\n",
              " 390.1879490864706,\n",
              " 400.56941617049785,\n",
              " 399.6655598394415,\n",
              " 397.51817271390416,\n",
              " 401.6485654043693,\n",
              " 399.4534149405953,\n",
              " 404.8392408387558,\n",
              " 404.3440724258523,\n",
              " 408.8896191917672,\n",
              " 408.4809312736145,\n",
              " 407.3926647108701,\n",
              " 409.4015992536087,\n",
              " 430.7226933365535,\n",
              " 442.9113576725944,\n",
              " 460.93472233422415,\n",
              " 501.51946273812314,\n",
              " 503.75667167018355,\n",
              " 508.7505870765618,\n",
              " 537.3465346162778,\n",
              " 592.2275030105233,\n",
              " 569.7789616915763,\n",
              " 602.7755931675283,\n",
              " 646.823466341158,\n",
              " 629.0867015687384,\n",
              " 669.1120689863419,\n",
              " 688.5429032496738,\n",
              " 684.7032400034259,\n",
              " 698.9418066476774,\n",
              " 703.6886731428264,\n",
              " 719.6500432523214,\n",
              " 725.4293432811929,\n",
              " 734.1225058213888,\n",
              " 749.1623829715825,\n",
              " 751.4348733962975,\n",
              " 763.988344348614,\n",
              " 759.3005080583683,\n",
              " 762.4828002156996,\n",
              " 774.9507502879198,\n",
              " 769.1227443844809,\n",
              " 781.4068281856871,\n",
              " 777.7039293899145,\n",
              " 783.5383461326978,\n",
              " 784.3754854506462]"
            ]
          },
          "metadata": {
            "tags": []
          },
          "execution_count": 31
        }
      ]
    },
    {
      "cell_type": "markdown",
      "metadata": {
        "id": "rs8BExkUE4AV",
        "colab_type": "text"
      },
      "source": [
        "# Training using world data"
      ]
    },
    {
      "cell_type": "code",
      "metadata": {
        "id": "NNc3I2RwMXNE",
        "colab_type": "code",
        "outputId": "69aabef8-4502-4101-a778-248be0c512b6",
        "colab": {
          "base_uri": "https://localhost:8080/",
          "height": 444
        }
      },
      "source": [
        "world_data = pd.read_csv('/content/drive/My Drive/Software_Engineering_Project/worldwide-covid-data.csv')\n",
        "world_data"
      ],
      "execution_count": 0,
      "outputs": [
        {
          "output_type": "execute_result",
          "data": {
            "text/html": [
              "<div>\n",
              "<style scoped>\n",
              "    .dataframe tbody tr th:only-of-type {\n",
              "        vertical-align: middle;\n",
              "    }\n",
              "\n",
              "    .dataframe tbody tr th {\n",
              "        vertical-align: top;\n",
              "    }\n",
              "\n",
              "    .dataframe thead th {\n",
              "        text-align: right;\n",
              "    }\n",
              "</style>\n",
              "<table border=\"1\" class=\"dataframe\">\n",
              "  <thead>\n",
              "    <tr style=\"text-align: right;\">\n",
              "      <th></th>\n",
              "      <th>iso_code</th>\n",
              "      <th>location</th>\n",
              "      <th>date</th>\n",
              "      <th>total_cases</th>\n",
              "      <th>new_cases</th>\n",
              "      <th>total_deaths</th>\n",
              "      <th>new_deaths</th>\n",
              "      <th>total_cases_per_million</th>\n",
              "      <th>new_cases_per_million</th>\n",
              "      <th>total_deaths_per_million</th>\n",
              "      <th>new_deaths_per_million</th>\n",
              "      <th>total_tests</th>\n",
              "      <th>new_tests</th>\n",
              "      <th>total_tests_per_thousand</th>\n",
              "      <th>new_tests_per_thousand</th>\n",
              "      <th>tests_units</th>\n",
              "    </tr>\n",
              "  </thead>\n",
              "  <tbody>\n",
              "    <tr>\n",
              "      <th>0</th>\n",
              "      <td>ABW</td>\n",
              "      <td>Aruba</td>\n",
              "      <td>2020-03-13</td>\n",
              "      <td>2</td>\n",
              "      <td>2</td>\n",
              "      <td>0</td>\n",
              "      <td>0</td>\n",
              "      <td>18.733</td>\n",
              "      <td>18.733</td>\n",
              "      <td>0.000</td>\n",
              "      <td>0.0</td>\n",
              "      <td>NaN</td>\n",
              "      <td>NaN</td>\n",
              "      <td>NaN</td>\n",
              "      <td>NaN</td>\n",
              "      <td>NaN</td>\n",
              "    </tr>\n",
              "    <tr>\n",
              "      <th>1</th>\n",
              "      <td>ABW</td>\n",
              "      <td>Aruba</td>\n",
              "      <td>2020-03-20</td>\n",
              "      <td>4</td>\n",
              "      <td>2</td>\n",
              "      <td>0</td>\n",
              "      <td>0</td>\n",
              "      <td>37.465</td>\n",
              "      <td>18.733</td>\n",
              "      <td>0.000</td>\n",
              "      <td>0.0</td>\n",
              "      <td>NaN</td>\n",
              "      <td>NaN</td>\n",
              "      <td>NaN</td>\n",
              "      <td>NaN</td>\n",
              "      <td>NaN</td>\n",
              "    </tr>\n",
              "    <tr>\n",
              "      <th>2</th>\n",
              "      <td>ABW</td>\n",
              "      <td>Aruba</td>\n",
              "      <td>2020-03-24</td>\n",
              "      <td>12</td>\n",
              "      <td>8</td>\n",
              "      <td>0</td>\n",
              "      <td>0</td>\n",
              "      <td>112.395</td>\n",
              "      <td>74.930</td>\n",
              "      <td>0.000</td>\n",
              "      <td>0.0</td>\n",
              "      <td>NaN</td>\n",
              "      <td>NaN</td>\n",
              "      <td>NaN</td>\n",
              "      <td>NaN</td>\n",
              "      <td>NaN</td>\n",
              "    </tr>\n",
              "    <tr>\n",
              "      <th>3</th>\n",
              "      <td>ABW</td>\n",
              "      <td>Aruba</td>\n",
              "      <td>2020-03-25</td>\n",
              "      <td>17</td>\n",
              "      <td>5</td>\n",
              "      <td>0</td>\n",
              "      <td>0</td>\n",
              "      <td>159.227</td>\n",
              "      <td>46.831</td>\n",
              "      <td>0.000</td>\n",
              "      <td>0.0</td>\n",
              "      <td>NaN</td>\n",
              "      <td>NaN</td>\n",
              "      <td>NaN</td>\n",
              "      <td>NaN</td>\n",
              "      <td>NaN</td>\n",
              "    </tr>\n",
              "    <tr>\n",
              "      <th>4</th>\n",
              "      <td>ABW</td>\n",
              "      <td>Aruba</td>\n",
              "      <td>2020-03-26</td>\n",
              "      <td>19</td>\n",
              "      <td>2</td>\n",
              "      <td>0</td>\n",
              "      <td>0</td>\n",
              "      <td>177.959</td>\n",
              "      <td>18.733</td>\n",
              "      <td>0.000</td>\n",
              "      <td>0.0</td>\n",
              "      <td>NaN</td>\n",
              "      <td>NaN</td>\n",
              "      <td>NaN</td>\n",
              "      <td>NaN</td>\n",
              "      <td>NaN</td>\n",
              "    </tr>\n",
              "    <tr>\n",
              "      <th>...</th>\n",
              "      <td>...</td>\n",
              "      <td>...</td>\n",
              "      <td>...</td>\n",
              "      <td>...</td>\n",
              "      <td>...</td>\n",
              "      <td>...</td>\n",
              "      <td>...</td>\n",
              "      <td>...</td>\n",
              "      <td>...</td>\n",
              "      <td>...</td>\n",
              "      <td>...</td>\n",
              "      <td>...</td>\n",
              "      <td>...</td>\n",
              "      <td>...</td>\n",
              "      <td>...</td>\n",
              "      <td>...</td>\n",
              "    </tr>\n",
              "    <tr>\n",
              "      <th>12446</th>\n",
              "      <td>ZWE</td>\n",
              "      <td>Zimbabwe</td>\n",
              "      <td>2020-04-18</td>\n",
              "      <td>24</td>\n",
              "      <td>0</td>\n",
              "      <td>3</td>\n",
              "      <td>0</td>\n",
              "      <td>1.615</td>\n",
              "      <td>0.000</td>\n",
              "      <td>0.202</td>\n",
              "      <td>0.0</td>\n",
              "      <td>NaN</td>\n",
              "      <td>NaN</td>\n",
              "      <td>NaN</td>\n",
              "      <td>NaN</td>\n",
              "      <td>NaN</td>\n",
              "    </tr>\n",
              "    <tr>\n",
              "      <th>12447</th>\n",
              "      <td>ZWE</td>\n",
              "      <td>Zimbabwe</td>\n",
              "      <td>2020-04-19</td>\n",
              "      <td>25</td>\n",
              "      <td>1</td>\n",
              "      <td>3</td>\n",
              "      <td>0</td>\n",
              "      <td>1.682</td>\n",
              "      <td>0.067</td>\n",
              "      <td>0.202</td>\n",
              "      <td>0.0</td>\n",
              "      <td>NaN</td>\n",
              "      <td>NaN</td>\n",
              "      <td>NaN</td>\n",
              "      <td>NaN</td>\n",
              "      <td>NaN</td>\n",
              "    </tr>\n",
              "    <tr>\n",
              "      <th>12448</th>\n",
              "      <td>ZWE</td>\n",
              "      <td>Zimbabwe</td>\n",
              "      <td>2020-04-20</td>\n",
              "      <td>25</td>\n",
              "      <td>0</td>\n",
              "      <td>3</td>\n",
              "      <td>0</td>\n",
              "      <td>1.682</td>\n",
              "      <td>0.000</td>\n",
              "      <td>0.202</td>\n",
              "      <td>0.0</td>\n",
              "      <td>NaN</td>\n",
              "      <td>NaN</td>\n",
              "      <td>NaN</td>\n",
              "      <td>NaN</td>\n",
              "      <td>NaN</td>\n",
              "    </tr>\n",
              "    <tr>\n",
              "      <th>12449</th>\n",
              "      <td>ZWE</td>\n",
              "      <td>Zimbabwe</td>\n",
              "      <td>2020-04-21</td>\n",
              "      <td>25</td>\n",
              "      <td>0</td>\n",
              "      <td>3</td>\n",
              "      <td>0</td>\n",
              "      <td>1.682</td>\n",
              "      <td>0.000</td>\n",
              "      <td>0.202</td>\n",
              "      <td>0.0</td>\n",
              "      <td>NaN</td>\n",
              "      <td>NaN</td>\n",
              "      <td>NaN</td>\n",
              "      <td>NaN</td>\n",
              "      <td>NaN</td>\n",
              "    </tr>\n",
              "    <tr>\n",
              "      <th>12450</th>\n",
              "      <td>ZWE</td>\n",
              "      <td>Zimbabwe</td>\n",
              "      <td>2020-04-22</td>\n",
              "      <td>28</td>\n",
              "      <td>3</td>\n",
              "      <td>3</td>\n",
              "      <td>0</td>\n",
              "      <td>1.884</td>\n",
              "      <td>0.202</td>\n",
              "      <td>0.202</td>\n",
              "      <td>0.0</td>\n",
              "      <td>NaN</td>\n",
              "      <td>NaN</td>\n",
              "      <td>NaN</td>\n",
              "      <td>NaN</td>\n",
              "      <td>NaN</td>\n",
              "    </tr>\n",
              "  </tbody>\n",
              "</table>\n",
              "<p>12451 rows × 16 columns</p>\n",
              "</div>"
            ],
            "text/plain": [
              "      iso_code  location  ... new_tests_per_thousand  tests_units\n",
              "0          ABW     Aruba  ...                    NaN          NaN\n",
              "1          ABW     Aruba  ...                    NaN          NaN\n",
              "2          ABW     Aruba  ...                    NaN          NaN\n",
              "3          ABW     Aruba  ...                    NaN          NaN\n",
              "4          ABW     Aruba  ...                    NaN          NaN\n",
              "...        ...       ...  ...                    ...          ...\n",
              "12446      ZWE  Zimbabwe  ...                    NaN          NaN\n",
              "12447      ZWE  Zimbabwe  ...                    NaN          NaN\n",
              "12448      ZWE  Zimbabwe  ...                    NaN          NaN\n",
              "12449      ZWE  Zimbabwe  ...                    NaN          NaN\n",
              "12450      ZWE  Zimbabwe  ...                    NaN          NaN\n",
              "\n",
              "[12451 rows x 16 columns]"
            ]
          },
          "metadata": {
            "tags": []
          },
          "execution_count": 33
        }
      ]
    },
    {
      "cell_type": "code",
      "metadata": {
        "id": "QB0YID4FBKwK",
        "colab_type": "code",
        "outputId": "4107dc25-956d-4bed-f7ed-5672c211429e",
        "colab": {
          "base_uri": "https://localhost:8080/",
          "height": 424
        }
      },
      "source": [
        "US_d = world_data[world_data['iso_code']=='USA']\n",
        "us_data = pd.DataFrame()\n",
        "us_data['Date'] = US_d['date']\n",
        "us_data['Confirmed'] = US_d['total_cases']\n",
        "us_data"
      ],
      "execution_count": 0,
      "outputs": [
        {
          "output_type": "execute_result",
          "data": {
            "text/html": [
              "<div>\n",
              "<style scoped>\n",
              "    .dataframe tbody tr th:only-of-type {\n",
              "        vertical-align: middle;\n",
              "    }\n",
              "\n",
              "    .dataframe tbody tr th {\n",
              "        vertical-align: top;\n",
              "    }\n",
              "\n",
              "    .dataframe thead th {\n",
              "        text-align: right;\n",
              "    }\n",
              "</style>\n",
              "<table border=\"1\" class=\"dataframe\">\n",
              "  <thead>\n",
              "    <tr style=\"text-align: right;\">\n",
              "      <th></th>\n",
              "      <th>Date</th>\n",
              "      <th>Confirmed</th>\n",
              "    </tr>\n",
              "  </thead>\n",
              "  <tbody>\n",
              "    <tr>\n",
              "      <th>11884</th>\n",
              "      <td>2019-12-31</td>\n",
              "      <td>0</td>\n",
              "    </tr>\n",
              "    <tr>\n",
              "      <th>11885</th>\n",
              "      <td>2020-01-01</td>\n",
              "      <td>0</td>\n",
              "    </tr>\n",
              "    <tr>\n",
              "      <th>11886</th>\n",
              "      <td>2020-01-02</td>\n",
              "      <td>0</td>\n",
              "    </tr>\n",
              "    <tr>\n",
              "      <th>11887</th>\n",
              "      <td>2020-01-03</td>\n",
              "      <td>0</td>\n",
              "    </tr>\n",
              "    <tr>\n",
              "      <th>11888</th>\n",
              "      <td>2020-01-04</td>\n",
              "      <td>0</td>\n",
              "    </tr>\n",
              "    <tr>\n",
              "      <th>...</th>\n",
              "      <td>...</td>\n",
              "      <td>...</td>\n",
              "    </tr>\n",
              "    <tr>\n",
              "      <th>11993</th>\n",
              "      <td>2020-04-18</td>\n",
              "      <td>702164</td>\n",
              "    </tr>\n",
              "    <tr>\n",
              "      <th>11994</th>\n",
              "      <td>2020-04-19</td>\n",
              "      <td>735086</td>\n",
              "    </tr>\n",
              "    <tr>\n",
              "      <th>11995</th>\n",
              "      <td>2020-04-20</td>\n",
              "      <td>759687</td>\n",
              "    </tr>\n",
              "    <tr>\n",
              "      <th>11996</th>\n",
              "      <td>2020-04-21</td>\n",
              "      <td>787752</td>\n",
              "    </tr>\n",
              "    <tr>\n",
              "      <th>11997</th>\n",
              "      <td>2020-04-22</td>\n",
              "      <td>825041</td>\n",
              "    </tr>\n",
              "  </tbody>\n",
              "</table>\n",
              "<p>114 rows × 2 columns</p>\n",
              "</div>"
            ],
            "text/plain": [
              "             Date  Confirmed\n",
              "11884  2019-12-31          0\n",
              "11885  2020-01-01          0\n",
              "11886  2020-01-02          0\n",
              "11887  2020-01-03          0\n",
              "11888  2020-01-04          0\n",
              "...           ...        ...\n",
              "11993  2020-04-18     702164\n",
              "11994  2020-04-19     735086\n",
              "11995  2020-04-20     759687\n",
              "11996  2020-04-21     787752\n",
              "11997  2020-04-22     825041\n",
              "\n",
              "[114 rows x 2 columns]"
            ]
          },
          "metadata": {
            "tags": []
          },
          "execution_count": 34
        }
      ]
    },
    {
      "cell_type": "code",
      "metadata": {
        "id": "ytspepGpCSnc",
        "colab_type": "code",
        "colab": {}
      },
      "source": [
        "X = us_data['Confirmed'].to_numpy()\n",
        "print(X.shape)\n",
        "X = np.trim_zeros(X)\n",
        "print(X.shape)\n",
        "# X"
      ],
      "execution_count": 0,
      "outputs": []
    },
    {
      "cell_type": "code",
      "metadata": {
        "id": "qyDy36EFDtwq",
        "colab_type": "code",
        "outputId": "69e37deb-f03d-4e7a-d05f-7010b2970739",
        "colab": {
          "base_uri": "https://localhost:8080/",
          "height": 34
        }
      },
      "source": [
        "window_size = 83\n",
        "X2 = np.array([0] * (window_size + 1))\n",
        "\n",
        "row = 0\n",
        "while(row < (X.shape[0] - window_size)):\n",
        "  # row = random.randrange(len(X) - window_size - 1)\n",
        "  temp = X[row:row+window_size+1].tolist()\n",
        "  temp = [float(item) for item in temp]\n",
        "  X2 = np.vstack((X2,temp)) \n",
        "  row = row + 1\n",
        "\n",
        "X2 = X2[1:,:]\n",
        "# print(X2)\n",
        "print(X2.shape)"
      ],
      "execution_count": 0,
      "outputs": [
        {
          "output_type": "stream",
          "text": [
            "(10, 84)\n"
          ],
          "name": "stdout"
        }
      ]
    },
    {
      "cell_type": "code",
      "metadata": {
        "id": "GGk1SUkEEBAd",
        "colab_type": "code",
        "colab": {}
      },
      "source": [
        "X_train = X2[:,0:window_size]\n",
        "y_train = X2[:,window_size]\n",
        "# print(X_train)\n",
        "# print(y_train)"
      ],
      "execution_count": 0,
      "outputs": []
    },
    {
      "cell_type": "code",
      "metadata": {
        "id": "r6fqWVlEF3B9",
        "colab_type": "code",
        "outputId": "7ebed2e1-88d5-4c7b-875c-8a0580cf77dc",
        "colab": {
          "base_uri": "https://localhost:8080/",
          "height": 34
        }
      },
      "source": [
        "model_reg = LinearRegression()\n",
        "model_reg.fit(X_train, y_train)"
      ],
      "execution_count": 0,
      "outputs": [
        {
          "output_type": "execute_result",
          "data": {
            "text/plain": [
              "LinearRegression(copy_X=True, fit_intercept=True, n_jobs=None, normalize=False)"
            ]
          },
          "metadata": {
            "tags": []
          },
          "execution_count": 48
        }
      ]
    },
    {
      "cell_type": "code",
      "metadata": {
        "id": "uzsiAcd8HREx",
        "colab_type": "code",
        "outputId": "6fc0465f-2474-4d91-ab60-30eab82954a5",
        "colab": {
          "base_uri": "https://localhost:8080/",
          "height": 139
        }
      },
      "source": [
        "X_test = final['Kerala']\n",
        "X_test = X_test['Confirmed'].to_numpy()\n",
        "print(X_test)\n",
        "print(X_test.shape)\n",
        "X_test = X_test.reshape((1,-1))\n",
        "print(X_test.shape)"
      ],
      "execution_count": 0,
      "outputs": [
        {
          "output_type": "stream",
          "text": [
            "[  1   1   2   3   3   3   3   3   3   3   3   3   3   3   3   3   3   3\n",
            "   3   3   3   3   3   3   3   3   3   3   3   3   3   3   3   3   3   3\n",
            "   3   3   8   9  15  17  17  19  19  22  23  26  27  27  28  40  52  67\n",
            "  95 109 118 137 176 182 202 234 241 265 286 295 306 314 327 336 345 357\n",
            " 364 374 376 379 387 388 395 396 400 402 408]\n",
            "(83,)\n",
            "(1, 83)\n"
          ],
          "name": "stdout"
        }
      ]
    },
    {
      "cell_type": "code",
      "metadata": {
        "id": "nlnsxJrHKPHB",
        "colab_type": "code",
        "outputId": "dae658bf-c94a-4941-8ca2-bef2eb1a5f51",
        "colab": {
          "base_uri": "https://localhost:8080/",
          "height": 34
        }
      },
      "source": [
        "prediction = model_reg.predict(X_test)\n",
        "prediction"
      ],
      "execution_count": 0,
      "outputs": [
        {
          "output_type": "execute_result",
          "data": {
            "text/plain": [
              "array([310743.30222823])"
            ]
          },
          "metadata": {
            "tags": []
          },
          "execution_count": 52
        }
      ]
    }
  ]
}